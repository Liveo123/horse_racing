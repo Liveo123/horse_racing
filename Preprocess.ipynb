{
 "cells": [
  {
   "cell_type": "code",
   "execution_count": 1,
   "outputs": [],
   "source": [
    "import pandas as pd\n",
    "import numpy as np\n",
    "import matplotlib.pyplot as plt\n",
    "import seaborn as sns\n",
    "\n",
    "from sklearn.neighbors import KNeighborsClassifier\n",
    "from sklearn.model_selection import train_test_split\n",
    "from sklearn.model_selection import cross_val_score\n",
    "from sklearn.model_selection import learning_curve\n",
    "from sklearn.impute import SimpleImputer\n",
    "from sklearn.preprocessing import LabelEncoder, OneHotEncoder\n",
    "\n",
    "from scipy import stats\n",
    "\n",
    "import os\n",
    "import math"
   ],
   "metadata": {
    "collapsed": false,
    "pycharm": {
     "name": "#%%\n"
    }
   }
  },
  {
   "cell_type": "code",
   "execution_count": 2,
   "outputs": [
    {
     "name": "stdout",
     "output_type": "stream",
     "text": [
      "/home/poblivsig/Dropbox/horses2\n"
     ]
    }
   ],
   "source": [
    "# Do this after connecting to Jupyter Notebook and setting up the server.  Use:\n",
    "# jupyter notebook --ip=127.0.0.1 --port=8888\n",
    "\n",
    "os.chdir('/home/poblivsig/Dropbox/horses2')\n",
    "print(os.getcwd())"
   ],
   "metadata": {
    "collapsed": false,
    "pycharm": {
     "name": "#%%\n"
    }
   }
  },
  {
   "cell_type": "code",
   "execution_count": 3,
   "outputs": [
    {
     "name": "stderr",
     "output_type": "stream",
     "text": [
      "/home/poblivsig/Dropbox/horses2/venv/lib/python3.8/site-packages/IPython/core/interactiveshell.py:3146: DtypeWarning: Columns (27) have mixed types.Specify dtype option on import or set low_memory=False.\n",
      "  has_raised = await self.run_ast_nodes(code_ast.body, cell_name,\n"
     ]
    }
   ],
   "source": [
    "## Grab the datasets and merge them.\n",
    "df = pd.read_csv('data/horses_2020.csv')\n",
    "dfr = pd.read_csv('data/races_2020.csv')\n",
    "df_copy = df.copy()\n",
    "dfn = df.merge(dfr, on='rid')\n"
   ],
   "metadata": {
    "collapsed": false,
    "pycharm": {
     "name": "#%%\n"
    }
   }
  },
  {
   "cell_type": "code",
   "execution_count": 4,
   "outputs": [],
   "source": [
    "# TODO: Missing data\n",
    "# Total: 149513\n",
    "# saddle: 6\n",
    "# Overweight: 144613\n",
    "# outHandicap: 148159\n",
    "# RPR: 72446\n",
    "# TR: 101769\n",
    "# OR: 69976"
   ],
   "metadata": {
    "collapsed": false,
    "pycharm": {
     "name": "#%% Get info about races\n"
    }
   }
  },
  {
   "cell_type": "code",
   "execution_count": 5,
   "outputs": [],
   "source": [
    "# TODO: Remove irrelevant data\n",
    "# positionL (is it there) - Doesn't exist\n",
    "# weightSt - We have kilos\n",
    "# weightLb - We have kilos\n",
    "# distance - Like 7f - Given in metres in 'metric'\n",
    "# band - No idea what it is.\n",
    "# prize - Given in different currencies\n",
    "# currency - See above\n",
    "# prizes - List of prizes - Combined (added together) in prize\n",
    "# winningTime - Not relevant\n",
    "# rclass - Contains word 'Class' at start.  Repeated as number in 'class'\n",
    "# condition - Repeated as number in 'cond'\n",
    "\n",
    "dfn = dfn.drop(['weightSt',\n",
    "                'weightLb',\n",
    "                'distance',\n",
    "                'band',\n",
    "                'prize',\n",
    "                'currency',\n",
    "                'prizes',\n",
    "                'winningTime',\n",
    "                'rclass',\n",
    "                'condition',\n",
    "                'time',\n",
    "                'date'], axis=1)"
   ],
   "metadata": {
    "collapsed": false,
    "pycharm": {
     "name": "#%%\n"
    }
   }
  },
  {
   "cell_type": "code",
   "execution_count": 6,
   "outputs": [],
   "source": [
    "## Get rid of invalid values on certain rows.\n",
    "\n",
    "# For the following attributes, there are some that are nan.  Replace with ''\n",
    "values = {'trainerName': '', 'jockeyName': '', 'headGear': '', 'mother': '', 'gfather': ''}\n",
    "dfn.fillna(value=values, inplace=True)"
   ],
   "metadata": {
    "collapsed": false,
    "pycharm": {
     "name": "#%%\n"
    }
   }
  },
  {
   "cell_type": "code",
   "execution_count": 7,
   "outputs": [
    {
     "name": "stdout",
     "output_type": "stream",
     "text": [
      "hurdles processed = 0\n",
      "hurdles processed = 1000\n",
      "hurdles processed = 2000\n",
      "hurdles processed = 3000\n",
      "hurdles processed = 4000\n",
      "hurdles processed = 5000\n",
      "hurdles processed = 6000\n",
      "hurdles processed = 7000\n",
      "hurdles processed = 8000\n",
      "hurdles processed = 9000\n",
      "hurdles processed = 10000\n",
      "hurdles processed = 11000\n",
      "hurdles processed = 12000\n",
      "hurdles processed = 13000\n",
      "hurdles processed = 14000\n",
      "hurdles processed = 15000\n",
      "hurdles processed = 16000\n",
      "hurdles processed = 17000\n",
      "hurdles processed = 18000\n",
      "hurdles processed = 19000\n",
      "hurdles processed = 20000\n",
      "hurdles processed = 21000\n",
      "hurdles processed = 22000\n",
      "hurdles processed = 23000\n",
      "hurdles processed = 24000\n",
      "hurdles processed = 25000\n",
      "hurdles processed = 26000\n",
      "hurdles processed = 27000\n",
      "hurdles processed = 28000\n",
      "hurdles processed = 29000\n",
      "hurdles processed = 30000\n",
      "hurdles processed = 31000\n",
      "hurdles processed = 32000\n",
      "hurdles processed = 33000\n",
      "hurdles processed = 34000\n",
      "hurdles processed = 35000\n",
      "hurdles processed = 36000\n",
      "hurdles processed = 37000\n",
      "hurdles processed = 38000\n",
      "hurdles processed = 39000\n",
      "hurdles processed = 40000\n",
      "hurdles processed = 41000\n",
      "hurdles processed = 42000\n",
      "hurdles processed = 43000\n",
      "hurdles processed = 44000\n",
      "hurdles processed = 45000\n",
      "hurdles processed = 46000\n",
      "hurdles processed = 47000\n",
      "hurdles processed = 48000\n",
      "hurdles processed = 49000\n",
      "hurdles processed = 50000\n",
      "hurdles processed = 51000\n",
      "hurdles processed = 52000\n",
      "hurdles processed = 53000\n",
      "hurdles processed = 54000\n",
      "hurdles processed = 55000\n",
      "hurdles processed = 56000\n",
      "hurdles processed = 57000\n",
      "hurdles processed = 58000\n",
      "hurdles processed = 59000\n",
      "hurdles processed = 60000\n",
      "hurdles processed = 61000\n",
      "hurdles processed = 62000\n",
      "hurdles processed = 63000\n",
      "hurdles processed = 64000\n",
      "hurdles processed = 65000\n",
      "hurdles processed = 66000\n",
      "hurdles processed = 67000\n",
      "hurdles processed = 68000\n",
      "hurdles processed = 69000\n",
      "hurdles processed = 70000\n",
      "hurdles processed = 71000\n",
      "hurdles processed = 72000\n",
      "hurdles processed = 73000\n",
      "hurdles processed = 74000\n",
      "hurdles processed = 75000\n",
      "hurdles processed = 76000\n",
      "hurdles processed = 77000\n",
      "hurdles processed = 78000\n",
      "hurdles processed = 79000\n",
      "hurdles processed = 80000\n",
      "hurdles processed = 81000\n",
      "hurdles processed = 82000\n",
      "hurdles processed = 83000\n",
      "hurdles processed = 84000\n",
      "hurdles processed = 85000\n",
      "hurdles processed = 86000\n",
      "hurdles processed = 87000\n",
      "hurdles processed = 88000\n",
      "hurdles processed = 89000\n",
      "hurdles processed = 90000\n",
      "hurdles processed = 91000\n",
      "hurdles processed = 92000\n",
      "hurdles processed = 93000\n",
      "hurdles processed = 94000\n",
      "hurdles processed = 95000\n",
      "hurdles processed = 96000\n",
      "hurdles processed = 97000\n",
      "hurdles processed = 98000\n",
      "hurdles processed = 99000\n",
      "hurdles processed = 100000\n",
      "hurdles processed = 101000\n",
      "hurdles processed = 102000\n",
      "hurdles processed = 103000\n",
      "hurdles processed = 104000\n",
      "hurdles processed = 105000\n",
      "hurdles processed = 106000\n",
      "hurdles processed = 107000\n",
      "hurdles processed = 108000\n",
      "hurdles processed = 109000\n",
      "hurdles processed = 110000\n",
      "hurdles processed = 111000\n",
      "hurdles processed = 112000\n",
      "hurdles processed = 113000\n",
      "hurdles processed = 114000\n",
      "hurdles processed = 115000\n",
      "hurdles processed = 116000\n",
      "hurdles processed = 117000\n",
      "hurdles processed = 118000\n",
      "hurdles processed = 119000\n",
      "hurdles processed = 120000\n",
      "hurdles processed = 121000\n",
      "hurdles processed = 122000\n",
      "hurdles processed = 123000\n",
      "hurdles processed = 124000\n",
      "hurdles processed = 125000\n",
      "hurdles processed = 126000\n",
      "hurdles processed = 127000\n",
      "hurdles processed = 128000\n",
      "hurdles processed = 129000\n",
      "hurdles processed = 130000\n",
      "hurdles processed = 131000\n",
      "hurdles processed = 132000\n",
      "hurdles processed = 133000\n",
      "hurdles processed = 134000\n",
      "hurdles processed = 135000\n",
      "hurdles processed = 136000\n",
      "hurdles processed = 137000\n",
      "hurdles processed = 138000\n",
      "hurdles processed = 139000\n",
      "hurdles processed = 140000\n",
      "hurdles processed = 141000\n",
      "hurdles processed = 142000\n",
      "hurdles processed = 143000\n",
      "hurdles processed = 144000\n",
      "hurdles processed = 145000\n",
      "hurdles processed = 146000\n",
      "hurdles processed = 147000\n",
      "hurdles processed = 148000\n",
      "hurdles processed = 149000\n"
     ]
    }
   ],
   "source": [
    "## Let's do some encoding\n",
    "\n",
    "label_encoder = LabelEncoder()\n",
    "dfn['horseNameEnc'] = label_encoder.fit_transform(dfn['horseName'])\n",
    "dfn['trainerNameEnc'] = label_encoder.fit_transform(dfn['trainerName'])\n",
    "dfn['jockeyNameEnc'] = label_encoder.fit_transform(dfn['jockeyName'])\n",
    "dfn['headGearEnc'] = label_encoder.fit_transform(dfn['headGear'])\n",
    "dfn['fatherEnc'] = label_encoder.fit_transform(dfn['father'])\n",
    "dfn['motherEnc'] = label_encoder.fit_transform(dfn['mother'])\n",
    "dfn['gfatherEnc'] = label_encoder.fit_transform(dfn['gfather'])\n",
    "dfn['countryCodeEnc'] = label_encoder.fit_transform(dfn['countryCode'])\n",
    "dfn['courseEnc'] = label_encoder.fit_transform(dfn['course'])\n",
    "dfn['titleEnc'] = label_encoder.fit_transform(dfn['title'])\n",
    "\n",
    "# Need to keep correct order for age\n",
    "label_mapping = {'2yo':0, '2yo+':1, '3yo':2, '3yo+':3, '2-3yo':4, '4yo':5, '4yo+':6, '3-4yo':7, '5yo':8, \\\n",
    "                 '5yo+':9, '4-5yo':10, '3-5yo':11, '6yo+':12, '3-6yo':13, '4-6yo':14,  '5-6yo':15, '4-7yo':16, \\\n",
    "                 '5-7yo':17, '4-8yo':18,'8yo+':20, '9yo+':21, '10yo+':22}\n",
    "\n",
    "##%%\n",
    "## Split hurdles column by fences and hurdles\n",
    "\n",
    "## Create boolean series showing whether hurdles column contains the word\n",
    "## 'hurdle'.\n",
    "hurdles = dfn['hurdles'].str.contains('hurdle')\n",
    "\n",
    "# Create new series containing 0 if no hurdle or grab the number if available.\n",
    "# hurdle_count = pd.Series(dtype='int64')\n",
    "hurdle_count = np.array([], dtype=int)\n",
    "\n",
    "for count, hurdle in enumerate(hurdles):\n",
    "    if hurdle and isinstance(dfn['hurdles'][count], str):\n",
    "        ## Grab the number - i.e. first 'word' in string\n",
    "       # and convert to int\n",
    "        number = int(dfn['hurdles'][count].split(' ')[0])\n",
    "    else:\n",
    "        number = 0\n",
    "    hurdle_count = np.append(hurdle_count, number)\n",
    "\n",
    "    # hurdle_count = hurdle_count.set_value(count, number)\n",
    "    if count % 1000 == 0:\n",
    "        print(f'hurdles processed = {count}')\n",
    "\n",
    "## Add Series to our dataset\n",
    "dfn['hurdles_cnt'] = hurdle_count.tolist()"
   ],
   "metadata": {
    "collapsed": false,
    "pycharm": {
     "name": "#%%\n"
    }
   }
  },
  {
   "cell_type": "code",
   "execution_count": 8,
   "outputs": [],
   "source": [
    "# Convert dist to floats\n",
    "dfn['dist'] = pd.to_numeric(df['dist'], errors='coerce')"
   ],
   "metadata": {
    "collapsed": false,
    "pycharm": {
     "name": "#%%\n"
    }
   }
  },
  {
   "cell_type": "code",
   "execution_count": 9,
   "outputs": [],
   "source": [
    "# Convert nans in relevant columns to 0\n",
    "dfn['overWeight'] = dfn['overWeight'].fillna(0)\n",
    "dfn['outHandicap'] = dfn['outHandicap'].fillna(0)"
   ],
   "metadata": {
    "collapsed": false,
    "pycharm": {
     "name": "#%%\n"
    }
   }
  },
  {
   "cell_type": "code",
   "execution_count": 10,
   "outputs": [],
   "source": [
    "## Create boolean series showing whether hurdles column contains the word\n",
    "## 'hurdle'.\n",
    "# dfn['first'] = np.where(dfn.position == 1, True, False)"
   ],
   "metadata": {
    "collapsed": false,
    "pycharm": {
     "name": "#%%\n"
    }
   }
  },
  {
   "cell_type": "code",
   "execution_count": 11,
   "outputs": [],
   "source": [
    "# # Create new series containing 0 if no hurdle or grab the number if available.\n",
    "# ## Create boolean series showing whether hurdles column contains the word\n",
    "# ## 'fence'.\n",
    "# hurdle = dfn['hurdles'].str.contains('hurdles')\n",
    "#\n",
    "# # Create new series containing 0 if no hurdle or grab the number if available.\n",
    "# # hurdle_count = pd.Series(dtype='int64')\n",
    "# hurdle_count = np.array([], dtype=int)\n",
    "# # hurdle_count = pd.Series(dtype='int64')\n",
    "#\n",
    "# for count, hurdle in enumerate(hurdles):\n",
    "#     if hurdle and isinstance(dfn['hurdles'][count], str):\n",
    "#         ## Grab the number - i.e. first 'word' in string\n",
    "#        # and convert to int\n",
    "#         number = int(dfn['hurdles'][count].split(' ')[0])\n",
    "#     else:\n",
    "#         number = 0\n",
    "#     hurdle_count = np.append(hurdle_count, number)\n",
    "#\n",
    "#     # hurdle_count = hurdle_count.set_value(count, number)\n",
    "#     if count % 1000 == 0:\n",
    "#         print(f'hurdles processed = {count}')\n",
    "#\n",
    "# ## Add Series to our dataset\n",
    "# dfn['hurdles_cnt'] = hurdle_count.tolist()"
   ],
   "metadata": {
    "collapsed": false,
    "pycharm": {
     "name": "#%%\n"
    }
   }
  },
  {
   "cell_type": "code",
   "execution_count": 12,
   "outputs": [
    {
     "name": "stdout",
     "output_type": "stream",
     "text": [
      "fences processed = 0\n",
      "fences processed = 1000\n",
      "fences processed = 2000\n",
      "fences processed = 3000\n",
      "fences processed = 4000\n",
      "fences processed = 5000\n",
      "fences processed = 6000\n",
      "fences processed = 7000\n",
      "fences processed = 8000\n",
      "fences processed = 9000\n",
      "fences processed = 10000\n",
      "fences processed = 11000\n",
      "fences processed = 12000\n",
      "fences processed = 13000\n",
      "fences processed = 14000\n",
      "fences processed = 15000\n",
      "fences processed = 16000\n",
      "fences processed = 17000\n",
      "fences processed = 18000\n",
      "fences processed = 19000\n",
      "fences processed = 20000\n",
      "fences processed = 21000\n",
      "fences processed = 22000\n",
      "fences processed = 23000\n",
      "fences processed = 24000\n",
      "fences processed = 25000\n",
      "fences processed = 26000\n",
      "fences processed = 27000\n",
      "fences processed = 28000\n",
      "fences processed = 29000\n",
      "fences processed = 30000\n",
      "fences processed = 31000\n",
      "fences processed = 32000\n",
      "fences processed = 33000\n",
      "fences processed = 34000\n",
      "fences processed = 35000\n",
      "fences processed = 36000\n",
      "fences processed = 37000\n",
      "fences processed = 38000\n",
      "fences processed = 39000\n",
      "fences processed = 40000\n",
      "fences processed = 41000\n",
      "fences processed = 42000\n",
      "fences processed = 43000\n",
      "fences processed = 44000\n",
      "fences processed = 45000\n",
      "fences processed = 46000\n",
      "fences processed = 47000\n",
      "fences processed = 48000\n",
      "fences processed = 49000\n",
      "fences processed = 50000\n",
      "fences processed = 51000\n",
      "fences processed = 52000\n",
      "fences processed = 53000\n",
      "fences processed = 54000\n",
      "fences processed = 55000\n",
      "fences processed = 56000\n",
      "fences processed = 57000\n",
      "fences processed = 58000\n",
      "fences processed = 59000\n",
      "fences processed = 60000\n",
      "fences processed = 61000\n",
      "fences processed = 62000\n",
      "fences processed = 63000\n",
      "fences processed = 64000\n",
      "fences processed = 65000\n",
      "fences processed = 66000\n",
      "fences processed = 67000\n",
      "fences processed = 68000\n",
      "fences processed = 69000\n",
      "fences processed = 70000\n",
      "fences processed = 71000\n",
      "fences processed = 72000\n",
      "fences processed = 73000\n",
      "fences processed = 74000\n",
      "fences processed = 75000\n",
      "fences processed = 76000\n",
      "fences processed = 77000\n",
      "fences processed = 78000\n",
      "fences processed = 79000\n",
      "fences processed = 80000\n",
      "fences processed = 81000\n",
      "fences processed = 82000\n",
      "fences processed = 83000\n",
      "fences processed = 84000\n",
      "fences processed = 85000\n",
      "fences processed = 86000\n",
      "fences processed = 87000\n",
      "fences processed = 88000\n",
      "fences processed = 89000\n",
      "fences processed = 90000\n",
      "fences processed = 91000\n",
      "fences processed = 92000\n",
      "fences processed = 93000\n",
      "fences processed = 94000\n",
      "fences processed = 95000\n",
      "fences processed = 96000\n",
      "fences processed = 97000\n",
      "fences processed = 98000\n",
      "fences processed = 99000\n",
      "fences processed = 100000\n",
      "fences processed = 101000\n",
      "fences processed = 102000\n",
      "fences processed = 103000\n",
      "fences processed = 104000\n",
      "fences processed = 105000\n",
      "fences processed = 106000\n",
      "fences processed = 107000\n",
      "fences processed = 108000\n",
      "fences processed = 109000\n",
      "fences processed = 110000\n",
      "fences processed = 111000\n",
      "fences processed = 112000\n",
      "fences processed = 113000\n",
      "fences processed = 114000\n",
      "fences processed = 115000\n",
      "fences processed = 116000\n",
      "fences processed = 117000\n",
      "fences processed = 118000\n",
      "fences processed = 119000\n",
      "fences processed = 120000\n",
      "fences processed = 121000\n",
      "fences processed = 122000\n",
      "fences processed = 123000\n",
      "fences processed = 124000\n",
      "fences processed = 125000\n",
      "fences processed = 126000\n",
      "fences processed = 127000\n",
      "fences processed = 128000\n",
      "fences processed = 129000\n",
      "fences processed = 130000\n",
      "fences processed = 131000\n",
      "fences processed = 132000\n",
      "fences processed = 133000\n",
      "fences processed = 134000\n",
      "fences processed = 135000\n",
      "fences processed = 136000\n",
      "fences processed = 137000\n",
      "fences processed = 138000\n",
      "fences processed = 139000\n",
      "fences processed = 140000\n",
      "fences processed = 141000\n",
      "fences processed = 142000\n",
      "fences processed = 143000\n",
      "fences processed = 144000\n",
      "fences processed = 145000\n",
      "fences processed = 146000\n",
      "fences processed = 147000\n",
      "fences processed = 148000\n",
      "fences processed = 149000\n"
     ]
    }
   ],
   "source": [
    "## Create boolean series showing whether fences column contains the word\n",
    "## 'fence'.\n",
    "fences = dfn['hurdles'].str.contains('fences')\n",
    "\n",
    "# Create new series containing 0 if no hurdle or grab the number if available.\n",
    "# hurdle_count = pd.Series(dtype='int64')\n",
    "fence_count = np.array([], dtype=int)\n",
    "\n",
    "for count, fence in enumerate(fences):\n",
    "    if fence and isinstance(dfn['hurdles'][count], str):\n",
    "        ## Grab the number - i.e. first 'word' in string\n",
    "        # and convert to int\n",
    "        number = int(dfn['hurdles'][count].split(' ')[0])\n",
    "    else:\n",
    "        number = 0\n",
    "    fence_count = np.append(fence_count, number)\n",
    "\n",
    "    # fence_count = fence_count.set_value(count, number)\n",
    "    if count % 1000 == 0:\n",
    "        print(f'fences processed = {count}')\n",
    "\n",
    "## Add Series to our dataset\n",
    "dfn['fences_cnt'] = fence_count.tolist()"
   ],
   "metadata": {
    "collapsed": false,
    "pycharm": {
     "name": "#%%\n"
    }
   }
  },
  {
   "cell_type": "code",
   "execution_count": 13,
   "outputs": [],
   "source": [
    "# Get rid of all the columns that have been encoded\n",
    "dfn = dfn.drop(['horseName'], axis=1)\n",
    "dfn = dfn.drop(['trainerName'], axis=1)\n",
    "dfn = dfn.drop(['jockeyName'], axis=1)\n",
    "dfn = dfn.drop(['headGear'], axis=1)\n",
    "dfn = dfn.drop(['father'], axis=1)\n",
    "dfn = dfn.drop(['mother'], axis=1)\n",
    "dfn = dfn.drop(['gfather'], axis=1)\n",
    "dfn = dfn.drop(['countryCode'], axis=1)\n",
    "dfn = dfn.drop(['course'], axis=1)\n",
    "dfn = dfn.drop(['title'], axis=1)\n",
    "dfn = dfn.drop(['hurdles'], axis=1)\n",
    "dfn = dfn.drop(['ages'], axis=1)\n",
    "dfn = dfn.drop(['positionL'], axis=1)\n",
    "dfn = dfn.drop(['price'], axis=1)\n",
    "dfn = dfn.drop(['position'],axis=1)"
   ],
   "metadata": {
    "collapsed": false,
    "pycharm": {
     "name": "#%%\n"
    }
   }
  },
  {
   "cell_type": "code",
   "execution_count": 14,
   "outputs": [],
   "source": [
    "# Set missing data on relevant columns to their mean\n",
    "# imputer = SimpleImputer(missing_values=np.nan, strategy='mean')\n",
    "# imputer = imputer.fit(dfn) #X[:, 1:])\n",
    "# dfn = imputer.transform(dfn) #X[:, 1:])\n",
    "imp = SimpleImputer(missing_values=math.nan, strategy=\"mean\")\n",
    "dfn[\"OR\"] = imp.fit_transform(dfn[[\"OR\"]]).ravel()\n",
    "dfn[\"RPR\"] = imp.fit_transform(dfn[[\"RPR\"]]).ravel()\n",
    "dfn[\"TR\"] = imp.fit_transform(dfn[[\"TR\"]]).ravel()\n",
    "dfn[\"dist\"] = imp.fit_transform(dfn[[\"dist\"]]).ravel()\n",
    "dfn[\"saddle\"] = imp.fit_transform(dfn[[\"saddle\"]]).ravel()"
   ],
   "metadata": {
    "collapsed": false,
    "pycharm": {
     "name": "#%%\n"
    }
   }
  },
  {
   "cell_type": "code",
   "execution_count": 15,
   "outputs": [],
   "source": [
    "## Save result to disk\n",
    "dfn.to_csv('data/proc_races.csv')"
   ],
   "metadata": {
    "collapsed": false,
    "pycharm": {
     "name": "#%%\n"
    }
   }
  },
  {
   "cell_type": "code",
   "execution_count": null,
   "outputs": [],
   "source": [
    "# TODO: Remove all handicap rows. Will try with first and then without\n",
    "# These are horses that run in handicap\n",
    "# races and have weight added.  The skill here is in guessing if the\n",
    "# handicap is too much or too little."
   ],
   "metadata": {
    "collapsed": false,
    "pycharm": {
     "name": "#%%\n"
    }
   }
  },
  {
   "cell_type": "code",
   "execution_count": null,
   "outputs": [],
   "source": [
    "######################### HELPER CODE #################################"
   ],
   "metadata": {
    "collapsed": false,
    "pycharm": {
     "name": "#%%\n"
    }
   }
  },
  {
   "cell_type": "code",
   "execution_count": null,
   "outputs": [],
   "source": [
    "## Get info about horses\n",
    "print(f'Shape\\n\\n{dfn.shape}')\n",
    "print(f'Columns\\n\\n{dfn.columns}')\n",
    "print(f'dtypes\\n\\n{dfn.dtypes}')\n",
    "pd.set_option('display.max_columns', None)\n",
    "print(f'Description\\n\\n{dfn.describe()}')\n",
    "print(dfn.sample(n=1))\n",
    "pd.set_option('display.max_columns', 5)"
   ],
   "metadata": {
    "collapsed": false,
    "pycharm": {
     "name": "#%%\n"
    }
   }
  },
  {
   "cell_type": "code",
   "execution_count": 82,
   "outputs": [
    {
     "name": "stdout",
     "output_type": "stream",
     "text": [
      "mother Values\n"
     ]
    },
    {
     "ename": "AttributeError",
     "evalue": "'DataFrame' object has no attribute 'mother'",
     "output_type": "error",
     "traceback": [
      "\u001B[0;31m---------------------------------------------------------------------------\u001B[0m",
      "\u001B[0;31mAttributeError\u001B[0m                            Traceback (most recent call last)",
      "\u001B[0;32m<ipython-input-82-bfb7f6ca53b1>\u001B[0m in \u001B[0;36m<module>\u001B[0;34m\u001B[0m\n\u001B[1;32m     14\u001B[0m \u001B[0;34m\u001B[0m\u001B[0m\n\u001B[1;32m     15\u001B[0m \u001B[0mprint\u001B[0m\u001B[0;34m(\u001B[0m\u001B[0;34m\"mother Values\"\u001B[0m\u001B[0;34m)\u001B[0m\u001B[0;34m\u001B[0m\u001B[0;34m\u001B[0m\u001B[0m\n\u001B[0;32m---> 16\u001B[0;31m \u001B[0mprint\u001B[0m\u001B[0;34m(\u001B[0m\u001B[0;34mf'No of values = {len(dfn.mother.unique())}'\u001B[0m\u001B[0;34m)\u001B[0m\u001B[0;34m\u001B[0m\u001B[0;34m\u001B[0m\u001B[0m\n\u001B[0m\u001B[1;32m     17\u001B[0m \u001B[0;34m\u001B[0m\u001B[0m\n\u001B[1;32m     18\u001B[0m \u001B[0mprint\u001B[0m\u001B[0;34m(\u001B[0m\u001B[0;34m\"father Values\"\u001B[0m\u001B[0;34m)\u001B[0m\u001B[0;34m\u001B[0m\u001B[0;34m\u001B[0m\u001B[0m\n",
      "\u001B[0;32m~/Dropbox/horses2/venv/lib/python3.8/site-packages/pandas/core/generic.py\u001B[0m in \u001B[0;36m__getattr__\u001B[0;34m(self, name)\u001B[0m\n\u001B[1;32m   5139\u001B[0m             \u001B[0;32mif\u001B[0m \u001B[0mself\u001B[0m\u001B[0;34m.\u001B[0m\u001B[0m_info_axis\u001B[0m\u001B[0;34m.\u001B[0m\u001B[0m_can_hold_identifiers_and_holds_name\u001B[0m\u001B[0;34m(\u001B[0m\u001B[0mname\u001B[0m\u001B[0;34m)\u001B[0m\u001B[0;34m:\u001B[0m\u001B[0;34m\u001B[0m\u001B[0;34m\u001B[0m\u001B[0m\n\u001B[1;32m   5140\u001B[0m                 \u001B[0;32mreturn\u001B[0m \u001B[0mself\u001B[0m\u001B[0;34m[\u001B[0m\u001B[0mname\u001B[0m\u001B[0;34m]\u001B[0m\u001B[0;34m\u001B[0m\u001B[0;34m\u001B[0m\u001B[0m\n\u001B[0;32m-> 5141\u001B[0;31m             \u001B[0;32mreturn\u001B[0m \u001B[0mobject\u001B[0m\u001B[0;34m.\u001B[0m\u001B[0m__getattribute__\u001B[0m\u001B[0;34m(\u001B[0m\u001B[0mself\u001B[0m\u001B[0;34m,\u001B[0m \u001B[0mname\u001B[0m\u001B[0;34m)\u001B[0m\u001B[0;34m\u001B[0m\u001B[0;34m\u001B[0m\u001B[0m\n\u001B[0m\u001B[1;32m   5142\u001B[0m \u001B[0;34m\u001B[0m\u001B[0m\n\u001B[1;32m   5143\u001B[0m     \u001B[0;32mdef\u001B[0m \u001B[0m__setattr__\u001B[0m\u001B[0;34m(\u001B[0m\u001B[0mself\u001B[0m\u001B[0;34m,\u001B[0m \u001B[0mname\u001B[0m\u001B[0;34m:\u001B[0m \u001B[0mstr\u001B[0m\u001B[0;34m,\u001B[0m \u001B[0mvalue\u001B[0m\u001B[0;34m)\u001B[0m \u001B[0;34m->\u001B[0m \u001B[0;32mNone\u001B[0m\u001B[0;34m:\u001B[0m\u001B[0;34m\u001B[0m\u001B[0;34m\u001B[0m\u001B[0m\n",
      "\u001B[0;31mAttributeError\u001B[0m: 'DataFrame' object has no attribute 'mother'"
     ]
    }
   ],
   "source": [
    "## Show unique values for columns missing data\n",
    "# print(\"headGear Values\")\n",
    "# print(dfn.headGear.unique())\n",
    "# print(f'No of values = {len(dfn.headGear.unique())}')\n",
    "\n",
    "# print(\"horseName Values\")\n",
    "# print(f'No of values = {len(dfn.horseName.unique())}')\n",
    "\n",
    "# print(\"trainerName Values\")\n",
    "# print(f'No of values = {len(dfn.trainerName.unique())}')\n",
    "\n",
    "# print(\"jockeyName Values\")\n",
    "# print(f'No of values = {len(dfn.jockeyName.unique())}')\n",
    "\n",
    "print(\"mother Values\")\n",
    "print(f'No of values = {len(dfn.mother.unique())}')\n",
    "\n",
    "print(\"father Values\")\n",
    "print(f'No of values = {len(dfn.father.unique())}')\n",
    "\n",
    "print(\"ages Values\")\n",
    "print(dfn.ages.unique())\n",
    "print(f'No of values = {len(dfn.ages.unique())}')\n",
    "\n",
    "print(\"hurdles Values\")\n",
    "print(dfn.hurdles.unique())\n",
    "print(f'No of values = {len(dfn.hurdles.unique())}')\n"
   ],
   "metadata": {
    "collapsed": false,
    "pycharm": {
     "name": "#%%\n"
    }
   }
  },
  {
   "cell_type": "code",
   "execution_count": null,
   "outputs": [],
   "source": [
    "# Check the trainerName for numbers.  This checks column for floats and outputs the values\n",
    "for count, trainer in enumerate(dfn['trainerName']):\n",
    "    if isinstance(trainer, float):\n",
    "        print(trainer)"
   ],
   "metadata": {
    "collapsed": false,
    "pycharm": {
     "name": "#%%\n"
    }
   }
  },
  {
   "cell_type": "code",
   "execution_count": 65,
   "outputs": [],
   "source": [
    "# Check whether positions contains all numbers\n",
    "for count, pos in enumerate(dfn['position']):\n",
    "    if math.isnan(pos):\n",
    "    # if not isinstance(pos, int):\n",
    "        print(pos)"
   ],
   "metadata": {
    "collapsed": false,
    "pycharm": {
     "name": "#%%\n"
    }
   }
  },
  {
   "cell_type": "code",
   "execution_count": 50,
   "outputs": [],
   "source": [
    "for (columnName, _) in dfn.iteritems():\n",
    "    for count, pos in enumerate(dfn[columnName]):\n",
    "        if pos > 10000000:\n",
    "        # if math.isinf(pos):\n",
    "        # if not isinstance(pos, int) and not isinstance(pos, float):\n",
    "            print(columnName, pos)\n"
   ],
   "metadata": {
    "collapsed": false,
    "pycharm": {
     "name": "#%%\n"
    }
   }
  },
  {
   "cell_type": "code",
   "execution_count": null,
   "outputs": [],
   "source": [],
   "metadata": {
    "collapsed": false,
    "pycharm": {
     "name": "#%%\n"
    }
   }
  }
 ],
 "metadata": {
  "kernelspec": {
   "name": "pycharm-f2a26db1",
   "language": "python",
   "display_name": "PyCharm (horses2)"
  },
  "language_info": {
   "codemirror_mode": {
    "name": "ipython",
    "version": 2
   },
   "file_extension": ".py",
   "mimetype": "text/x-python",
   "name": "python",
   "nbconvert_exporter": "python",
   "pygments_lexer": "ipython2",
   "version": "2.7.6"
  },
  "pycharm": {
   "stem_cell": {
    "cell_type": "raw",
    "source": [
     "# horses.csv\n",
     "\n",
     "# rid - Race id;\n",
     "# horseName - Horse name;\n",
     "# age - Horse age;\n",
     "# saddle - Saddle # where horse starts;\n",
     "# decimalPrice - 1/Decimal price;\n",
     "# isFav - Was horse favorite before start? Can be more then one fav in a race;\n",
     "# trainerName - Trainer name;\n",
     "# jockeyName - Jockey name;\n",
     "# position - Finishing position, 40 if horse didn't finish;\n",
     "# dist - how far a horse has finished from a winner;\n",
     "# overWeight - Overweight code;\n",
     "# outHandicap - Handicap;\n",
     "# headGear - Head gear code;\n",
     "# RPR - RP Rating;\n",
     "# TR - Topspeed;\n",
     "# OR - Official Rating\n",
     "# father - Horse's Father name;\n",
     "# mother - Horse's Mother name;\n",
     "# gfather - Horse's Grandfather name;\n",
     "# runners - Runners total;\n",
     "# margin - Sum of decimalPrices for the race;\n",
     "# course - Course of the race, country code in brackets, AW means All Weather, no brackets means UK;\n",
     "# time - Time of the race in hh:mm format, London TZ;\n",
     "# date - Date of the race;\n",
     "# title - Title of the race;\n",
     "# rclass - Race class;\n",
     "# band - Band;\n",
     "# ages - Ages allowed\n",
     "# distance - Distance;\n",
     "# condition - Surface condition;\n",
     "# hurdles - Hurdles, their type and amount;\n",
     "# prizes - Places prizes;\n",
     "# winningTime - Best time shown;\n",
     "# prize - Prizes total (sum of prizes column);\n",
     "# metric - Distance in meters;\n",
     "# countryCode - Country of the race;\n",
     "# ncond - condition type (created from condition feature);\n",
     "# class - class type (created from rclass feature).\n"
    ],
    "metadata": {
     "collapsed": false
    }
   }
  }
 },
 "nbformat": 4,
 "nbformat_minor": 0
}
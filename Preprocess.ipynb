{
 "cells": [
  {
   "cell_type": "code",
   "execution_count": 1,
   "outputs": [],
   "source": [
    "import pandas as pd\n",
    "import numpy as np\n",
    "import matplotlib.pyplot as plt\n",
    "import seaborn as sns\n",
    "\n",
    "from sklearn.neighbors import KNeighborsClassifier\n",
    "from sklearn.model_selection import train_test_split\n",
    "from sklearn.model_selection import cross_val_score\n",
    "from sklearn.model_selection import learning_curve\n",
    "from sklearn.impute import SimpleImputer\n",
    "from sklearn.preprocessing import LabelEncoder, OneHotEncoder\n",
    "\n",
    "from scipy import stats\n",
    "\n",
    "import os\n",
    "import math"
   ],
   "metadata": {
    "collapsed": false,
    "pycharm": {
     "name": "#%%\n"
    }
   }
  },
  {
   "cell_type": "code",
   "execution_count": 1,
   "outputs": [
    {
     "ename": "NameError",
     "evalue": "name 'os' is not defined",
     "output_type": "error",
     "traceback": [
      "\u001B[0;31m---------------------------------------------------------------------------\u001B[0m",
      "\u001B[0;31mNameError\u001B[0m                                 Traceback (most recent call last)",
      "\u001B[0;32m<ipython-input-1-11df6ee614af>\u001B[0m in \u001B[0;36m<module>\u001B[0;34m\u001B[0m\n\u001B[1;32m      2\u001B[0m \u001B[0;31m# jupyter notebook --ip=127.0.0.1 --port=8888\u001B[0m\u001B[0;34m\u001B[0m\u001B[0;34m\u001B[0m\u001B[0;34m\u001B[0m\u001B[0m\n\u001B[1;32m      3\u001B[0m \u001B[0;34m\u001B[0m\u001B[0m\n\u001B[0;32m----> 4\u001B[0;31m \u001B[0mos\u001B[0m\u001B[0;34m.\u001B[0m\u001B[0mchdir\u001B[0m\u001B[0;34m(\u001B[0m\u001B[0;34m'/home/poblivsig/Dropbox/horses2'\u001B[0m\u001B[0;34m)\u001B[0m\u001B[0;34m\u001B[0m\u001B[0;34m\u001B[0m\u001B[0m\n\u001B[0m\u001B[1;32m      5\u001B[0m \u001B[0mprint\u001B[0m\u001B[0;34m(\u001B[0m\u001B[0mos\u001B[0m\u001B[0;34m.\u001B[0m\u001B[0mgetcwd\u001B[0m\u001B[0;34m(\u001B[0m\u001B[0;34m)\u001B[0m\u001B[0;34m)\u001B[0m\u001B[0;34m\u001B[0m\u001B[0;34m\u001B[0m\u001B[0m\n\u001B[1;32m      6\u001B[0m \u001B[0;34m\u001B[0m\u001B[0m\n",
      "\u001B[0;31mNameError\u001B[0m: name 'os' is not defined"
     ]
    }
   ],
   "source": [
    "# Do this after connecting to Jupyter Notebook and setting up the server.  Use:\n",
    "# jupyter notebook --ip=127.0.0.1 --port=8888\n",
    "\n",
    "os.chdir('/home/poblivsig/Dropbox/horses2')\n",
    "print(os.getcwd())"
   ],
   "metadata": {
    "collapsed": false,
    "pycharm": {
     "name": "#%%\n"
    }
   }
  },
  {
   "cell_type": "code",
   "execution_count": null,
   "outputs": [],
   "source": [
    "## Grab the datasets and merge them.\n",
    "df = pd.read_csv('data/horses_2020.csv')\n",
    "dfr = pd.read_csv('data/races_2020.csv')\n",
    "df_copy = df.copy()\n",
    "dfn = df.merge(dfr, on='rid')\n"
   ],
   "metadata": {
    "collapsed": false,
    "pycharm": {
     "name": "#%%\n"
    }
   }
  },
  {
   "cell_type": "code",
   "execution_count": 2,
   "outputs": [],
   "source": [
    "# TODO: Missing data\n",
    "# Total: 149513\n",
    "# saddle: 6\n",
    "# Overweight: 144613\n",
    "# outHandicap: 148159\n",
    "# RPR: 72446\n",
    "# TR: 101769\n",
    "# OR: 69976"
   ],
   "metadata": {
    "collapsed": false,
    "pycharm": {
     "name": "#%% Get info about races\n"
    }
   }
  },
  {
   "cell_type": "code",
   "execution_count": 3,
   "outputs": [
    {
     "ename": "NameError",
     "evalue": "name 'dfn' is not defined",
     "output_type": "error",
     "traceback": [
      "\u001B[0;31m---------------------------------------------------------------------------\u001B[0m",
      "\u001B[0;31mNameError\u001B[0m                                 Traceback (most recent call last)",
      "\u001B[0;32m<ipython-input-3-7e8bd59d2118>\u001B[0m in \u001B[0;36m<module>\u001B[0;34m\u001B[0m\n\u001B[1;32m     12\u001B[0m \u001B[0;31m# condition - Repeated as number in 'cond'\u001B[0m\u001B[0;34m\u001B[0m\u001B[0;34m\u001B[0m\u001B[0;34m\u001B[0m\u001B[0m\n\u001B[1;32m     13\u001B[0m \u001B[0;34m\u001B[0m\u001B[0m\n\u001B[0;32m---> 14\u001B[0;31m dfn = dfn.drop(['weightSt',\n\u001B[0m\u001B[1;32m     15\u001B[0m                 \u001B[0;34m'weightLb'\u001B[0m\u001B[0;34m,\u001B[0m\u001B[0;34m\u001B[0m\u001B[0;34m\u001B[0m\u001B[0m\n\u001B[1;32m     16\u001B[0m                 \u001B[0;34m'distance'\u001B[0m\u001B[0;34m,\u001B[0m\u001B[0;34m\u001B[0m\u001B[0;34m\u001B[0m\u001B[0m\n",
      "\u001B[0;31mNameError\u001B[0m: name 'dfn' is not defined"
     ]
    }
   ],
   "source": [
    "# TODO: Remove irrelevant data\n",
    "# positionL (is it there) - Doesn't exist\n",
    "# weightSt - We have kilos\n",
    "# weightLb - We have kilos\n",
    "# distance - Like 7f - Given in metres in 'metric'\n",
    "# band - No idea what it is.\n",
    "# prize - Given in different currencies\n",
    "# currency - See above\n",
    "# prizes - List of prizes - Combined (added together) in prize\n",
    "# winningTime - Not relevant\n",
    "# rclass - Contains word 'Class' at start.  Repeated as number in 'class'\n",
    "# condition - Repeated as number in 'cond'\n",
    "\n",
    "dfn = dfn.drop(['weightSt',\n",
    "                'weightLb',\n",
    "                'distance',\n",
    "                'band',\n",
    "                'prize',\n",
    "                'currency',\n",
    "                'prizes',\n",
    "                'winningTime',\n",
    "                'rclass',\n",
    "                'condition',\n",
    "                'time',\n",
    "                'date'], axis=1)"
   ],
   "metadata": {
    "collapsed": false,
    "pycharm": {
     "name": "#%%\n"
    }
   }
  },
  {
   "cell_type": "code",
   "execution_count": 4,
   "outputs": [
    {
     "ename": "NameError",
     "evalue": "name 'dfn' is not defined",
     "output_type": "error",
     "traceback": [
      "\u001B[0;31m---------------------------------------------------------------------------\u001B[0m",
      "\u001B[0;31mNameError\u001B[0m                                 Traceback (most recent call last)",
      "\u001B[0;32m<ipython-input-4-c18b2b1fbd23>\u001B[0m in \u001B[0;36m<module>\u001B[0;34m\u001B[0m\n\u001B[1;32m      3\u001B[0m \u001B[0;31m# For the following attributes, there are some that are nan.  Replace with ''\u001B[0m\u001B[0;34m\u001B[0m\u001B[0;34m\u001B[0m\u001B[0;34m\u001B[0m\u001B[0m\n\u001B[1;32m      4\u001B[0m \u001B[0mvalues\u001B[0m \u001B[0;34m=\u001B[0m \u001B[0;34m{\u001B[0m\u001B[0;34m'trainerName'\u001B[0m\u001B[0;34m:\u001B[0m \u001B[0;34m''\u001B[0m\u001B[0;34m,\u001B[0m \u001B[0;34m'jockeyName'\u001B[0m\u001B[0;34m:\u001B[0m \u001B[0;34m''\u001B[0m\u001B[0;34m,\u001B[0m \u001B[0;34m'headGear'\u001B[0m\u001B[0;34m:\u001B[0m \u001B[0;34m''\u001B[0m\u001B[0;34m,\u001B[0m \u001B[0;34m'mother'\u001B[0m\u001B[0;34m:\u001B[0m \u001B[0;34m''\u001B[0m\u001B[0;34m,\u001B[0m \u001B[0;34m'gfather'\u001B[0m\u001B[0;34m:\u001B[0m \u001B[0;34m''\u001B[0m\u001B[0;34m}\u001B[0m\u001B[0;34m\u001B[0m\u001B[0;34m\u001B[0m\u001B[0m\n\u001B[0;32m----> 5\u001B[0;31m \u001B[0mdfn\u001B[0m\u001B[0;34m.\u001B[0m\u001B[0mfillna\u001B[0m\u001B[0;34m(\u001B[0m\u001B[0mvalue\u001B[0m\u001B[0;34m=\u001B[0m\u001B[0mvalues\u001B[0m\u001B[0;34m,\u001B[0m \u001B[0minplace\u001B[0m\u001B[0;34m=\u001B[0m\u001B[0;32mTrue\u001B[0m\u001B[0;34m)\u001B[0m\u001B[0;34m\u001B[0m\u001B[0;34m\u001B[0m\u001B[0m\n\u001B[0m\u001B[1;32m      6\u001B[0m \u001B[0;34m\u001B[0m\u001B[0m\n",
      "\u001B[0;31mNameError\u001B[0m: name 'dfn' is not defined"
     ]
    }
   ],
   "source": [
    "## Get rid of invalid values on certain rows.\n",
    "\n",
    "# For the following attributes, there are some that are nan.  Replace with ''\n",
    "values = {'trainerName': '', 'jockeyName': '', 'headGear': '', 'mother': '', 'gfather': ''}\n",
    "dfn.fillna(value=values, inplace=True)"
   ],
   "metadata": {
    "collapsed": false,
    "pycharm": {
     "name": "#%%\n"
    }
   }
  },
  {
   "cell_type": "code",
   "execution_count": 5,
   "outputs": [
    {
     "ename": "NameError",
     "evalue": "name 'LabelEncoder' is not defined",
     "output_type": "error",
     "traceback": [
      "\u001B[0;31m---------------------------------------------------------------------------\u001B[0m",
      "\u001B[0;31mNameError\u001B[0m                                 Traceback (most recent call last)",
      "\u001B[0;32m<ipython-input-5-1f3d181680a5>\u001B[0m in \u001B[0;36m<module>\u001B[0;34m\u001B[0m\n\u001B[1;32m      1\u001B[0m \u001B[0;31m## Let's do some encoding\u001B[0m\u001B[0;34m\u001B[0m\u001B[0;34m\u001B[0m\u001B[0;34m\u001B[0m\u001B[0m\n\u001B[1;32m      2\u001B[0m \u001B[0;34m\u001B[0m\u001B[0m\n\u001B[0;32m----> 3\u001B[0;31m \u001B[0mlabel_encoder\u001B[0m \u001B[0;34m=\u001B[0m \u001B[0mLabelEncoder\u001B[0m\u001B[0;34m(\u001B[0m\u001B[0;34m)\u001B[0m\u001B[0;34m\u001B[0m\u001B[0;34m\u001B[0m\u001B[0m\n\u001B[0m\u001B[1;32m      4\u001B[0m \u001B[0mdfn\u001B[0m\u001B[0;34m[\u001B[0m\u001B[0;34m'horseNameEnc'\u001B[0m\u001B[0;34m]\u001B[0m \u001B[0;34m=\u001B[0m \u001B[0mlabel_encoder\u001B[0m\u001B[0;34m.\u001B[0m\u001B[0mfit_transform\u001B[0m\u001B[0;34m(\u001B[0m\u001B[0mdfn\u001B[0m\u001B[0;34m[\u001B[0m\u001B[0;34m'horseName'\u001B[0m\u001B[0;34m]\u001B[0m\u001B[0;34m)\u001B[0m\u001B[0;34m\u001B[0m\u001B[0;34m\u001B[0m\u001B[0m\n\u001B[1;32m      5\u001B[0m \u001B[0mdfn\u001B[0m\u001B[0;34m[\u001B[0m\u001B[0;34m'trainerNameEnc'\u001B[0m\u001B[0;34m]\u001B[0m \u001B[0;34m=\u001B[0m \u001B[0mlabel_encoder\u001B[0m\u001B[0;34m.\u001B[0m\u001B[0mfit_transform\u001B[0m\u001B[0;34m(\u001B[0m\u001B[0mdfn\u001B[0m\u001B[0;34m[\u001B[0m\u001B[0;34m'trainerName'\u001B[0m\u001B[0;34m]\u001B[0m\u001B[0;34m)\u001B[0m\u001B[0;34m\u001B[0m\u001B[0;34m\u001B[0m\u001B[0m\n",
      "\u001B[0;31mNameError\u001B[0m: name 'LabelEncoder' is not defined"
     ]
    }
   ],
   "source": [
    "## Let's do some encoding\n",
    "\n",
    "label_encoder = LabelEncoder()\n",
    "dfn['horseNameEnc'] = label_encoder.fit_transform(dfn['horseName'])\n",
    "dfn['trainerNameEnc'] = label_encoder.fit_transform(dfn['trainerName'])\n",
    "dfn['jockeyNameEnc'] = label_encoder.fit_transform(dfn['jockeyName'])\n",
    "dfn['headGearEnc'] = label_encoder.fit_transform(dfn['headGear'])\n",
    "dfn['fatherEnc'] = label_encoder.fit_transform(dfn['father'])\n",
    "dfn['motherEnc'] = label_encoder.fit_transform(dfn['mother'])\n",
    "dfn['gfatherEnc'] = label_encoder.fit_transform(dfn['gfather'])\n",
    "dfn['countryCodeEnc'] = label_encoder.fit_transform(dfn['countryCode'])\n",
    "dfn['courseEnc'] = label_encoder.fit_transform(dfn['course'])\n",
    "dfn['titleEnc'] = label_encoder.fit_transform(dfn['title'])\n",
    "\n",
    "# Need to keep correct order for age\n",
    "label_mapping = {'2yo':0, '2yo+':1, '3yo':2, '3yo+':3, '2-3yo':4, '4yo':5, '4yo+':6, '3-4yo':7, '5yo':8, \\\n",
    "                 '5yo+':9, '4-5yo':10, '3-5yo':11, '6yo+':12, '3-6yo':13, '4-6yo':14,  '5-6yo':15, '4-7yo':16, \\\n",
    "                 '5-7yo':17, '4-8yo':18,'8yo+':20, '9yo+':21, '10yo+':22}\n",
    "\n",
    "##%%\n",
    "## Split hurdles column by fences and hurdles\n",
    "\n",
    "## Create boolean series showing whether hurdles column contains the word\n",
    "## 'hurdle'.\n",
    "hurdles = dfn['hurdles'].str.contains('hurdle')\n",
    "\n",
    "# Create new series containing 0 if no hurdle or grab the number if available.\n",
    "# hurdle_count = pd.Series(dtype='int64')\n",
    "hurdle_count = np.array([], dtype=int)\n",
    "\n",
    "for count, hurdle in enumerate(hurdles):\n",
    "    if hurdle and isinstance(dfn['hurdles'][count], str):\n",
    "        ## Grab the number - i.e. first 'word' in string\n",
    "       # and convert to int\n",
    "        number = int(dfn['hurdles'][count].split(' ')[0])\n",
    "    else:\n",
    "        number = 0\n",
    "    hurdle_count = np.append(hurdle_count, number)\n",
    "\n",
    "    # hurdle_count = hurdle_count.set_value(count, number)\n",
    "    if count % 1000 == 0:\n",
    "        print(f'hurdles processed = {count}')\n",
    "\n",
    "## Add Series to our dataset\n",
    "dfn['hurdles_cnt'] = hurdle_count.tolist()"
   ],
   "metadata": {
    "collapsed": false,
    "pycharm": {
     "name": "#%%\n"
    }
   }
  },
  {
   "cell_type": "code",
   "execution_count": 6,
   "outputs": [
    {
     "ename": "NameError",
     "evalue": "name 'pd' is not defined",
     "output_type": "error",
     "traceback": [
      "\u001B[0;31m---------------------------------------------------------------------------\u001B[0m",
      "\u001B[0;31mNameError\u001B[0m                                 Traceback (most recent call last)",
      "\u001B[0;32m<ipython-input-6-7b01b3272e96>\u001B[0m in \u001B[0;36m<module>\u001B[0;34m\u001B[0m\n\u001B[1;32m      1\u001B[0m \u001B[0;31m# Convert dist to floats\u001B[0m\u001B[0;34m\u001B[0m\u001B[0;34m\u001B[0m\u001B[0;34m\u001B[0m\u001B[0m\n\u001B[0;32m----> 2\u001B[0;31m \u001B[0mdfn\u001B[0m\u001B[0;34m[\u001B[0m\u001B[0;34m'dist'\u001B[0m\u001B[0;34m]\u001B[0m \u001B[0;34m=\u001B[0m \u001B[0mpd\u001B[0m\u001B[0;34m.\u001B[0m\u001B[0mto_numeric\u001B[0m\u001B[0;34m(\u001B[0m\u001B[0mdf\u001B[0m\u001B[0;34m[\u001B[0m\u001B[0;34m'dist'\u001B[0m\u001B[0;34m]\u001B[0m\u001B[0;34m,\u001B[0m \u001B[0merrors\u001B[0m\u001B[0;34m=\u001B[0m\u001B[0;34m'coerce'\u001B[0m\u001B[0;34m)\u001B[0m\u001B[0;34m\u001B[0m\u001B[0;34m\u001B[0m\u001B[0m\n\u001B[0m\u001B[1;32m      3\u001B[0m \u001B[0;34m\u001B[0m\u001B[0m\n",
      "\u001B[0;31mNameError\u001B[0m: name 'pd' is not defined"
     ]
    }
   ],
   "source": [
    "# Convert dist to floats\n",
    "dfn['dist'] = pd.to_numeric(df['dist'], errors='coerce')"
   ],
   "metadata": {
    "collapsed": false,
    "pycharm": {
     "name": "#%%\n"
    }
   }
  },
  {
   "cell_type": "code",
   "execution_count": 7,
   "outputs": [
    {
     "ename": "NameError",
     "evalue": "name 'dfn' is not defined",
     "output_type": "error",
     "traceback": [
      "\u001B[0;31m---------------------------------------------------------------------------\u001B[0m",
      "\u001B[0;31mNameError\u001B[0m                                 Traceback (most recent call last)",
      "\u001B[0;32m<ipython-input-7-1cad46639d7c>\u001B[0m in \u001B[0;36m<module>\u001B[0;34m\u001B[0m\n\u001B[1;32m      1\u001B[0m \u001B[0;31m# Convert nans in relevant columns to 0\u001B[0m\u001B[0;34m\u001B[0m\u001B[0;34m\u001B[0m\u001B[0;34m\u001B[0m\u001B[0m\n\u001B[0;32m----> 2\u001B[0;31m \u001B[0mdfn\u001B[0m\u001B[0;34m[\u001B[0m\u001B[0;34m'overWeight'\u001B[0m\u001B[0;34m]\u001B[0m \u001B[0;34m=\u001B[0m \u001B[0mdfn\u001B[0m\u001B[0;34m[\u001B[0m\u001B[0;34m'overWeight'\u001B[0m\u001B[0;34m]\u001B[0m\u001B[0;34m.\u001B[0m\u001B[0mfillna\u001B[0m\u001B[0;34m(\u001B[0m\u001B[0;36m0\u001B[0m\u001B[0;34m)\u001B[0m\u001B[0;34m\u001B[0m\u001B[0;34m\u001B[0m\u001B[0m\n\u001B[0m\u001B[1;32m      3\u001B[0m \u001B[0mdfn\u001B[0m\u001B[0;34m[\u001B[0m\u001B[0;34m'outHandicap'\u001B[0m\u001B[0;34m]\u001B[0m \u001B[0;34m=\u001B[0m \u001B[0mdfn\u001B[0m\u001B[0;34m[\u001B[0m\u001B[0;34m'outHandicap'\u001B[0m\u001B[0;34m]\u001B[0m\u001B[0;34m.\u001B[0m\u001B[0mfillna\u001B[0m\u001B[0;34m(\u001B[0m\u001B[0;36m0\u001B[0m\u001B[0;34m)\u001B[0m\u001B[0;34m\u001B[0m\u001B[0;34m\u001B[0m\u001B[0m\n\u001B[1;32m      4\u001B[0m \u001B[0;34m\u001B[0m\u001B[0m\n",
      "\u001B[0;31mNameError\u001B[0m: name 'dfn' is not defined"
     ]
    }
   ],
   "source": [
    "# Convert nans in relevant columns to 0\n",
    "dfn['overWeight'] = dfn['overWeight'].fillna(0)\n",
    "dfn['outHandicap'] = dfn['outHandicap'].fillna(0)"
   ],
   "metadata": {
    "collapsed": false,
    "pycharm": {
     "name": "#%%\n"
    }
   }
  },
  {
   "cell_type": "code",
   "execution_count": 10,
   "outputs": [],
   "source": [
    "## Create boolean series showing whether hurdles column contains the word\n",
    "## 'hurdle'.\n",
    "# dfn['first'] = np.where(dfn.position == 1, True, False)"
   ],
   "metadata": {
    "collapsed": false,
    "pycharm": {
     "name": "#%%\n"
    }
   }
  },
  {
   "cell_type": "code",
   "execution_count": 11,
   "outputs": [],
   "source": [
    "# # Create new series containing 0 if no hurdle or grab the number if available.\n",
    "# ## Create boolean series showing whether hurdles column contains the word\n",
    "# ## 'fence'.\n",
    "# hurdle = dfn['hurdles'].str.contains('hurdles')\n",
    "#\n",
    "# # Create new series containing 0 if no hurdle or grab the number if available.\n",
    "# # hurdle_count = pd.Series(dtype='int64')\n",
    "# hurdle_count = np.array([], dtype=int)\n",
    "# # hurdle_count = pd.Series(dtype='int64')\n",
    "#\n",
    "# for count, hurdle in enumerate(hurdles):\n",
    "#     if hurdle and isinstance(dfn['hurdles'][count], str):\n",
    "#         ## Grab the number - i.e. first 'word' in string\n",
    "#        # and convert to int\n",
    "#         number = int(dfn['hurdles'][count].split(' ')[0])\n",
    "#     else:\n",
    "#         number = 0\n",
    "#     hurdle_count = np.append(hurdle_count, number)\n",
    "#\n",
    "#     # hurdle_count = hurdle_count.set_value(count, number)\n",
    "#     if count % 1000 == 0:\n",
    "#         print(f'hurdles processed = {count}')\n",
    "#\n",
    "# ## Add Series to our dataset\n",
    "# dfn['hurdles_cnt'] = hurdle_count.tolist()"
   ],
   "metadata": {
    "collapsed": false,
    "pycharm": {
     "name": "#%%\n"
    }
   }
  },
  {
   "cell_type": "code",
   "execution_count": 8,
   "outputs": [
    {
     "ename": "NameError",
     "evalue": "name 'dfn' is not defined",
     "output_type": "error",
     "traceback": [
      "\u001B[0;31m---------------------------------------------------------------------------\u001B[0m",
      "\u001B[0;31mNameError\u001B[0m                                 Traceback (most recent call last)",
      "\u001B[0;32m<ipython-input-8-e9ab88b3f81b>\u001B[0m in \u001B[0;36m<module>\u001B[0;34m\u001B[0m\n\u001B[1;32m      1\u001B[0m \u001B[0;31m## Create boolean series showing whether fences column contains the word\u001B[0m\u001B[0;34m\u001B[0m\u001B[0;34m\u001B[0m\u001B[0;34m\u001B[0m\u001B[0m\n\u001B[1;32m      2\u001B[0m \u001B[0;31m## 'fence'.\u001B[0m\u001B[0;34m\u001B[0m\u001B[0;34m\u001B[0m\u001B[0;34m\u001B[0m\u001B[0m\n\u001B[0;32m----> 3\u001B[0;31m \u001B[0mfences\u001B[0m \u001B[0;34m=\u001B[0m \u001B[0mdfn\u001B[0m\u001B[0;34m[\u001B[0m\u001B[0;34m'hurdles'\u001B[0m\u001B[0;34m]\u001B[0m\u001B[0;34m.\u001B[0m\u001B[0mstr\u001B[0m\u001B[0;34m.\u001B[0m\u001B[0mcontains\u001B[0m\u001B[0;34m(\u001B[0m\u001B[0;34m'fences'\u001B[0m\u001B[0;34m)\u001B[0m\u001B[0;34m\u001B[0m\u001B[0;34m\u001B[0m\u001B[0m\n\u001B[0m\u001B[1;32m      4\u001B[0m \u001B[0;34m\u001B[0m\u001B[0m\n\u001B[1;32m      5\u001B[0m \u001B[0;31m# Create new series containing 0 if no hurdle or grab the number if available.\u001B[0m\u001B[0;34m\u001B[0m\u001B[0;34m\u001B[0m\u001B[0;34m\u001B[0m\u001B[0m\n",
      "\u001B[0;31mNameError\u001B[0m: name 'dfn' is not defined"
     ]
    }
   ],
   "source": [
    "## Create boolean series showing whether fences column contains the word\n",
    "## 'fence'.\n",
    "fences = dfn['hurdles'].str.contains('fences')\n",
    "\n",
    "# Create new series containing 0 if no hurdle or grab the number if available.\n",
    "# hurdle_count = pd.Series(dtype='int64')\n",
    "fence_count = np.array([], dtype=int)\n",
    "\n",
    "for count, fence in enumerate(fences):\n",
    "    if fence and isinstance(dfn['hurdles'][count], str):\n",
    "        ## Grab the number - i.e. first 'word' in string\n",
    "        # and convert to int\n",
    "        number = int(dfn['hurdles'][count].split(' ')[0])\n",
    "    else:\n",
    "        number = 0\n",
    "    fence_count = np.append(fence_count, number)\n",
    "\n",
    "    # fence_count = fence_count.set_value(count, number)\n",
    "    if count % 1000 == 0:\n",
    "        print(f'fences processed = {count}')\n",
    "\n",
    "## Add Series to our dataset\n",
    "dfn['fences_cnt'] = fence_count.tolist()"
   ],
   "metadata": {
    "collapsed": false,
    "pycharm": {
     "name": "#%%\n"
    }
   }
  },
  {
   "cell_type": "code",
   "execution_count": 9,
   "outputs": [
    {
     "ename": "NameError",
     "evalue": "name 'dfn' is not defined",
     "output_type": "error",
     "traceback": [
      "\u001B[0;31m---------------------------------------------------------------------------\u001B[0m",
      "\u001B[0;31mNameError\u001B[0m                                 Traceback (most recent call last)",
      "\u001B[0;32m<ipython-input-9-6dec25bfc9ba>\u001B[0m in \u001B[0;36m<module>\u001B[0;34m\u001B[0m\n\u001B[1;32m      1\u001B[0m \u001B[0;31m# Get rid of all the columns that have been encoded\u001B[0m\u001B[0;34m\u001B[0m\u001B[0;34m\u001B[0m\u001B[0;34m\u001B[0m\u001B[0m\n\u001B[0;32m----> 2\u001B[0;31m \u001B[0mdfn\u001B[0m \u001B[0;34m=\u001B[0m \u001B[0mdfn\u001B[0m\u001B[0;34m.\u001B[0m\u001B[0mdrop\u001B[0m\u001B[0;34m(\u001B[0m\u001B[0;34m[\u001B[0m\u001B[0;34m'horseName'\u001B[0m\u001B[0;34m]\u001B[0m\u001B[0;34m,\u001B[0m \u001B[0maxis\u001B[0m\u001B[0;34m=\u001B[0m\u001B[0;36m1\u001B[0m\u001B[0;34m)\u001B[0m\u001B[0;34m\u001B[0m\u001B[0;34m\u001B[0m\u001B[0m\n\u001B[0m\u001B[1;32m      3\u001B[0m \u001B[0mdfn\u001B[0m \u001B[0;34m=\u001B[0m \u001B[0mdfn\u001B[0m\u001B[0;34m.\u001B[0m\u001B[0mdrop\u001B[0m\u001B[0;34m(\u001B[0m\u001B[0;34m[\u001B[0m\u001B[0;34m'trainerName'\u001B[0m\u001B[0;34m]\u001B[0m\u001B[0;34m,\u001B[0m \u001B[0maxis\u001B[0m\u001B[0;34m=\u001B[0m\u001B[0;36m1\u001B[0m\u001B[0;34m)\u001B[0m\u001B[0;34m\u001B[0m\u001B[0;34m\u001B[0m\u001B[0m\n\u001B[1;32m      4\u001B[0m \u001B[0mdfn\u001B[0m \u001B[0;34m=\u001B[0m \u001B[0mdfn\u001B[0m\u001B[0;34m.\u001B[0m\u001B[0mdrop\u001B[0m\u001B[0;34m(\u001B[0m\u001B[0;34m[\u001B[0m\u001B[0;34m'jockeyName'\u001B[0m\u001B[0;34m]\u001B[0m\u001B[0;34m,\u001B[0m \u001B[0maxis\u001B[0m\u001B[0;34m=\u001B[0m\u001B[0;36m1\u001B[0m\u001B[0;34m)\u001B[0m\u001B[0;34m\u001B[0m\u001B[0;34m\u001B[0m\u001B[0m\n\u001B[1;32m      5\u001B[0m \u001B[0mdfn\u001B[0m \u001B[0;34m=\u001B[0m \u001B[0mdfn\u001B[0m\u001B[0;34m.\u001B[0m\u001B[0mdrop\u001B[0m\u001B[0;34m(\u001B[0m\u001B[0;34m[\u001B[0m\u001B[0;34m'headGear'\u001B[0m\u001B[0;34m]\u001B[0m\u001B[0;34m,\u001B[0m \u001B[0maxis\u001B[0m\u001B[0;34m=\u001B[0m\u001B[0;36m1\u001B[0m\u001B[0;34m)\u001B[0m\u001B[0;34m\u001B[0m\u001B[0;34m\u001B[0m\u001B[0m\n",
      "\u001B[0;31mNameError\u001B[0m: name 'dfn' is not defined"
     ]
    }
   ],
   "source": [
    "# Get rid of all the columns that have been encoded\n",
    "dfn = dfn.drop(['horseName'], axis=1)\n",
    "dfn = dfn.drop(['trainerName'], axis=1)\n",
    "dfn = dfn.drop(['jockeyName'], axis=1)\n",
    "dfn = dfn.drop(['headGear'], axis=1)\n",
    "dfn = dfn.drop(['father'], axis=1)\n",
    "dfn = dfn.drop(['mother'], axis=1)\n",
    "dfn = dfn.drop(['gfather'], axis=1)\n",
    "dfn = dfn.drop(['countryCode'], axis=1)\n",
    "dfn = dfn.drop(['course'], axis=1)\n",
    "dfn = dfn.drop(['title'], axis=1)\n",
    "dfn = dfn.drop(['hurdles'], axis=1)\n",
    "dfn = dfn.drop(['ages'], axis=1)\n",
    "dfn = dfn.drop(['positionL'], axis=1)\n",
    "dfn = dfn.drop(['price'], axis=1)\n",
    "dfn = dfn.drop(['position'],axis=1)"
   ],
   "metadata": {
    "collapsed": false,
    "pycharm": {
     "name": "#%%\n"
    }
   }
  },
  {
   "cell_type": "code",
   "execution_count": 10,
   "outputs": [
    {
     "ename": "NameError",
     "evalue": "name 'SimpleImputer' is not defined",
     "output_type": "error",
     "traceback": [
      "\u001B[0;31m---------------------------------------------------------------------------\u001B[0m",
      "\u001B[0;31mNameError\u001B[0m                                 Traceback (most recent call last)",
      "\u001B[0;32m<ipython-input-10-fbc72f1fd0bd>\u001B[0m in \u001B[0;36m<module>\u001B[0;34m\u001B[0m\n\u001B[1;32m      3\u001B[0m \u001B[0;31m# imputer = imputer.fit(dfn) #X[:, 1:])\u001B[0m\u001B[0;34m\u001B[0m\u001B[0;34m\u001B[0m\u001B[0;34m\u001B[0m\u001B[0m\n\u001B[1;32m      4\u001B[0m \u001B[0;31m# dfn = imputer.transform(dfn) #X[:, 1:])\u001B[0m\u001B[0;34m\u001B[0m\u001B[0;34m\u001B[0m\u001B[0;34m\u001B[0m\u001B[0m\n\u001B[0;32m----> 5\u001B[0;31m \u001B[0mimp\u001B[0m \u001B[0;34m=\u001B[0m \u001B[0mSimpleImputer\u001B[0m\u001B[0;34m(\u001B[0m\u001B[0mmissing_values\u001B[0m\u001B[0;34m=\u001B[0m\u001B[0mmath\u001B[0m\u001B[0;34m.\u001B[0m\u001B[0mnan\u001B[0m\u001B[0;34m,\u001B[0m \u001B[0mstrategy\u001B[0m\u001B[0;34m=\u001B[0m\u001B[0;34m\"mean\"\u001B[0m\u001B[0;34m)\u001B[0m\u001B[0;34m\u001B[0m\u001B[0;34m\u001B[0m\u001B[0m\n\u001B[0m\u001B[1;32m      6\u001B[0m \u001B[0mdfn\u001B[0m\u001B[0;34m[\u001B[0m\u001B[0;34m\"OR\"\u001B[0m\u001B[0;34m]\u001B[0m \u001B[0;34m=\u001B[0m \u001B[0mimp\u001B[0m\u001B[0;34m.\u001B[0m\u001B[0mfit_transform\u001B[0m\u001B[0;34m(\u001B[0m\u001B[0mdfn\u001B[0m\u001B[0;34m[\u001B[0m\u001B[0;34m[\u001B[0m\u001B[0;34m\"OR\"\u001B[0m\u001B[0;34m]\u001B[0m\u001B[0;34m]\u001B[0m\u001B[0;34m)\u001B[0m\u001B[0;34m.\u001B[0m\u001B[0mravel\u001B[0m\u001B[0;34m(\u001B[0m\u001B[0;34m)\u001B[0m\u001B[0;34m\u001B[0m\u001B[0;34m\u001B[0m\u001B[0m\n\u001B[1;32m      7\u001B[0m \u001B[0mdfn\u001B[0m\u001B[0;34m[\u001B[0m\u001B[0;34m\"RPR\"\u001B[0m\u001B[0;34m]\u001B[0m \u001B[0;34m=\u001B[0m \u001B[0mimp\u001B[0m\u001B[0;34m.\u001B[0m\u001B[0mfit_transform\u001B[0m\u001B[0;34m(\u001B[0m\u001B[0mdfn\u001B[0m\u001B[0;34m[\u001B[0m\u001B[0;34m[\u001B[0m\u001B[0;34m\"RPR\"\u001B[0m\u001B[0;34m]\u001B[0m\u001B[0;34m]\u001B[0m\u001B[0;34m)\u001B[0m\u001B[0;34m.\u001B[0m\u001B[0mravel\u001B[0m\u001B[0;34m(\u001B[0m\u001B[0;34m)\u001B[0m\u001B[0;34m\u001B[0m\u001B[0;34m\u001B[0m\u001B[0m\n",
      "\u001B[0;31mNameError\u001B[0m: name 'SimpleImputer' is not defined"
     ]
    }
   ],
   "source": [
    "# Set missing data on relevant columns to their mean\n",
    "# imputer = SimpleImputer(missing_values=np.nan, strategy='mean')\n",
    "# imputer = imputer.fit(dfn) #X[:, 1:])\n",
    "# dfn = imputer.transform(dfn) #X[:, 1:])\n",
    "imp = SimpleImputer(missing_values=math.nan, strategy=\"mean\")\n",
    "dfn[\"OR\"] = imp.fit_transform(dfn[[\"OR\"]]).ravel()\n",
    "dfn[\"RPR\"] = imp.fit_transform(dfn[[\"RPR\"]]).ravel()\n",
    "dfn[\"TR\"] = imp.fit_transform(dfn[[\"TR\"]]).ravel()\n",
    "dfn[\"dist\"] = imp.fit_transform(dfn[[\"dist\"]]).ravel()\n",
    "dfn[\"saddle\"] = imp.fit_transform(dfn[[\"saddle\"]]).ravel()"
   ],
   "metadata": {
    "collapsed": false,
    "pycharm": {
     "name": "#%%\n"
    }
   }
  },
  {
   "cell_type": "code",
   "execution_count": 11,
   "outputs": [
    {
     "ename": "NameError",
     "evalue": "name 'dfn' is not defined",
     "output_type": "error",
     "traceback": [
      "\u001B[0;31m---------------------------------------------------------------------------\u001B[0m",
      "\u001B[0;31mNameError\u001B[0m                                 Traceback (most recent call last)",
      "\u001B[0;32m<ipython-input-11-750be2c48baa>\u001B[0m in \u001B[0;36m<module>\u001B[0;34m\u001B[0m\n\u001B[1;32m      1\u001B[0m \u001B[0;31m## Save result to disk\u001B[0m\u001B[0;34m\u001B[0m\u001B[0;34m\u001B[0m\u001B[0;34m\u001B[0m\u001B[0m\n\u001B[0;32m----> 2\u001B[0;31m \u001B[0mdfn\u001B[0m\u001B[0;34m.\u001B[0m\u001B[0mto_csv\u001B[0m\u001B[0;34m(\u001B[0m\u001B[0;34m'data/proc_races.csv'\u001B[0m\u001B[0;34m)\u001B[0m\u001B[0;34m\u001B[0m\u001B[0;34m\u001B[0m\u001B[0m\n\u001B[0m\u001B[1;32m      3\u001B[0m \u001B[0;34m\u001B[0m\u001B[0m\n",
      "\u001B[0;31mNameError\u001B[0m: name 'dfn' is not defined"
     ]
    }
   ],
   "source": [
    "## Save result to disk\n",
    "dfn.to_csv('data/proc_races.csv')"
   ],
   "metadata": {
    "collapsed": false,
    "pycharm": {
     "name": "#%%\n"
    }
   }
  },
  {
   "cell_type": "code",
   "execution_count": null,
   "outputs": [],
   "source": [
    "# TODO: Remove all handicap rows. Will try with first and then without\n",
    "# These are horses that run in handicap\n",
    "# races and have weight added.  The skill here is in guessing if the\n",
    "# handicap is too much or too little."
   ],
   "metadata": {
    "collapsed": false,
    "pycharm": {
     "name": "#%%\n"
    }
   }
  },
  {
   "cell_type": "code",
   "execution_count": null,
   "outputs": [],
   "source": [
    "######################### HELPER CODE #################################"
   ],
   "metadata": {
    "collapsed": false,
    "pycharm": {
     "name": "#%%\n"
    }
   }
  },
  {
   "cell_type": "code",
   "execution_count": null,
   "outputs": [],
   "source": [
    "## Get info about horses\n",
    "print(f'Shape\\n\\n{dfn.shape}')\n",
    "print(f'Columns\\n\\n{dfn.columns}')\n",
    "print(f'dtypes\\n\\n{dfn.dtypes}')\n",
    "pd.set_option('display.max_columns', None)\n",
    "print(f'Description\\n\\n{dfn.describe()}')\n",
    "print(dfn.sample(n=1))\n",
    "pd.set_option('display.max_columns', 5)"
   ],
   "metadata": {
    "collapsed": false,
    "pycharm": {
     "name": "#%%\n"
    }
   }
  },
  {
   "cell_type": "code",
   "execution_count": 82,
   "outputs": [
    {
     "name": "stdout",
     "output_type": "stream",
     "text": [
      "mother Values\n"
     ]
    },
    {
     "ename": "AttributeError",
     "evalue": "'DataFrame' object has no attribute 'mother'",
     "output_type": "error",
     "traceback": [
      "\u001B[0;31m---------------------------------------------------------------------------\u001B[0m",
      "\u001B[0;31mAttributeError\u001B[0m                            Traceback (most recent call last)",
      "\u001B[0;32m<ipython-input-82-bfb7f6ca53b1>\u001B[0m in \u001B[0;36m<module>\u001B[0;34m\u001B[0m\n\u001B[1;32m     14\u001B[0m \u001B[0;34m\u001B[0m\u001B[0m\n\u001B[1;32m     15\u001B[0m \u001B[0mprint\u001B[0m\u001B[0;34m(\u001B[0m\u001B[0;34m\"mother Values\"\u001B[0m\u001B[0;34m)\u001B[0m\u001B[0;34m\u001B[0m\u001B[0;34m\u001B[0m\u001B[0m\n\u001B[0;32m---> 16\u001B[0;31m \u001B[0mprint\u001B[0m\u001B[0;34m(\u001B[0m\u001B[0;34mf'No of values = {len(dfn.mother.unique())}'\u001B[0m\u001B[0;34m)\u001B[0m\u001B[0;34m\u001B[0m\u001B[0;34m\u001B[0m\u001B[0m\n\u001B[0m\u001B[1;32m     17\u001B[0m \u001B[0;34m\u001B[0m\u001B[0m\n\u001B[1;32m     18\u001B[0m \u001B[0mprint\u001B[0m\u001B[0;34m(\u001B[0m\u001B[0;34m\"father Values\"\u001B[0m\u001B[0;34m)\u001B[0m\u001B[0;34m\u001B[0m\u001B[0;34m\u001B[0m\u001B[0m\n",
      "\u001B[0;32m~/Dropbox/horses2/venv/lib/python3.8/site-packages/pandas/core/generic.py\u001B[0m in \u001B[0;36m__getattr__\u001B[0;34m(self, name)\u001B[0m\n\u001B[1;32m   5139\u001B[0m             \u001B[0;32mif\u001B[0m \u001B[0mself\u001B[0m\u001B[0;34m.\u001B[0m\u001B[0m_info_axis\u001B[0m\u001B[0;34m.\u001B[0m\u001B[0m_can_hold_identifiers_and_holds_name\u001B[0m\u001B[0;34m(\u001B[0m\u001B[0mname\u001B[0m\u001B[0;34m)\u001B[0m\u001B[0;34m:\u001B[0m\u001B[0;34m\u001B[0m\u001B[0;34m\u001B[0m\u001B[0m\n\u001B[1;32m   5140\u001B[0m                 \u001B[0;32mreturn\u001B[0m \u001B[0mself\u001B[0m\u001B[0;34m[\u001B[0m\u001B[0mname\u001B[0m\u001B[0;34m]\u001B[0m\u001B[0;34m\u001B[0m\u001B[0;34m\u001B[0m\u001B[0m\n\u001B[0;32m-> 5141\u001B[0;31m             \u001B[0;32mreturn\u001B[0m \u001B[0mobject\u001B[0m\u001B[0;34m.\u001B[0m\u001B[0m__getattribute__\u001B[0m\u001B[0;34m(\u001B[0m\u001B[0mself\u001B[0m\u001B[0;34m,\u001B[0m \u001B[0mname\u001B[0m\u001B[0;34m)\u001B[0m\u001B[0;34m\u001B[0m\u001B[0;34m\u001B[0m\u001B[0m\n\u001B[0m\u001B[1;32m   5142\u001B[0m \u001B[0;34m\u001B[0m\u001B[0m\n\u001B[1;32m   5143\u001B[0m     \u001B[0;32mdef\u001B[0m \u001B[0m__setattr__\u001B[0m\u001B[0;34m(\u001B[0m\u001B[0mself\u001B[0m\u001B[0;34m,\u001B[0m \u001B[0mname\u001B[0m\u001B[0;34m:\u001B[0m \u001B[0mstr\u001B[0m\u001B[0;34m,\u001B[0m \u001B[0mvalue\u001B[0m\u001B[0;34m)\u001B[0m \u001B[0;34m->\u001B[0m \u001B[0;32mNone\u001B[0m\u001B[0;34m:\u001B[0m\u001B[0;34m\u001B[0m\u001B[0;34m\u001B[0m\u001B[0m\n",
      "\u001B[0;31mAttributeError\u001B[0m: 'DataFrame' object has no attribute 'mother'"
     ]
    }
   ],
   "source": [
    "## Show unique values for columns missing data\n",
    "# print(\"headGear Values\")\n",
    "# print(dfn.headGear.unique())\n",
    "# print(f'No of values = {len(dfn.headGear.unique())}')\n",
    "\n",
    "# print(\"horseName Values\")\n",
    "# print(f'No of values = {len(dfn.horseName.unique())}')\n",
    "\n",
    "# print(\"trainerName Values\")\n",
    "# print(f'No of values = {len(dfn.trainerName.unique())}')\n",
    "\n",
    "# print(\"jockeyName Values\")\n",
    "# print(f'No of values = {len(dfn.jockeyName.unique())}')\n",
    "\n",
    "print(\"mother Values\")\n",
    "print(f'No of values = {len(dfn.mother.unique())}')\n",
    "\n",
    "print(\"father Values\")\n",
    "print(f'No of values = {len(dfn.father.unique())}')\n",
    "\n",
    "print(\"ages Values\")\n",
    "print(dfn.ages.unique())\n",
    "print(f'No of values = {len(dfn.ages.unique())}')\n",
    "\n",
    "print(\"hurdles Values\")\n",
    "print(dfn.hurdles.unique())\n",
    "print(f'No of values = {len(dfn.hurdles.unique())}')\n"
   ],
   "metadata": {
    "collapsed": false,
    "pycharm": {
     "name": "#%%\n"
    }
   }
  },
  {
   "cell_type": "code",
   "execution_count": null,
   "outputs": [],
   "source": [
    "# Check the trainerName for numbers.  This checks column for floats and outputs the values\n",
    "for count, trainer in enumerate(dfn['trainerName']):\n",
    "    if isinstance(trainer, float):\n",
    "        print(trainer)"
   ],
   "metadata": {
    "collapsed": false,
    "pycharm": {
     "name": "#%%\n"
    }
   }
  },
  {
   "cell_type": "code",
   "execution_count": 65,
   "outputs": [],
   "source": [
    "# Check whether positions contains all numbers\n",
    "for count, pos in enumerate(dfn['position']):\n",
    "    if math.isnan(pos):\n",
    "    # if not isinstance(pos, int):\n",
    "        print(pos)"
   ],
   "metadata": {
    "collapsed": false,
    "pycharm": {
     "name": "#%%\n"
    }
   }
  },
  {
   "cell_type": "code",
   "execution_count": 50,
   "outputs": [],
   "source": [
    "for (columnName, _) in dfn.iteritems():\n",
    "    for count, pos in enumerate(dfn[columnName]):\n",
    "        if pos > 10000000:\n",
    "        # if math.isinf(pos):\n",
    "        # if not isinstance(pos, int) and not isinstance(pos, float):\n",
    "            print(columnName, pos)\n"
   ],
   "metadata": {
    "collapsed": false,
    "pycharm": {
     "name": "#%%\n"
    }
   }
  },
  {
   "cell_type": "code",
   "execution_count": null,
   "outputs": [],
   "source": [],
   "metadata": {
    "collapsed": false,
    "pycharm": {
     "name": "#%%\n"
    }
   }
  }
 ],
 "metadata": {
  "kernelspec": {
   "name": "python3",
   "language": "python",
   "display_name": "Python 3"
  },
  "language_info": {
   "codemirror_mode": {
    "name": "ipython",
    "version": 2
   },
   "file_extension": ".py",
   "mimetype": "text/x-python",
   "name": "python",
   "nbconvert_exporter": "python",
   "pygments_lexer": "ipython2",
   "version": "2.7.6"
  },
  "pycharm": {
   "stem_cell": {
    "cell_type": "raw",
    "source": [
     "# horses.csv\n",
     "\n",
     "# rid - Race id;\n",
     "# horseName - Horse name;\n",
     "# age - Horse age;\n",
     "# saddle - Saddle # where horse starts;\n",
     "# decimalPrice - 1/Decimal price;\n",
     "# isFav - Was horse favorite before start? Can be more then one fav in a race;\n",
     "# trainerName - Trainer name;\n",
     "# jockeyName - Jockey name;\n",
     "# position - Finishing position, 40 if horse didn't finish;\n",
     "# dist - how far a horse has finished from a winner;\n",
     "# overWeight - Overweight code;\n",
     "# outHandicap - Handicap;\n",
     "# headGear - Head gear code;\n",
     "# RPR - RP Rating;\n",
     "# TR - Topspeed;\n",
     "# OR - Official Rating\n",
     "# father - Horse's Father name;\n",
     "# mother - Horse's Mother name;\n",
     "# gfather - Horse's Grandfather name;\n",
     "# runners - Runners total;\n",
     "# margin - Sum of decimalPrices for the race;\n",
     "# course - Course of the race, country code in brackets, AW means All Weather, no brackets means UK;\n",
     "# time - Time of the race in hh:mm format, London TZ;\n",
     "# date - Date of the race;\n",
     "# title - Title of the race;\n",
     "# rclass - Race class;\n",
     "# band - Band;\n",
     "# ages - Ages allowed\n",
     "# distance - Distance;\n",
     "# condition - Surface condition;\n",
     "# hurdles - Hurdles, their type and amount;\n",
     "# prizes - Places prizes;\n",
     "# winningTime - Best time shown;\n",
     "# prize - Prizes total (sum of prizes column);\n",
     "# metric - Distance in meters;\n",
     "# countryCode - Country of the race;\n",
     "# ncond - condition type (created from condition feature);\n",
     "# class - class type (created from rclass feature).\n"
    ],
    "metadata": {
     "collapsed": false
    }
   }
  }
 },
 "nbformat": 4,
 "nbformat_minor": 0
}
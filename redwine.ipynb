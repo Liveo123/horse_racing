{
 "cells": [
  {
   "cell_type": "code",
   "execution_count": 1,
   "outputs": [],
   "source": [
    "import matplotlib.pyplot as plt\n",
    "import numpy as np\n",
    "import pandas as pd\n",
    "import seaborn as sns\n",
    "\n",
    "from sklearn.neighbors import KNeighborsClassifier\n",
    "from sklearn.neural_network import MLPClassifier\n",
    "from sklearn.model_selection import train_test_split\n",
    "from sklearn.model_selection import cross_val_score\n",
    "from sklearn.model_selection import learning_curve\n",
    "from sklearn.impute import SimpleImputer\n",
    "from sklearn.preprocessing import LabelEncoder, OneHotEncoder\n",
    "from sklearn.preprocessing import RobustScaler\n",
    "from sklearn.metrics import confusion_matrix\n",
    "from sklearn.metrics import plot_confusion_matrix, classification_report, accuracy_score\n",
    "\n",
    "from sklearn.linear_model import LogisticRegression\n",
    "from sklearn.tree import DecisionTreeClassifier\n",
    "\n",
    "from scipy import stats\n",
    "\n",
    "import math\n",
    "import os\n",
    "import random"
   ],
   "metadata": {
    "collapsed": false,
    "pycharm": {
     "name": "#%%\n"
    }
   }
  },
  {
   "cell_type": "code",
   "execution_count": 3,
   "outputs": [
    {
     "name": "stdout",
     "output_type": "stream",
     "text": [
      "/home/poblivsig/Dropbox/horses2\n"
     ]
    }
   ],
   "source": [
    "## Move to correct folder for server.  Can remove before sending\n",
    "os.chdir('/home/poblivsig/Dropbox/horses2')\n",
    "print(os.getcwd())"
   ],
   "metadata": {
    "collapsed": false,
    "pycharm": {
     "name": "#%%\n"
    }
   }
  },
  {
   "cell_type": "code",
   "execution_count": 4,
   "outputs": [
    {
     "name": "stdout",
     "output_type": "stream",
     "text": [
      "(1599, 12)\n",
      "(1599, 12)\n"
     ]
    }
   ],
   "source": [
    "## Open the pre-processed csv\n",
    "df = pd.read_csv('data/winequality-red.csv')\n",
    "print(df.shape)\n",
    "# df = df.drop(df.index[0:140000], 0)\n",
    "print(df.shape)"
   ],
   "metadata": {
    "collapsed": false,
    "pycharm": {
     "name": "#%%\n"
    }
   }
  },
  {
   "cell_type": "code",
   "execution_count": 5,
   "outputs": [
    {
     "name": "stdout",
     "output_type": "stream",
     "text": [
      "Shape\n",
      "\n",
      "(1599, 12)\n",
      "Columns\n",
      "\n",
      "Index(['fixed acidity', 'volatile acidity', 'citric acid', 'residual sugar',\n",
      "       'chlorides', 'free sulfur dioxide', 'total sulfur dioxide', 'density',\n",
      "       'pH', 'sulphates', 'alcohol', 'quality'],\n",
      "      dtype='object')\n",
      "dtypes\n",
      "\n",
      "fixed acidity           float64\n",
      "volatile acidity        float64\n",
      "citric acid             float64\n",
      "residual sugar          float64\n",
      "chlorides               float64\n",
      "free sulfur dioxide     float64\n",
      "total sulfur dioxide    float64\n",
      "density                 float64\n",
      "pH                      float64\n",
      "sulphates               float64\n",
      "alcohol                 float64\n",
      "quality                   int64\n",
      "dtype: object\n",
      "Description\n",
      "\n",
      "       fixed acidity  volatile acidity  citric acid  residual sugar  \\\n",
      "count    1599.000000       1599.000000  1599.000000     1599.000000   \n",
      "mean        8.319637          0.527821     0.270976        2.538806   \n",
      "std         1.741096          0.179060     0.194801        1.409928   \n",
      "min         4.600000          0.120000     0.000000        0.900000   \n",
      "25%         7.100000          0.390000     0.090000        1.900000   \n",
      "50%         7.900000          0.520000     0.260000        2.200000   \n",
      "75%         9.200000          0.640000     0.420000        2.600000   \n",
      "max        15.900000          1.580000     1.000000       15.500000   \n",
      "\n",
      "         chlorides  free sulfur dioxide  total sulfur dioxide      density  \\\n",
      "count  1599.000000          1599.000000           1599.000000  1599.000000   \n",
      "mean      0.087467            15.874922             46.467792     0.996747   \n",
      "std       0.047065            10.460157             32.895324     0.001887   \n",
      "min       0.012000             1.000000              6.000000     0.990070   \n",
      "25%       0.070000             7.000000             22.000000     0.995600   \n",
      "50%       0.079000            14.000000             38.000000     0.996750   \n",
      "75%       0.090000            21.000000             62.000000     0.997835   \n",
      "max       0.611000            72.000000            289.000000     1.003690   \n",
      "\n",
      "                pH    sulphates      alcohol      quality  \n",
      "count  1599.000000  1599.000000  1599.000000  1599.000000  \n",
      "mean      3.311113     0.658149    10.422983     5.636023  \n",
      "std       0.154386     0.169507     1.065668     0.807569  \n",
      "min       2.740000     0.330000     8.400000     3.000000  \n",
      "25%       3.210000     0.550000     9.500000     5.000000  \n",
      "50%       3.310000     0.620000    10.200000     6.000000  \n",
      "75%       3.400000     0.730000    11.100000     6.000000  \n",
      "max       4.010000     2.000000    14.900000     8.000000  \n",
      "    fixed acidity  volatile acidity  citric acid  residual sugar  chlorides  \\\n",
      "66            7.5              0.52         0.11             1.5      0.079   \n",
      "\n",
      "    free sulfur dioxide  total sulfur dioxide  density    pH  sulphates  \\\n",
      "66                 11.0                  39.0   0.9968  3.42       0.58   \n",
      "\n",
      "    alcohol  quality  \n",
      "66      9.6        5  \n"
     ]
    }
   ],
   "source": [
    "## Get info about wine\n",
    "print(f'Shape\\n\\n{df.shape}')\n",
    "print(f'Columns\\n\\n{df.columns}')\n",
    "print(f'dtypes\\n\\n{df.dtypes}')\n",
    "pd.set_option('display.max_columns', None)\n",
    "print(f'Description\\n\\n{df.describe()}')\n",
    "print(df.sample(n=1))\n",
    "pd.set_option('display.max_columns', 5)"
   ],
   "metadata": {
    "collapsed": false,
    "pycharm": {
     "name": "#%%\n"
    }
   }
  },
  {
   "cell_type": "code",
   "execution_count": 6,
   "outputs": [
    {
     "name": "stderr",
     "output_type": "stream",
     "text": [
      "/home/poblivsig/Dropbox/horses2/venv/lib/python3.8/site-packages/seaborn/_decorators.py:36: FutureWarning: Pass the following variable as a keyword arg: x. From version 0.12, the only valid positional argument will be `data`, and passing other arguments without an explicit keyword will result in an error or misinterpretation.\n",
      "  warnings.warn(\n"
     ]
    },
    {
     "data": {
      "text/plain": "[]"
     },
     "execution_count": 6,
     "metadata": {},
     "output_type": "execute_result"
    },
    {
     "data": {
      "text/plain": "<Figure size 432x288 with 1 Axes>",
      "image/png": "[encoded data removed]"
     },
     "metadata": {
      "needs_background": "light"
     },
     "output_type": "display_data"
    }
   ],
   "source": [
    "## (1) Count the different quality values\n",
    "sns.countplot(df['quality'],\n",
    "              palette='Blues',\n",
    "              label=\"Quality Count\", )\n",
    "plt.plot()"
   ],
   "metadata": {
    "collapsed": false,
    "pycharm": {
     "name": "#%%\n"
    }
   }
  },
  {
   "cell_type": "code",
   "execution_count": 7,
   "outputs": [
    {
     "data": {
      "text/plain": "[]"
     },
     "execution_count": 7,
     "metadata": {},
     "output_type": "execute_result"
    },
    {
     "data": {
      "text/plain": "<Figure size 864x1008 with 1 Axes>",
      "image/png": "[encoded data removed]"
     },
     "metadata": {
      "needs_background": "light"
     },
     "output_type": "display_data"
    }
   ],
   "source": [
    "# Build a correlation matrix to find the attributes that correlate the most\n",
    "f,ax = plt.subplots(figsize=(12, 14))\n",
    "conf_matrix = np.triu(df.corr())\n",
    "sns.heatmap(df.corr(),\n",
    "            annot=True,\n",
    "            cbar=0,\n",
    "            linewidths=.3,\n",
    "            fmt='.1f',\n",
    "            cmap='Blues',\n",
    "            ax=ax,\n",
    "            mask=conf_matrix)\n",
    "plt.plot()\n",
    "\n",
    "\n",
    "###############################\n",
    "# Build boxplots for the most correlated against the different quality levels (3)\n",
    "\n",
    "## Fixed acidity\n",
    "plot = sns.boxplot(x='quality', y='fixed acidity', data=df, showfliers=False)\n",
    "plot.set_title('Quality vs. Fixed Acidity')\n",
    "plt.plot()"
   ],
   "metadata": {
    "collapsed": false,
    "pycharm": {
     "name": "#%%\n"
    }
   }
  },
  {
   "cell_type": "code",
   "execution_count": 8,
   "outputs": [
    {
     "data": {
      "text/plain": "[]"
     },
     "execution_count": 8,
     "metadata": {},
     "output_type": "execute_result"
    },
    {
     "data": {
      "text/plain": "<Figure size 432x288 with 1 Axes>",
      "image/png": "[encoded data removed]"
     },
     "metadata": {
      "needs_background": "light"
     },
     "output_type": "display_data"
    }
   ],
   "source": [
    "## Citric Acid\n",
    "plot = sns.boxplot(x='quality', y='citric acid', data=df, showfliers=False)\n",
    "plot.set_title('Quality vs. Fixed Acidity')\n",
    "plt.plot()\n"
   ],
   "metadata": {
    "collapsed": false,
    "pycharm": {
     "name": "#%%\n"
    }
   }
  },
  {
   "cell_type": "code",
   "execution_count": 9,
   "outputs": [
    {
     "data": {
      "text/plain": "[]"
     },
     "execution_count": 9,
     "metadata": {},
     "output_type": "execute_result"
    },
    {
     "data": {
      "text/plain": "<Figure size 432x288 with 1 Axes>",
      "image/png": "[encoded data removed]"
     },
     "metadata": {
      "needs_background": "light"
     },
     "output_type": "display_data"
    }
   ],
   "source": [
    "## pH\n",
    "plot = sns.boxplot(x='quality', y='pH', data=df, showfliers=False)\n",
    "plot.set_title('Quality vs. pH')\n",
    "plt.plot()"
   ],
   "metadata": {
    "collapsed": false,
    "pycharm": {
     "name": "#%%\n"
    }
   }
  },
  {
   "cell_type": "code",
   "execution_count": 10,
   "outputs": [
    {
     "data": {
      "text/plain": "[]"
     },
     "execution_count": 10,
     "metadata": {},
     "output_type": "execute_result"
    },
    {
     "data": {
      "text/plain": "<Figure size 432x288 with 1 Axes>",
      "image/png": "[encoded data removed]"
     },
     "metadata": {
      "needs_background": "light"
     },
     "output_type": "display_data"
    }
   ],
   "source": [
    "## Alcohol\n",
    "plot = sns.boxplot(x='quality', y='alcohol', data=df, showfliers=False)\n",
    "plot.set_title('Quality vs. Alcohol')\n",
    "plt.plot()"
   ],
   "metadata": {
    "collapsed": false,
    "pycharm": {
     "name": "#%%\n"
    }
   }
  },
  {
   "cell_type": "code",
   "execution_count": 11,
   "outputs": [
    {
     "data": {
      "text/plain": "[]"
     },
     "execution_count": 11,
     "metadata": {},
     "output_type": "execute_result"
    },
    {
     "data": {
      "text/plain": "<Figure size 432x288 with 1 Axes>",
      "image/png": "[encoded data removed]"
     },
     "metadata": {
      "needs_background": "light"
     },
     "output_type": "display_data"
    }
   ],
   "source": [
    "## Density\n",
    "plot = sns.boxplot(x='quality', y='density', data=df, showfliers=False)\n",
    "plot.set_title('Quality vs. Fixed Acidity')\n",
    "plt.plot()\n",
    "\n"
   ],
   "metadata": {
    "collapsed": false,
    "pycharm": {
     "name": "#%%\n"
    }
   }
  },
  {
   "cell_type": "code",
   "execution_count": 12,
   "outputs": [
    {
     "data": {
      "text/plain": "[]"
     },
     "execution_count": 12,
     "metadata": {},
     "output_type": "execute_result"
    },
    {
     "data": {
      "text/plain": "<Figure size 432x288 with 1 Axes>",
      "image/png": "[encoded data removed]"
     },
     "metadata": {
      "needs_background": "light"
     },
     "output_type": "display_data"
    }
   ],
   "source": [
    "## Residual Sugar\n",
    "plot = sns.boxplot(x='quality', y='residual sugar', data=df, showfliers=False)\n",
    "plot.set_title('Quality vs. Residual Sugar')\n",
    "plt.plot()"
   ],
   "metadata": {
    "collapsed": false,
    "pycharm": {
     "name": "#%%\n"
    }
   }
  },
  {
   "cell_type": "code",
   "execution_count": 13,
   "outputs": [
    {
     "name": "stdout",
     "output_type": "stream",
     "text": [
      "(1599, 12)\n"
     ]
    }
   ],
   "source": [
    "## Split the data up.\n",
    "y = df['quality']\n",
    "X = df.drop('quality', axis=1)\n",
    "X_train, X_test, y_train, y_test = train_test_split(X, y, test_size = 0.40, stratify=y, random_state = 17)\n",
    "print(df.shape)"
   ],
   "metadata": {
    "collapsed": false,
    "pycharm": {
     "name": "#%%\n"
    }
   }
  },
  {
   "cell_type": "code",
   "execution_count": 14,
   "outputs": [],
   "source": [
    "# Scale the features (attributes)\n",
    "scaler = RobustScaler()\n",
    "X_train = scaler.fit_transform(X_train)\n",
    "X_test = scaler.transform(X_test)\n"
   ],
   "metadata": {
    "collapsed": false,
    "pycharm": {
     "name": "#%%\n"
    }
   }
  },
  {
   "cell_type": "code",
   "execution_count": 15,
   "outputs": [
    {
     "name": "stdout",
     "output_type": "stream",
     "text": [
      "Logistic Regression training accuracy: 0.6110531803962461\n"
     ]
    }
   ],
   "source": [
    "# Logistical Regression\n",
    "lr = LogisticRegression(random_state = 0, max_iter=200)\n",
    "lr.fit(X_train, y_train)\n",
    "\n",
    "print(f'Logistic Regression training accuracy: {lr.score(X_train, y_train)}')"
   ],
   "metadata": {
    "collapsed": false,
    "pycharm": {
     "name": "#%%\n"
    }
   }
  },
  {
   "cell_type": "code",
   "execution_count": 16,
   "outputs": [
    {
     "name": "stdout",
     "output_type": "stream",
     "text": [
      "[3]Decision Tree Classifier Training Accuracy: 1.0\n"
     ]
    }
   ],
   "source": [
    "# Using DecisionTreeClassifier\n",
    "tree = DecisionTreeClassifier(criterion = 'entropy', random_state = 0)\n",
    "tree.fit(X_train, y_train)\n",
    "print('[3]Decision Tree Classifier Training Accuracy:', tree.score(X_train, y_train))"
   ],
   "metadata": {
    "collapsed": false,
    "pycharm": {
     "name": "#%%\n"
    }
   }
  },
  {
   "cell_type": "code",
   "execution_count": null,
   "outputs": [
    {
     "name": "stdout",
     "output_type": "stream",
     "text": [
      "hey\n",
      "(17,)\n",
      "(28, 23)\n",
      "(16, 9, 27)\n",
      "(15, 7, 23, 18)\n",
      "(13,)\n",
      "(7, 11)\n",
      "(27, 2, 12)\n",
      "(15, 16, 24, 14)\n",
      "(1,)\n",
      "(6, 4)\n",
      "(16, 7, 6)\n",
      "(22, 25, 15, 3)\n",
      "(12,)\n",
      "(20, 28)\n",
      "(22, 25, 16)\n",
      "(16, 10, 26, 8)\n",
      "(30,)\n",
      "(16, 9)\n",
      "(26, 11, 17)\n",
      "(26, 30, 3, 27)\n",
      "(25, 7)\n",
      "(5, 20, 3)\n",
      "(28, 24, 2, 26)\n",
      "(14,)\n",
      "(15, 12)\n",
      "(15, 28, 11)\n",
      "(18, 1, 27, 28)\n",
      "(18,)\n",
      "(27, 9)\n",
      "(28, 4, 28)\n",
      "(21, 8, 17, 12)\n",
      "(7,)\n",
      "(4, 8)\n",
      "(18, 14, 15)\n",
      "(20, 9, 8, 13)\n",
      "(20, 22)\n",
      "(4, 24, 29)\n",
      "(7, 13, 6, 30)\n",
      "(5,)\n",
      "(8, 28)\n",
      "(17, 18, 29)\n",
      "(25, 7, 25, 4)\n",
      "(19,)\n",
      "(8, 1)\n",
      "(1, 2, 11)\n",
      "(6, 10, 18, 4)\n",
      "(29,)\n",
      "(19, 12)\n",
      "(17, 24, 28)\n",
      "(6, 16, 8, 8)\n",
      "(25,)\n",
      "(16, 17)\n",
      "(20, 20, 7)\n",
      "(12, 29, 9, 4)\n",
      "(10,)\n",
      "(30, 9)\n",
      "(25, 21, 9)\n",
      "(11, 10, 22, 24)\n",
      "(20,)\n",
      "(15, 14)\n",
      "(17, 15, 10)\n",
      "(20, 3, 20, 2)\n",
      "(27,)\n",
      "(20, 16)\n",
      "(4, 22, 16)\n",
      "(8, 29, 30, 3)\n",
      "(11, 29)\n",
      "(19, 26, 17)\n",
      "(18, 24, 29, 25)\n",
      "(16, 8)\n",
      "(26, 10, 13)\n",
      "(19, 1, 12, 18)\n",
      "(3,)\n",
      "(26, 21)\n",
      "(20, 8, 11)\n",
      "(23, 21, 7, 20)\n",
      "(28,)\n",
      "(14, 5)\n",
      "(27, 5, 15)\n",
      "(26, 25, 7, 3)\n",
      "(9, 8)\n",
      "(22, 14, 18)\n",
      "(19, 23, 7, 20)\n",
      "(22,)\n",
      "(15, 5)\n",
      "(23, 26, 23)\n",
      "(26, 27, 3, 20)\n",
      "(26, 7)\n",
      "(9, 30, 13)\n",
      "(3, 7, 7, 5)\n",
      "(27, 6)\n",
      "(11, 22, 5)\n",
      "(14, 8, 2, 2)\n",
      "(24, 28)\n",
      "(7, 23, 6)\n",
      "(3, 27, 18, 13)\n",
      "(15,)\n",
      "(17, 11)\n",
      "(15, 14, 12)\n",
      "(5, 7, 18, 28)\n",
      "(26, 22)\n",
      "(2, 29, 7)\n",
      "(13, 22, 18, 12)\n",
      "(5, 26)\n",
      "(21, 27, 6)\n",
      "(12, 28, 27, 2)\n",
      "(2,)\n",
      "(27, 29)\n",
      "(19, 16, 16)\n",
      "(30, 25, 17, 24)\n",
      "(23,)\n",
      "(28, 29)\n",
      "(21, 6, 13)\n",
      "(27, 23, 26, 16)\n",
      "(9, 11)\n",
      "(6, 29, 21)\n",
      "(22, 11, 8, 22)\n",
      "(28, 3)\n",
      "(20, 27, 5)\n",
      "(1, 18, 7, 15)\n",
      "(17, 20)\n",
      "(7, 14, 24)\n",
      "(25, 12, 18, 24)\n",
      "(21, 29)\n",
      "(8, 4, 4)\n",
      "(20, 8, 17, 21)\n",
      "(9,)\n",
      "(13, 27)\n",
      "(15, 30, 26)\n",
      "(20, 29, 16, 26)\n",
      "(9, 27)\n",
      "(20, 22, 12)\n",
      "(7, 5, 18, 18)\n",
      "(8,)\n",
      "(10, 29)\n",
      "(7, 19, 1)\n",
      "(20, 3, 13, 28)\n",
      "(11, 14)\n",
      "(20, 12, 17)\n",
      "(26, 13, 13, 5)\n",
      "(4,)\n",
      "(29, 19)\n",
      "(23, 15, 2)\n",
      "(10, 26, 24, 18)\n",
      "(21, 22)\n",
      "(19, 5, 15)\n",
      "(16, 7, 18, 15)\n",
      "(6,)\n",
      "(25, 2)\n",
      "(30, 29, 24)\n",
      "(14, 9, 1, 17)\n",
      "(16, 4)\n",
      "(1, 25, 11)\n",
      "(4, 12, 12, 12)\n",
      "(17, 27)\n",
      "(5, 28, 18)\n",
      "(29, 28, 30, 2)\n",
      "(17, 30)\n",
      "(30, 26, 24)\n",
      "(16, 16, 11, 11)\n",
      "(21, 15)\n",
      "(1, 6, 6)\n",
      "(15, 3, 11, 18)\n",
      "(8, 13)\n",
      "(2, 29, 30)\n",
      "(4, 2, 25, 10)\n",
      "(21,)\n",
      "(22, 27)\n",
      "(13, 18, 28)\n",
      "(17, 6, 14, 19)\n",
      "(17, 8)\n",
      "(1, 16, 26)\n",
      "(15, 1, 16, 21)\n",
      "(30, 30)\n",
      "(11, 27, 14)\n",
      "(10, 24, 21, 18)\n",
      "(3, 2)\n",
      "(23, 19, 19)\n",
      "(11, 18, 12, 10)\n",
      "(15, 27)\n",
      "(29, 9, 13)\n",
      "(6, 13, 4, 22)\n",
      "(30, 17)\n",
      "(3, 23, 25)\n",
      "(14, 29, 10, 28)\n",
      "(9, 12)\n",
      "(15, 22, 26)\n",
      "(12, 16, 21, 18)\n",
      "(1, 13)\n",
      "(2, 24, 11)\n",
      "(26, 25, 23, 4)\n",
      "(28, 25, 17)\n",
      "(12, 10, 2, 5)\n",
      "(18, 14)\n",
      "(2, 19, 17)\n",
      "(22, 21, 2, 16)\n",
      "(10, 26)\n",
      "(24, 25, 20)\n",
      "(10, 21, 23, 14)\n",
      "(11,)\n",
      "(6, 6)\n",
      "(28, 11, 5)\n",
      "(9, 24, 23, 19)\n",
      "(4, 18)\n",
      "(30, 13, 2)\n",
      "(14, 17, 1, 3)\n",
      "(14, 1)\n",
      "(9, 18, 25)\n",
      "(6, 30, 22, 16)\n",
      "(29, 10)\n",
      "(28, 16, 19)\n",
      "(26, 2, 5, 20)\n",
      "(7, 23)\n",
      "(17, 9, 20)\n"
     ]
    },
    {
     "name": "stderr",
     "output_type": "stream",
     "text": [
      "/home/poblivsig/Dropbox/horses2/venv/lib/python3.8/site-packages/sklearn/neural_network/_multilayer_perceptron.py:582: ConvergenceWarning: Stochastic Optimizer: Maximum iterations (999) reached and the optimization hasn't converged yet.\n",
      "  warnings.warn(\n",
      "/home/poblivsig/Dropbox/horses2/venv/lib/python3.8/site-packages/sklearn/neural_network/_multilayer_perceptron.py:582: ConvergenceWarning: Stochastic Optimizer: Maximum iterations (999) reached and the optimization hasn't converged yet.\n",
      "  warnings.warn(\n",
      "/home/poblivsig/Dropbox/horses2/venv/lib/python3.8/site-packages/sklearn/neural_network/_multilayer_perceptron.py:582: ConvergenceWarning: Stochastic Optimizer: Maximum iterations (999) reached and the optimization hasn't converged yet.\n",
      "  warnings.warn(\n",
      "/home/poblivsig/Dropbox/horses2/venv/lib/python3.8/site-packages/sklearn/neural_network/_multilayer_perceptron.py:582: ConvergenceWarning: Stochastic Optimizer: Maximum iterations (999) reached and the optimization hasn't converged yet.\n",
      "  warnings.warn(\n",
      "/home/poblivsig/Dropbox/horses2/venv/lib/python3.8/site-packages/sklearn/neural_network/_multilayer_perceptron.py:582: ConvergenceWarning: Stochastic Optimizer: Maximum iterations (999) reached and the optimization hasn't converged yet.\n",
      "  warnings.warn(\n",
      "/home/poblivsig/Dropbox/horses2/venv/lib/python3.8/site-packages/sklearn/neural_network/_multilayer_perceptron.py:582: ConvergenceWarning: Stochastic Optimizer: Maximum iterations (999) reached and the optimization hasn't converged yet.\n",
      "  warnings.warn(\n",
      "/home/poblivsig/Dropbox/horses2/venv/lib/python3.8/site-packages/sklearn/neural_network/_multilayer_perceptron.py:582: ConvergenceWarning: Stochastic Optimizer: Maximum iterations (999) reached and the optimization hasn't converged yet.\n",
      "  warnings.warn(\n",
      "/home/poblivsig/Dropbox/horses2/venv/lib/python3.8/site-packages/sklearn/neural_network/_multilayer_perceptron.py:582: ConvergenceWarning: Stochastic Optimizer: Maximum iterations (999) reached and the optimization hasn't converged yet.\n",
      "  warnings.warn(\n",
      "/home/poblivsig/Dropbox/horses2/venv/lib/python3.8/site-packages/sklearn/neural_network/_multilayer_perceptron.py:582: ConvergenceWarning: Stochastic Optimizer: Maximum iterations (999) reached and the optimization hasn't converged yet.\n",
      "  warnings.warn(\n",
      "/home/poblivsig/Dropbox/horses2/venv/lib/python3.8/site-packages/sklearn/neural_network/_multilayer_perceptron.py:582: ConvergenceWarning: Stochastic Optimizer: Maximum iterations (999) reached and the optimization hasn't converged yet.\n",
      "  warnings.warn(\n",
      "/home/poblivsig/Dropbox/horses2/venv/lib/python3.8/site-packages/sklearn/neural_network/_multilayer_perceptron.py:582: ConvergenceWarning: Stochastic Optimizer: Maximum iterations (999) reached and the optimization hasn't converged yet.\n",
      "  warnings.warn(\n",
      "/home/poblivsig/Dropbox/horses2/venv/lib/python3.8/site-packages/sklearn/neural_network/_multilayer_perceptron.py:582: ConvergenceWarning: Stochastic Optimizer: Maximum iterations (999) reached and the optimization hasn't converged yet.\n",
      "  warnings.warn(\n",
      "/home/poblivsig/Dropbox/horses2/venv/lib/python3.8/site-packages/sklearn/neural_network/_multilayer_perceptron.py:582: ConvergenceWarning: Stochastic Optimizer: Maximum iterations (999) reached and the optimization hasn't converged yet.\n",
      "  warnings.warn(\n",
      "/home/poblivsig/Dropbox/horses2/venv/lib/python3.8/site-packages/sklearn/neural_network/_multilayer_perceptron.py:582: ConvergenceWarning: Stochastic Optimizer: Maximum iterations (999) reached and the optimization hasn't converged yet.\n",
      "  warnings.warn(\n",
      "/home/poblivsig/Dropbox/horses2/venv/lib/python3.8/site-packages/sklearn/neural_network/_multilayer_perceptron.py:582: ConvergenceWarning: Stochastic Optimizer: Maximum iterations (999) reached and the optimization hasn't converged yet.\n",
      "  warnings.warn(\n",
      "/home/poblivsig/Dropbox/horses2/venv/lib/python3.8/site-packages/sklearn/neural_network/_multilayer_perceptron.py:582: ConvergenceWarning: Stochastic Optimizer: Maximum iterations (999) reached and the optimization hasn't converged yet.\n",
      "  warnings.warn(\n",
      "/home/poblivsig/Dropbox/horses2/venv/lib/python3.8/site-packages/sklearn/neural_network/_multilayer_perceptron.py:582: ConvergenceWarning: Stochastic Optimizer: Maximum iterations (999) reached and the optimization hasn't converged yet.\n",
      "  warnings.warn(\n",
      "/home/poblivsig/Dropbox/horses2/venv/lib/python3.8/site-packages/sklearn/neural_network/_multilayer_perceptron.py:582: ConvergenceWarning: Stochastic Optimizer: Maximum iterations (999) reached and the optimization hasn't converged yet.\n",
      "  warnings.warn(\n",
      "/home/poblivsig/Dropbox/horses2/venv/lib/python3.8/site-packages/sklearn/neural_network/_multilayer_perceptron.py:582: ConvergenceWarning: Stochastic Optimizer: Maximum iterations (999) reached and the optimization hasn't converged yet.\n",
      "  warnings.warn(\n",
      "/home/poblivsig/Dropbox/horses2/venv/lib/python3.8/site-packages/sklearn/neural_network/_multilayer_perceptron.py:582: ConvergenceWarning: Stochastic Optimizer: Maximum iterations (999) reached and the optimization hasn't converged yet.\n",
      "  warnings.warn(\n",
      "/home/poblivsig/Dropbox/horses2/venv/lib/python3.8/site-packages/sklearn/neural_network/_multilayer_perceptron.py:582: ConvergenceWarning: Stochastic Optimizer: Maximum iterations (999) reached and the optimization hasn't converged yet.\n",
      "  warnings.warn(\n",
      "/home/poblivsig/Dropbox/horses2/venv/lib/python3.8/site-packages/sklearn/neural_network/_multilayer_perceptron.py:582: ConvergenceWarning: Stochastic Optimizer: Maximum iterations (999) reached and the optimization hasn't converged yet.\n",
      "  warnings.warn(\n",
      "/home/poblivsig/Dropbox/horses2/venv/lib/python3.8/site-packages/sklearn/neural_network/_multilayer_perceptron.py:582: ConvergenceWarning: Stochastic Optimizer: Maximum iterations (999) reached and the optimization hasn't converged yet.\n",
      "  warnings.warn(\n",
      "/home/poblivsig/Dropbox/horses2/venv/lib/python3.8/site-packages/sklearn/neural_network/_multilayer_perceptron.py:582: ConvergenceWarning: Stochastic Optimizer: Maximum iterations (999) reached and the optimization hasn't converged yet.\n",
      "  warnings.warn(\n",
      "/home/poblivsig/Dropbox/horses2/venv/lib/python3.8/site-packages/sklearn/neural_network/_multilayer_perceptron.py:582: ConvergenceWarning: Stochastic Optimizer: Maximum iterations (999) reached and the optimization hasn't converged yet.\n",
      "  warnings.warn(\n",
      "/home/poblivsig/Dropbox/horses2/venv/lib/python3.8/site-packages/sklearn/neural_network/_multilayer_perceptron.py:582: ConvergenceWarning: Stochastic Optimizer: Maximum iterations (999) reached and the optimization hasn't converged yet.\n",
      "  warnings.warn(\n",
      "/home/poblivsig/Dropbox/horses2/venv/lib/python3.8/site-packages/sklearn/neural_network/_multilayer_perceptron.py:582: ConvergenceWarning: Stochastic Optimizer: Maximum iterations (999) reached and the optimization hasn't converged yet.\n",
      "  warnings.warn(\n",
      "/home/poblivsig/Dropbox/horses2/venv/lib/python3.8/site-packages/sklearn/neural_network/_multilayer_perceptron.py:582: ConvergenceWarning: Stochastic Optimizer: Maximum iterations (999) reached and the optimization hasn't converged yet.\n",
      "  warnings.warn(\n",
      "/home/poblivsig/Dropbox/horses2/venv/lib/python3.8/site-packages/sklearn/neural_network/_multilayer_perceptron.py:582: ConvergenceWarning: Stochastic Optimizer: Maximum iterations (999) reached and the optimization hasn't converged yet.\n",
      "  warnings.warn(\n",
      "/home/poblivsig/Dropbox/horses2/venv/lib/python3.8/site-packages/sklearn/neural_network/_multilayer_perceptron.py:582: ConvergenceWarning: Stochastic Optimizer: Maximum iterations (999) reached and the optimization hasn't converged yet.\n",
      "  warnings.warn(\n",
      "/home/poblivsig/Dropbox/horses2/venv/lib/python3.8/site-packages/sklearn/neural_network/_multilayer_perceptron.py:582: ConvergenceWarning: Stochastic Optimizer: Maximum iterations (999) reached and the optimization hasn't converged yet.\n",
      "  warnings.warn(\n",
      "/home/poblivsig/Dropbox/horses2/venv/lib/python3.8/site-packages/sklearn/neural_network/_multilayer_perceptron.py:582: ConvergenceWarning: Stochastic Optimizer: Maximum iterations (999) reached and the optimization hasn't converged yet.\n",
      "  warnings.warn(\n",
      "/home/poblivsig/Dropbox/horses2/venv/lib/python3.8/site-packages/sklearn/neural_network/_multilayer_perceptron.py:582: ConvergenceWarning: Stochastic Optimizer: Maximum iterations (999) reached and the optimization hasn't converged yet.\n",
      "  warnings.warn(\n",
      "/home/poblivsig/Dropbox/horses2/venv/lib/python3.8/site-packages/sklearn/neural_network/_multilayer_perceptron.py:582: ConvergenceWarning: Stochastic Optimizer: Maximum iterations (999) reached and the optimization hasn't converged yet.\n",
      "  warnings.warn(\n",
      "/home/poblivsig/Dropbox/horses2/venv/lib/python3.8/site-packages/sklearn/neural_network/_multilayer_perceptron.py:582: ConvergenceWarning: Stochastic Optimizer: Maximum iterations (999) reached and the optimization hasn't converged yet.\n",
      "  warnings.warn(\n",
      "/home/poblivsig/Dropbox/horses2/venv/lib/python3.8/site-packages/sklearn/neural_network/_multilayer_perceptron.py:582: ConvergenceWarning: Stochastic Optimizer: Maximum iterations (999) reached and the optimization hasn't converged yet.\n",
      "  warnings.warn(\n",
      "/home/poblivsig/Dropbox/horses2/venv/lib/python3.8/site-packages/sklearn/neural_network/_multilayer_perceptron.py:582: ConvergenceWarning: Stochastic Optimizer: Maximum iterations (999) reached and the optimization hasn't converged yet.\n",
      "  warnings.warn(\n",
      "/home/poblivsig/Dropbox/horses2/venv/lib/python3.8/site-packages/sklearn/neural_network/_multilayer_perceptron.py:582: ConvergenceWarning: Stochastic Optimizer: Maximum iterations (999) reached and the optimization hasn't converged yet.\n",
      "  warnings.warn(\n",
      "/home/poblivsig/Dropbox/horses2/venv/lib/python3.8/site-packages/sklearn/neural_network/_multilayer_perceptron.py:582: ConvergenceWarning: Stochastic Optimizer: Maximum iterations (999) reached and the optimization hasn't converged yet.\n",
      "  warnings.warn(\n",
      "/home/poblivsig/Dropbox/horses2/venv/lib/python3.8/site-packages/sklearn/neural_network/_multilayer_perceptron.py:582: ConvergenceWarning: Stochastic Optimizer: Maximum iterations (999) reached and the optimization hasn't converged yet.\n",
      "  warnings.warn(\n",
      "/home/poblivsig/Dropbox/horses2/venv/lib/python3.8/site-packages/sklearn/neural_network/_multilayer_perceptron.py:582: ConvergenceWarning: Stochastic Optimizer: Maximum iterations (999) reached and the optimization hasn't converged yet.\n",
      "  warnings.warn(\n",
      "/home/poblivsig/Dropbox/horses2/venv/lib/python3.8/site-packages/sklearn/neural_network/_multilayer_perceptron.py:582: ConvergenceWarning: Stochastic Optimizer: Maximum iterations (999) reached and the optimization hasn't converged yet.\n",
      "  warnings.warn(\n",
      "/home/poblivsig/Dropbox/horses2/venv/lib/python3.8/site-packages/sklearn/neural_network/_multilayer_perceptron.py:582: ConvergenceWarning: Stochastic Optimizer: Maximum iterations (999) reached and the optimization hasn't converged yet.\n",
      "  warnings.warn(\n",
      "/home/poblivsig/Dropbox/horses2/venv/lib/python3.8/site-packages/sklearn/neural_network/_multilayer_perceptron.py:582: ConvergenceWarning: Stochastic Optimizer: Maximum iterations (999) reached and the optimization hasn't converged yet.\n",
      "  warnings.warn(\n",
      "/home/poblivsig/Dropbox/horses2/venv/lib/python3.8/site-packages/sklearn/neural_network/_multilayer_perceptron.py:582: ConvergenceWarning: Stochastic Optimizer: Maximum iterations (999) reached and the optimization hasn't converged yet.\n",
      "  warnings.warn(\n",
      "/home/poblivsig/Dropbox/horses2/venv/lib/python3.8/site-packages/sklearn/neural_network/_multilayer_perceptron.py:582: ConvergenceWarning: Stochastic Optimizer: Maximum iterations (999) reached and the optimization hasn't converged yet.\n",
      "  warnings.warn(\n",
      "/home/poblivsig/Dropbox/horses2/venv/lib/python3.8/site-packages/sklearn/neural_network/_multilayer_perceptron.py:582: ConvergenceWarning: Stochastic Optimizer: Maximum iterations (999) reached and the optimization hasn't converged yet.\n",
      "  warnings.warn(\n",
      "/home/poblivsig/Dropbox/horses2/venv/lib/python3.8/site-packages/sklearn/neural_network/_multilayer_perceptron.py:582: ConvergenceWarning: Stochastic Optimizer: Maximum iterations (999) reached and the optimization hasn't converged yet.\n",
      "  warnings.warn(\n",
      "/home/poblivsig/Dropbox/horses2/venv/lib/python3.8/site-packages/sklearn/neural_network/_multilayer_perceptron.py:582: ConvergenceWarning: Stochastic Optimizer: Maximum iterations (999) reached and the optimization hasn't converged yet.\n",
      "  warnings.warn(\n",
      "/home/poblivsig/Dropbox/horses2/venv/lib/python3.8/site-packages/sklearn/neural_network/_multilayer_perceptron.py:582: ConvergenceWarning: Stochastic Optimizer: Maximum iterations (999) reached and the optimization hasn't converged yet.\n",
      "  warnings.warn(\n",
      "/home/poblivsig/Dropbox/horses2/venv/lib/python3.8/site-packages/sklearn/neural_network/_multilayer_perceptron.py:582: ConvergenceWarning: Stochastic Optimizer: Maximum iterations (999) reached and the optimization hasn't converged yet.\n",
      "  warnings.warn(\n",
      "/home/poblivsig/Dropbox/horses2/venv/lib/python3.8/site-packages/sklearn/neural_network/_multilayer_perceptron.py:582: ConvergenceWarning: Stochastic Optimizer: Maximum iterations (999) reached and the optimization hasn't converged yet.\n",
      "  warnings.warn(\n",
      "/home/poblivsig/Dropbox/horses2/venv/lib/python3.8/site-packages/sklearn/neural_network/_multilayer_perceptron.py:582: ConvergenceWarning: Stochastic Optimizer: Maximum iterations (999) reached and the optimization hasn't converged yet.\n",
      "  warnings.warn(\n",
      "/home/poblivsig/Dropbox/horses2/venv/lib/python3.8/site-packages/sklearn/neural_network/_multilayer_perceptron.py:582: ConvergenceWarning: Stochastic Optimizer: Maximum iterations (999) reached and the optimization hasn't converged yet.\n",
      "  warnings.warn(\n",
      "/home/poblivsig/Dropbox/horses2/venv/lib/python3.8/site-packages/sklearn/neural_network/_multilayer_perceptron.py:582: ConvergenceWarning: Stochastic Optimizer: Maximum iterations (999) reached and the optimization hasn't converged yet.\n",
      "  warnings.warn(\n",
      "/home/poblivsig/Dropbox/horses2/venv/lib/python3.8/site-packages/sklearn/neural_network/_multilayer_perceptron.py:582: ConvergenceWarning: Stochastic Optimizer: Maximum iterations (999) reached and the optimization hasn't converged yet.\n",
      "  warnings.warn(\n",
      "/home/poblivsig/Dropbox/horses2/venv/lib/python3.8/site-packages/sklearn/neural_network/_multilayer_perceptron.py:582: ConvergenceWarning: Stochastic Optimizer: Maximum iterations (999) reached and the optimization hasn't converged yet.\n",
      "  warnings.warn(\n",
      "/home/poblivsig/Dropbox/horses2/venv/lib/python3.8/site-packages/sklearn/neural_network/_multilayer_perceptron.py:582: ConvergenceWarning: Stochastic Optimizer: Maximum iterations (999) reached and the optimization hasn't converged yet.\n",
      "  warnings.warn(\n",
      "/home/poblivsig/Dropbox/horses2/venv/lib/python3.8/site-packages/sklearn/neural_network/_multilayer_perceptron.py:582: ConvergenceWarning: Stochastic Optimizer: Maximum iterations (999) reached and the optimization hasn't converged yet.\n",
      "  warnings.warn(\n",
      "/home/poblivsig/Dropbox/horses2/venv/lib/python3.8/site-packages/sklearn/neural_network/_multilayer_perceptron.py:582: ConvergenceWarning: Stochastic Optimizer: Maximum iterations (999) reached and the optimization hasn't converged yet.\n",
      "  warnings.warn(\n",
      "/home/poblivsig/Dropbox/horses2/venv/lib/python3.8/site-packages/sklearn/neural_network/_multilayer_perceptron.py:582: ConvergenceWarning: Stochastic Optimizer: Maximum iterations (999) reached and the optimization hasn't converged yet.\n",
      "  warnings.warn(\n",
      "/home/poblivsig/Dropbox/horses2/venv/lib/python3.8/site-packages/sklearn/neural_network/_multilayer_perceptron.py:582: ConvergenceWarning: Stochastic Optimizer: Maximum iterations (999) reached and the optimization hasn't converged yet.\n",
      "  warnings.warn(\n",
      "/home/poblivsig/Dropbox/horses2/venv/lib/python3.8/site-packages/sklearn/neural_network/_multilayer_perceptron.py:582: ConvergenceWarning: Stochastic Optimizer: Maximum iterations (999) reached and the optimization hasn't converged yet.\n",
      "  warnings.warn(\n",
      "/home/poblivsig/Dropbox/horses2/venv/lib/python3.8/site-packages/sklearn/neural_network/_multilayer_perceptron.py:582: ConvergenceWarning: Stochastic Optimizer: Maximum iterations (999) reached and the optimization hasn't converged yet.\n",
      "  warnings.warn(\n",
      "/home/poblivsig/Dropbox/horses2/venv/lib/python3.8/site-packages/sklearn/neural_network/_multilayer_perceptron.py:582: ConvergenceWarning: Stochastic Optimizer: Maximum iterations (999) reached and the optimization hasn't converged yet.\n",
      "  warnings.warn(\n",
      "/home/poblivsig/Dropbox/horses2/venv/lib/python3.8/site-packages/sklearn/neural_network/_multilayer_perceptron.py:582: ConvergenceWarning: Stochastic Optimizer: Maximum iterations (999) reached and the optimization hasn't converged yet.\n",
      "  warnings.warn(\n",
      "/home/poblivsig/Dropbox/horses2/venv/lib/python3.8/site-packages/sklearn/neural_network/_multilayer_perceptron.py:582: ConvergenceWarning: Stochastic Optimizer: Maximum iterations (999) reached and the optimization hasn't converged yet.\n",
      "  warnings.warn(\n",
      "/home/poblivsig/Dropbox/horses2/venv/lib/python3.8/site-packages/sklearn/neural_network/_multilayer_perceptron.py:582: ConvergenceWarning: Stochastic Optimizer: Maximum iterations (999) reached and the optimization hasn't converged yet.\n",
      "  warnings.warn(\n",
      "/home/poblivsig/Dropbox/horses2/venv/lib/python3.8/site-packages/sklearn/neural_network/_multilayer_perceptron.py:582: ConvergenceWarning: Stochastic Optimizer: Maximum iterations (999) reached and the optimization hasn't converged yet.\n",
      "  warnings.warn(\n",
      "/home/poblivsig/Dropbox/horses2/venv/lib/python3.8/site-packages/sklearn/neural_network/_multilayer_perceptron.py:582: ConvergenceWarning: Stochastic Optimizer: Maximum iterations (999) reached and the optimization hasn't converged yet.\n",
      "  warnings.warn(\n",
      "/home/poblivsig/Dropbox/horses2/venv/lib/python3.8/site-packages/sklearn/neural_network/_multilayer_perceptron.py:582: ConvergenceWarning: Stochastic Optimizer: Maximum iterations (999) reached and the optimization hasn't converged yet.\n",
      "  warnings.warn(\n",
      "/home/poblivsig/Dropbox/horses2/venv/lib/python3.8/site-packages/sklearn/neural_network/_multilayer_perceptron.py:582: ConvergenceWarning: Stochastic Optimizer: Maximum iterations (999) reached and the optimization hasn't converged yet.\n",
      "  warnings.warn(\n",
      "/home/poblivsig/Dropbox/horses2/venv/lib/python3.8/site-packages/sklearn/neural_network/_multilayer_perceptron.py:582: ConvergenceWarning: Stochastic Optimizer: Maximum iterations (999) reached and the optimization hasn't converged yet.\n",
      "  warnings.warn(\n",
      "/home/poblivsig/Dropbox/horses2/venv/lib/python3.8/site-packages/sklearn/neural_network/_multilayer_perceptron.py:582: ConvergenceWarning: Stochastic Optimizer: Maximum iterations (999) reached and the optimization hasn't converged yet.\n",
      "  warnings.warn(\n",
      "/home/poblivsig/Dropbox/horses2/venv/lib/python3.8/site-packages/sklearn/neural_network/_multilayer_perceptron.py:582: ConvergenceWarning: Stochastic Optimizer: Maximum iterations (999) reached and the optimization hasn't converged yet.\n",
      "  warnings.warn(\n",
      "/home/poblivsig/Dropbox/horses2/venv/lib/python3.8/site-packages/sklearn/neural_network/_multilayer_perceptron.py:582: ConvergenceWarning: Stochastic Optimizer: Maximum iterations (999) reached and the optimization hasn't converged yet.\n",
      "  warnings.warn(\n",
      "/home/poblivsig/Dropbox/horses2/venv/lib/python3.8/site-packages/sklearn/neural_network/_multilayer_perceptron.py:582: ConvergenceWarning: Stochastic Optimizer: Maximum iterations (999) reached and the optimization hasn't converged yet.\n",
      "  warnings.warn(\n",
      "/home/poblivsig/Dropbox/horses2/venv/lib/python3.8/site-packages/sklearn/neural_network/_multilayer_perceptron.py:582: ConvergenceWarning: Stochastic Optimizer: Maximum iterations (999) reached and the optimization hasn't converged yet.\n",
      "  warnings.warn(\n",
      "/home/poblivsig/Dropbox/horses2/venv/lib/python3.8/site-packages/sklearn/neural_network/_multilayer_perceptron.py:582: ConvergenceWarning: Stochastic Optimizer: Maximum iterations (999) reached and the optimization hasn't converged yet.\n",
      "  warnings.warn(\n",
      "/home/poblivsig/Dropbox/horses2/venv/lib/python3.8/site-packages/sklearn/neural_network/_multilayer_perceptron.py:582: ConvergenceWarning: Stochastic Optimizer: Maximum iterations (999) reached and the optimization hasn't converged yet.\n",
      "  warnings.warn(\n",
      "/home/poblivsig/Dropbox/horses2/venv/lib/python3.8/site-packages/sklearn/neural_network/_multilayer_perceptron.py:582: ConvergenceWarning: Stochastic Optimizer: Maximum iterations (999) reached and the optimization hasn't converged yet.\n",
      "  warnings.warn(\n",
      "/home/poblivsig/Dropbox/horses2/venv/lib/python3.8/site-packages/sklearn/neural_network/_multilayer_perceptron.py:582: ConvergenceWarning: Stochastic Optimizer: Maximum iterations (999) reached and the optimization hasn't converged yet.\n",
      "  warnings.warn(\n",
      "/home/poblivsig/Dropbox/horses2/venv/lib/python3.8/site-packages/sklearn/neural_network/_multilayer_perceptron.py:582: ConvergenceWarning: Stochastic Optimizer: Maximum iterations (999) reached and the optimization hasn't converged yet.\n",
      "  warnings.warn(\n",
      "/home/poblivsig/Dropbox/horses2/venv/lib/python3.8/site-packages/sklearn/neural_network/_multilayer_perceptron.py:582: ConvergenceWarning: Stochastic Optimizer: Maximum iterations (999) reached and the optimization hasn't converged yet.\n",
      "  warnings.warn(\n",
      "/home/poblivsig/Dropbox/horses2/venv/lib/python3.8/site-packages/sklearn/neural_network/_multilayer_perceptron.py:582: ConvergenceWarning: Stochastic Optimizer: Maximum iterations (999) reached and the optimization hasn't converged yet.\n",
      "  warnings.warn(\n",
      "/home/poblivsig/Dropbox/horses2/venv/lib/python3.8/site-packages/sklearn/neural_network/_multilayer_perceptron.py:582: ConvergenceWarning: Stochastic Optimizer: Maximum iterations (999) reached and the optimization hasn't converged yet.\n",
      "  warnings.warn(\n",
      "/home/poblivsig/Dropbox/horses2/venv/lib/python3.8/site-packages/sklearn/neural_network/_multilayer_perceptron.py:582: ConvergenceWarning: Stochastic Optimizer: Maximum iterations (999) reached and the optimization hasn't converged yet.\n",
      "  warnings.warn(\n",
      "/home/poblivsig/Dropbox/horses2/venv/lib/python3.8/site-packages/sklearn/neural_network/_multilayer_perceptron.py:582: ConvergenceWarning: Stochastic Optimizer: Maximum iterations (999) reached and the optimization hasn't converged yet.\n",
      "  warnings.warn(\n",
      "/home/poblivsig/Dropbox/horses2/venv/lib/python3.8/site-packages/sklearn/neural_network/_multilayer_perceptron.py:582: ConvergenceWarning: Stochastic Optimizer: Maximum iterations (999) reached and the optimization hasn't converged yet.\n",
      "  warnings.warn(\n",
      "/home/poblivsig/Dropbox/horses2/venv/lib/python3.8/site-packages/sklearn/neural_network/_multilayer_perceptron.py:582: ConvergenceWarning: Stochastic Optimizer: Maximum iterations (999) reached and the optimization hasn't converged yet.\n",
      "  warnings.warn(\n",
      "/home/poblivsig/Dropbox/horses2/venv/lib/python3.8/site-packages/sklearn/neural_network/_multilayer_perceptron.py:582: ConvergenceWarning: Stochastic Optimizer: Maximum iterations (999) reached and the optimization hasn't converged yet.\n",
      "  warnings.warn(\n",
      "/home/poblivsig/Dropbox/horses2/venv/lib/python3.8/site-packages/sklearn/neural_network/_multilayer_perceptron.py:582: ConvergenceWarning: Stochastic Optimizer: Maximum iterations (999) reached and the optimization hasn't converged yet.\n",
      "  warnings.warn(\n",
      "/home/poblivsig/Dropbox/horses2/venv/lib/python3.8/site-packages/sklearn/neural_network/_multilayer_perceptron.py:582: ConvergenceWarning: Stochastic Optimizer: Maximum iterations (999) reached and the optimization hasn't converged yet.\n",
      "  warnings.warn(\n",
      "/home/poblivsig/Dropbox/horses2/venv/lib/python3.8/site-packages/sklearn/neural_network/_multilayer_perceptron.py:582: ConvergenceWarning: Stochastic Optimizer: Maximum iterations (999) reached and the optimization hasn't converged yet.\n",
      "  warnings.warn(\n",
      "/home/poblivsig/Dropbox/horses2/venv/lib/python3.8/site-packages/sklearn/neural_network/_multilayer_perceptron.py:582: ConvergenceWarning: Stochastic Optimizer: Maximum iterations (999) reached and the optimization hasn't converged yet.\n",
      "  warnings.warn(\n",
      "/home/poblivsig/Dropbox/horses2/venv/lib/python3.8/site-packages/sklearn/neural_network/_multilayer_perceptron.py:582: ConvergenceWarning: Stochastic Optimizer: Maximum iterations (999) reached and the optimization hasn't converged yet.\n",
      "  warnings.warn(\n",
      "/home/poblivsig/Dropbox/horses2/venv/lib/python3.8/site-packages/sklearn/neural_network/_multilayer_perceptron.py:582: ConvergenceWarning: Stochastic Optimizer: Maximum iterations (999) reached and the optimization hasn't converged yet.\n",
      "  warnings.warn(\n",
      "/home/poblivsig/Dropbox/horses2/venv/lib/python3.8/site-packages/sklearn/neural_network/_multilayer_perceptron.py:582: ConvergenceWarning: Stochastic Optimizer: Maximum iterations (999) reached and the optimization hasn't converged yet.\n",
      "  warnings.warn(\n",
      "/home/poblivsig/Dropbox/horses2/venv/lib/python3.8/site-packages/sklearn/neural_network/_multilayer_perceptron.py:582: ConvergenceWarning: Stochastic Optimizer: Maximum iterations (999) reached and the optimization hasn't converged yet.\n",
      "  warnings.warn(\n",
      "/home/poblivsig/Dropbox/horses2/venv/lib/python3.8/site-packages/sklearn/neural_network/_multilayer_perceptron.py:582: ConvergenceWarning: Stochastic Optimizer: Maximum iterations (999) reached and the optimization hasn't converged yet.\n",
      "  warnings.warn(\n",
      "/home/poblivsig/Dropbox/horses2/venv/lib/python3.8/site-packages/sklearn/neural_network/_multilayer_perceptron.py:582: ConvergenceWarning: Stochastic Optimizer: Maximum iterations (999) reached and the optimization hasn't converged yet.\n",
      "  warnings.warn(\n",
      "/home/poblivsig/Dropbox/horses2/venv/lib/python3.8/site-packages/sklearn/neural_network/_multilayer_perceptron.py:582: ConvergenceWarning: Stochastic Optimizer: Maximum iterations (999) reached and the optimization hasn't converged yet.\n",
      "  warnings.warn(\n",
      "/home/poblivsig/Dropbox/horses2/venv/lib/python3.8/site-packages/sklearn/neural_network/_multilayer_perceptron.py:582: ConvergenceWarning: Stochastic Optimizer: Maximum iterations (999) reached and the optimization hasn't converged yet.\n",
      "  warnings.warn(\n",
      "/home/poblivsig/Dropbox/horses2/venv/lib/python3.8/site-packages/sklearn/neural_network/_multilayer_perceptron.py:582: ConvergenceWarning: Stochastic Optimizer: Maximum iterations (999) reached and the optimization hasn't converged yet.\n",
      "  warnings.warn(\n",
      "/home/poblivsig/Dropbox/horses2/venv/lib/python3.8/site-packages/sklearn/neural_network/_multilayer_perceptron.py:582: ConvergenceWarning: Stochastic Optimizer: Maximum iterations (999) reached and the optimization hasn't converged yet.\n",
      "  warnings.warn(\n",
      "/home/poblivsig/Dropbox/horses2/venv/lib/python3.8/site-packages/sklearn/neural_network/_multilayer_perceptron.py:582: ConvergenceWarning: Stochastic Optimizer: Maximum iterations (999) reached and the optimization hasn't converged yet.\n",
      "  warnings.warn(\n",
      "/home/poblivsig/Dropbox/horses2/venv/lib/python3.8/site-packages/sklearn/neural_network/_multilayer_perceptron.py:582: ConvergenceWarning: Stochastic Optimizer: Maximum iterations (999) reached and the optimization hasn't converged yet.\n",
      "  warnings.warn(\n",
      "/home/poblivsig/Dropbox/horses2/venv/lib/python3.8/site-packages/sklearn/neural_network/_multilayer_perceptron.py:582: ConvergenceWarning: Stochastic Optimizer: Maximum iterations (999) reached and the optimization hasn't converged yet.\n",
      "  warnings.warn(\n",
      "/home/poblivsig/Dropbox/horses2/venv/lib/python3.8/site-packages/sklearn/neural_network/_multilayer_perceptron.py:582: ConvergenceWarning: Stochastic Optimizer: Maximum iterations (999) reached and the optimization hasn't converged yet.\n",
      "  warnings.warn(\n",
      "/home/poblivsig/Dropbox/horses2/venv/lib/python3.8/site-packages/sklearn/neural_network/_multilayer_perceptron.py:582: ConvergenceWarning: Stochastic Optimizer: Maximum iterations (999) reached and the optimization hasn't converged yet.\n",
      "  warnings.warn(\n",
      "/home/poblivsig/Dropbox/horses2/venv/lib/python3.8/site-packages/sklearn/neural_network/_multilayer_perceptron.py:582: ConvergenceWarning: Stochastic Optimizer: Maximum iterations (999) reached and the optimization hasn't converged yet.\n",
      "  warnings.warn(\n",
      "/home/poblivsig/Dropbox/horses2/venv/lib/python3.8/site-packages/sklearn/neural_network/_multilayer_perceptron.py:582: ConvergenceWarning: Stochastic Optimizer: Maximum iterations (999) reached and the optimization hasn't converged yet.\n",
      "  warnings.warn(\n",
      "/home/poblivsig/Dropbox/horses2/venv/lib/python3.8/site-packages/sklearn/neural_network/_multilayer_perceptron.py:582: ConvergenceWarning: Stochastic Optimizer: Maximum iterations (999) reached and the optimization hasn't converged yet.\n",
      "  warnings.warn(\n",
      "/home/poblivsig/Dropbox/horses2/venv/lib/python3.8/site-packages/sklearn/neural_network/_multilayer_perceptron.py:582: ConvergenceWarning: Stochastic Optimizer: Maximum iterations (999) reached and the optimization hasn't converged yet.\n",
      "  warnings.warn(\n",
      "/home/poblivsig/Dropbox/horses2/venv/lib/python3.8/site-packages/sklearn/neural_network/_multilayer_perceptron.py:582: ConvergenceWarning: Stochastic Optimizer: Maximum iterations (999) reached and the optimization hasn't converged yet.\n",
      "  warnings.warn(\n",
      "/home/poblivsig/Dropbox/horses2/venv/lib/python3.8/site-packages/sklearn/neural_network/_multilayer_perceptron.py:582: ConvergenceWarning: Stochastic Optimizer: Maximum iterations (999) reached and the optimization hasn't converged yet.\n",
      "  warnings.warn(\n",
      "/home/poblivsig/Dropbox/horses2/venv/lib/python3.8/site-packages/sklearn/neural_network/_multilayer_perceptron.py:582: ConvergenceWarning: Stochastic Optimizer: Maximum iterations (999) reached and the optimization hasn't converged yet.\n",
      "  warnings.warn(\n",
      "/home/poblivsig/Dropbox/horses2/venv/lib/python3.8/site-packages/sklearn/neural_network/_multilayer_perceptron.py:582: ConvergenceWarning: Stochastic Optimizer: Maximum iterations (999) reached and the optimization hasn't converged yet.\n",
      "  warnings.warn(\n",
      "/home/poblivsig/Dropbox/horses2/venv/lib/python3.8/site-packages/sklearn/neural_network/_multilayer_perceptron.py:582: ConvergenceWarning: Stochastic Optimizer: Maximum iterations (999) reached and the optimization hasn't converged yet.\n",
      "  warnings.warn(\n",
      "/home/poblivsig/Dropbox/horses2/venv/lib/python3.8/site-packages/sklearn/neural_network/_multilayer_perceptron.py:582: ConvergenceWarning: Stochastic Optimizer: Maximum iterations (999) reached and the optimization hasn't converged yet.\n",
      "  warnings.warn(\n",
      "/home/poblivsig/Dropbox/horses2/venv/lib/python3.8/site-packages/sklearn/neural_network/_multilayer_perceptron.py:582: ConvergenceWarning: Stochastic Optimizer: Maximum iterations (999) reached and the optimization hasn't converged yet.\n",
      "  warnings.warn(\n",
      "/home/poblivsig/Dropbox/horses2/venv/lib/python3.8/site-packages/sklearn/neural_network/_multilayer_perceptron.py:582: ConvergenceWarning: Stochastic Optimizer: Maximum iterations (999) reached and the optimization hasn't converged yet.\n",
      "  warnings.warn(\n",
      "/home/poblivsig/Dropbox/horses2/venv/lib/python3.8/site-packages/sklearn/neural_network/_multilayer_perceptron.py:582: ConvergenceWarning: Stochastic Optimizer: Maximum iterations (999) reached and the optimization hasn't converged yet.\n",
      "  warnings.warn(\n",
      "/home/poblivsig/Dropbox/horses2/venv/lib/python3.8/site-packages/sklearn/neural_network/_multilayer_perceptron.py:582: ConvergenceWarning: Stochastic Optimizer: Maximum iterations (999) reached and the optimization hasn't converged yet.\n",
      "  warnings.warn(\n",
      "/home/poblivsig/Dropbox/horses2/venv/lib/python3.8/site-packages/sklearn/neural_network/_multilayer_perceptron.py:582: ConvergenceWarning: Stochastic Optimizer: Maximum iterations (999) reached and the optimization hasn't converged yet.\n",
      "  warnings.warn(\n"
     ]
    }
   ],
   "source": [
    "# Using the Multi-Layer Perceptron\n",
    "# Finds RND_COUNT_NUM random number of 1 layers count, RND_COUNT_NUM of 2, all the way to MAX_LAYERS\n",
    "MAX_LAYERS = 5\n",
    "RND_COUNT_NUM = 100\n",
    "MAX_LAYER_SIZE = 30\n",
    "\n",
    "max_accuracy = 0\n",
    "best_layers = ()\n",
    "past_layers = []\n",
    "\n",
    "print('hey')\n",
    "for count in range(RND_COUNT_NUM):\n",
    "    layers = ()\n",
    "    for param_count in range (1, 5):\n",
    "        layers = tuple(random.randint(1, MAX_LAYER_SIZE) for _ in range(param_count))\n",
    "\n",
    "        if layers not in past_layers:\n",
    "            print(layers)\n",
    "            mlp = MLPClassifier(max_iter=999, hidden_layer_sizes=layers)\n",
    "            mlp.fit(X_train, y_train)\n",
    "\n",
    "            ## MLP matrix and classification report\n",
    "            mlp_predictions = mlp.predict(X_test)\n",
    "            mlp_accuracy = accuracy_score(y_test, mlp_predictions)\n",
    "            past_layers.append(layers)\n",
    "\n",
    "            if mlp_accuracy > max_accuracy:\n",
    "                max_accuracy = mlp_accuracy\n",
    "                best_layers = layers\n",
    "\n",
    "print(f'max_accuracy = {max_accuracy}')\n",
    "print(f'best_layers = {best_layers}')\n",
    "\n",
    "mlp_cm = confusion_matrix(y_test, mlp_predictions)\n",
    "\n",
    "# TN = cm[0][0]\n",
    "# TP = cm[1][1]\n",
    "# FN = cm[1][0]\n",
    "# FP = cm[0][1]\n",
    "\n",
    "# print(cm)\n",
    "# print('Model[{}] Testing Accuracy = \"{}\"'.format(tree, (TP + TN) / (TP + TN + FN + FP)))\n",
    "print()# Print a new line\n",
    "plot_confusion_matrix(mlp,\n",
    "                      X_test,\n",
    "                      y_test,\n",
    "                      cmap=plt.cm.Blues,\n",
    "                      normalize='true' )\n",
    "\n",
    "print(classification_report(y_test, mlp_predictions))"
   ],
   "metadata": {
    "collapsed": false,
    "pycharm": {
     "name": "#%%\n",
     "is_executing": true
    }
   }
  },
  {
   "cell_type": "code",
   "execution_count": 31,
   "outputs": [
    {
     "name": "stdout",
     "output_type": "stream",
     "text": [
      "<class 'numpy.ndarray'>\n",
      "TP = \n",
      "0\n",
      "TN = \n",
      "[ 0  0 12  9  0  0]\n",
      "FP = \n",
      "[0 4 0 0 0]\n",
      "FN = \n",
      "0\n"
     ]
    }
   ],
   "source": [
    "# Use the following two to get all relevnant values:\n",
    "# https://medium.com/analytics-vidhya/what-is-a-confusion-matrix-d1c0f8feda5\n",
    "# https://towardsdatascience.com/confusion-matrix-for-your-multi-class-machine-learning-model-ff9aa3bf7826\n",
    "\n",
    "# For 3\n",
    "# True +ve - They said it was the class and it was\n",
    "print(type(cm))\n",
    "TP = cm[0][0]\n",
    "TN = cm[1:, 1:]\n",
    "FP = cm[0][1:]\n",
    "TN = cm[1:][0]\n",
    "TP_sum = np.sum(cm[0][0])\n",
    "TN_sum = np.sum(cm[1:][1:])\n",
    "FP_sum = np.sum(cm[0][1:])\n",
    "TN_sum = np.sum(cm[1:][0])\n",
    "print(f'TP = \\n{TP}')\n",
    "print(f'TN = \\n{TN}')\n",
    "print(f'FP = \\n{FP}')\n",
    "print(f'FN = \\n{FN}')"
   ],
   "metadata": {
    "collapsed": false,
    "pycharm": {
     "name": "#%%\n"
    }
   }
  },
  {
   "cell_type": "code",
   "execution_count": null,
   "outputs": [],
   "source": [
    "print(max_accuracy)"
   ],
   "metadata": {
    "collapsed": false,
    "pycharm": {
     "name": "#%%\n",
     "is_executing": true
    }
   }
  },
  {
   "cell_type": "code",
   "execution_count": null,
   "outputs": [],
   "source": [],
   "metadata": {
    "collapsed": false,
    "pycharm": {
     "name": "#%%\n"
    }
   }
  }
 ],
 "metadata": {
  "kernelspec": {
   "display_name": "PyCharm (horses2)",
   "language": "python",
   "name": "pycharm-f2a26db1"
  },
  "language_info": {
   "codemirror_mode": {
    "name": "ipython",
    "version": 2
   },
   "file_extension": ".py",
   "mimetype": "text/x-python",
   "name": "python",
   "nbconvert_exporter": "python",
   "pygments_lexer": "ipython2",
   "version": "2.7.6"
  }
 },
 "nbformat": 4,
 "nbformat_minor": 0
}
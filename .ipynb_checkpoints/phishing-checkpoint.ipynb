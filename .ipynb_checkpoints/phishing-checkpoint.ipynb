{
 "cells": [
  {
   "cell_type": "code",
   "execution_count": 7,
   "metadata": {
    "pycharm": {
     "name": "#%%\n"
    }
   },
   "outputs": [],
   "source": [
    "import matplotlib.pyplot as plt\n",
    "import numpy as np\n",
    "import pandas as pd\n",
    "import seaborn as sns\n",
    "\n",
    "from sklearn.neighbors import KNeighborsClassifier\n",
    "from sklearn.model_selection import train_test_split\n",
    "from sklearn.model_selection import cross_val_score, GridSearchCV\n",
    "from sklearn.model_selection import learning_curve\n",
    "from sklearn.impute import SimpleImputer\n",
    "from sklearn.preprocessing import LabelEncoder, OneHotEncoder\n",
    "from sklearn.preprocessing import RobustScaler\n",
    "from sklearn.metrics import confusion_matrix\n",
    "from sklearn.metrics import plot_confusion_matrix, classification_report, accuracy_score\n",
    "from sklearn.metrics import roc_curve, auc\n",
    "from sklearn.model_selection import GridSearchCV as gridsearchcv\n",
    "from sklearn.metrics import mean_squared_error, make_scorer, r2_score, auc, roc_curve\n",
    "\n",
    "from sklearn.neural_network import MLPClassifier as mlp\n",
    "from sklearn.tree import DecisionTreeClassifier as dtc\n",
    "\n",
    "from scipy import stats\n",
    "\n",
    "import math\n",
    "import os\n",
    "import random"
   ]
  },
  {
   "cell_type": "code",
   "execution_count": 8,
   "metadata": {
    "pycharm": {
     "name": "#%%\n"
    }
   },
   "outputs": [
    {
     "name": "stdout",
     "output_type": "stream",
     "text": [
      "/home/poblivsig/Dropbox/horses2\n"
     ]
    }
   ],
   "source": [
    "## Move to correct folder for server.  Can remove before sending\n",
    "# os.chdir('/home/poblivsig/Dropbox/horses2')\n",
    "os.chdir('/home/poblivsig/Dropbox/horses2')\n",
    "print(os.getcwd())"
   ]
  },
  {
   "cell_type": "code",
   "execution_count": 9,
   "metadata": {
    "pycharm": {
     "name": "#%%\n"
    }
   },
   "outputs": [],
   "source": [
    "## Open the pre-processed csv\n",
    "df = pd.read_csv('data/phishing.csv')"
   ]
  },
  {
   "cell_type": "code",
   "execution_count": 10,
   "metadata": {
    "pycharm": {
     "name": "#%%\n"
    }
   },
   "outputs": [
    {
     "name": "stdout",
     "output_type": "stream",
     "text": [
      "Shape\n",
      "\n",
      "(11055, 32)\n",
      "Columns\n",
      "\n",
      "Index(['id', 'having_IP_Address', 'URL_Length', 'Shortining_Service',\n",
      "       'having_At_Symbol', 'double_slash_redirecting', 'Prefix_Suffix',\n",
      "       'having_Sub_Domain', 'SSLfinal_State', 'Domain_registeration_length',\n",
      "       'Favicon', 'port', 'HTTPS_token', 'Request_URL', 'URL_of_Anchor',\n",
      "       'Links_in_tags', 'SFH', 'Submitting_to_email', 'Abnormal_URL',\n",
      "       'Redirect', 'on_mouseover', 'RightClick', 'popUpWidnow', 'Iframe',\n",
      "       'age_of_domain', 'DNSRecord', 'web_traffic', 'Page_Rank',\n",
      "       'Google_Index', 'Links_pointing_to_page', 'Statistical_report',\n",
      "       'Result'],\n",
      "      dtype='object')\n",
      "dtypes\n",
      "\n",
      "id                             int64\n",
      "having_IP_Address              int64\n",
      "URL_Length                     int64\n",
      "Shortining_Service             int64\n",
      "having_At_Symbol               int64\n",
      "double_slash_redirecting       int64\n",
      "Prefix_Suffix                  int64\n",
      "having_Sub_Domain              int64\n",
      "SSLfinal_State                 int64\n",
      "Domain_registeration_length    int64\n",
      "Favicon                        int64\n",
      "port                           int64\n",
      "HTTPS_token                    int64\n",
      "Request_URL                    int64\n",
      "URL_of_Anchor                  int64\n",
      "Links_in_tags                  int64\n",
      "SFH                            int64\n",
      "Submitting_to_email            int64\n",
      "Abnormal_URL                   int64\n",
      "Redirect                       int64\n",
      "on_mouseover                   int64\n",
      "RightClick                     int64\n",
      "popUpWidnow                    int64\n",
      "Iframe                         int64\n",
      "age_of_domain                  int64\n",
      "DNSRecord                      int64\n",
      "web_traffic                    int64\n",
      "Page_Rank                      int64\n",
      "Google_Index                   int64\n",
      "Links_pointing_to_page         int64\n",
      "Statistical_report             int64\n",
      "Result                         int64\n",
      "dtype: object\n",
      "Description\n",
      "\n",
      "                 id  having_IP_Address    URL_Length  Shortining_Service  \\\n",
      "count  11055.000000       11055.000000  11055.000000        11055.000000   \n",
      "mean    5528.000000           0.313795     -0.633198            0.738761   \n",
      "std     3191.447947           0.949534      0.766095            0.673998   \n",
      "min        1.000000          -1.000000     -1.000000           -1.000000   \n",
      "25%     2764.500000          -1.000000     -1.000000            1.000000   \n",
      "50%     5528.000000           1.000000     -1.000000            1.000000   \n",
      "75%     8291.500000           1.000000     -1.000000            1.000000   \n",
      "max    11055.000000           1.000000      1.000000            1.000000   \n",
      "\n",
      "       having_At_Symbol  double_slash_redirecting  Prefix_Suffix  \\\n",
      "count      11055.000000              11055.000000   11055.000000   \n",
      "mean           0.700588                  0.741474      -0.734962   \n",
      "std            0.713598                  0.671011       0.678139   \n",
      "min           -1.000000                 -1.000000      -1.000000   \n",
      "25%            1.000000                  1.000000      -1.000000   \n",
      "50%            1.000000                  1.000000      -1.000000   \n",
      "75%            1.000000                  1.000000      -1.000000   \n",
      "max            1.000000                  1.000000       1.000000   \n",
      "\n",
      "       having_Sub_Domain  SSLfinal_State  Domain_registeration_length  \\\n",
      "count       11055.000000    11055.000000                 11055.000000   \n",
      "mean            0.063953        0.250927                    -0.336771   \n",
      "std             0.817518        0.911892                     0.941629   \n",
      "min            -1.000000       -1.000000                    -1.000000   \n",
      "25%            -1.000000       -1.000000                    -1.000000   \n",
      "50%             0.000000        1.000000                    -1.000000   \n",
      "75%             1.000000        1.000000                     1.000000   \n",
      "max             1.000000        1.000000                     1.000000   \n",
      "\n",
      "            Favicon          port   HTTPS_token   Request_URL  URL_of_Anchor  \\\n",
      "count  11055.000000  11055.000000  11055.000000  11055.000000   11055.000000   \n",
      "mean       0.628584      0.728268      0.675079      0.186793      -0.076526   \n",
      "std        0.777777      0.685324      0.737779      0.982444       0.715138   \n",
      "min       -1.000000     -1.000000     -1.000000     -1.000000      -1.000000   \n",
      "25%        1.000000      1.000000      1.000000     -1.000000      -1.000000   \n",
      "50%        1.000000      1.000000      1.000000      1.000000       0.000000   \n",
      "75%        1.000000      1.000000      1.000000      1.000000       0.000000   \n",
      "max        1.000000      1.000000      1.000000      1.000000       1.000000   \n",
      "\n",
      "       Links_in_tags           SFH  Submitting_to_email  Abnormal_URL  \\\n",
      "count   11055.000000  11055.000000         11055.000000  11055.000000   \n",
      "mean       -0.118137     -0.595749             0.635640      0.705292   \n",
      "std         0.763973      0.759143             0.772021      0.708949   \n",
      "min        -1.000000     -1.000000            -1.000000     -1.000000   \n",
      "25%        -1.000000     -1.000000             1.000000      1.000000   \n",
      "50%         0.000000     -1.000000             1.000000      1.000000   \n",
      "75%         0.000000     -1.000000             1.000000      1.000000   \n",
      "max         1.000000      1.000000             1.000000      1.000000   \n",
      "\n",
      "           Redirect  on_mouseover    RightClick   popUpWidnow        Iframe  \\\n",
      "count  11055.000000  11055.000000  11055.000000  11055.000000  11055.000000   \n",
      "mean       0.115694      0.762099      0.913885      0.613388      0.816915   \n",
      "std        0.319872      0.647490      0.405991      0.789818      0.576784   \n",
      "min        0.000000     -1.000000     -1.000000     -1.000000     -1.000000   \n",
      "25%        0.000000      1.000000      1.000000      1.000000      1.000000   \n",
      "50%        0.000000      1.000000      1.000000      1.000000      1.000000   \n",
      "75%        0.000000      1.000000      1.000000      1.000000      1.000000   \n",
      "max        1.000000      1.000000      1.000000      1.000000      1.000000   \n",
      "\n",
      "       age_of_domain     DNSRecord   web_traffic     Page_Rank  Google_Index  \\\n",
      "count   11055.000000  11055.000000  11055.000000  11055.000000  11055.000000   \n",
      "mean        0.061239      0.377114      0.287291     -0.483673      0.721574   \n",
      "std         0.998168      0.926209      0.827733      0.875289      0.692369   \n",
      "min        -1.000000     -1.000000     -1.000000     -1.000000     -1.000000   \n",
      "25%        -1.000000     -1.000000      0.000000     -1.000000      1.000000   \n",
      "50%         1.000000      1.000000      1.000000     -1.000000      1.000000   \n",
      "75%         1.000000      1.000000      1.000000      1.000000      1.000000   \n",
      "max         1.000000      1.000000      1.000000      1.000000      1.000000   \n",
      "\n",
      "       Links_pointing_to_page  Statistical_report        Result  \n",
      "count            11055.000000        11055.000000  11055.000000  \n",
      "mean                 0.344007            0.719584      0.113885  \n",
      "std                  0.569944            0.694437      0.993539  \n",
      "min                 -1.000000           -1.000000     -1.000000  \n",
      "25%                  0.000000            1.000000     -1.000000  \n",
      "50%                  0.000000            1.000000      1.000000  \n",
      "75%                  1.000000            1.000000      1.000000  \n",
      "max                  1.000000            1.000000      1.000000  \n",
      "Info:\n",
      "<bound method DataFrame.info of           id  having_IP_Address  URL_Length  Shortining_Service  \\\n",
      "0          1                 -1           1                   1   \n",
      "1          2                  1           1                   1   \n",
      "2          3                  1           0                   1   \n",
      "3          4                  1           0                   1   \n",
      "4          5                  1           0                  -1   \n",
      "...      ...                ...         ...                 ...   \n",
      "11050  11051                  1          -1                   1   \n",
      "11051  11052                 -1           1                   1   \n",
      "11052  11053                  1          -1                   1   \n",
      "11053  11054                 -1          -1                   1   \n",
      "11054  11055                 -1          -1                   1   \n",
      "\n",
      "       having_At_Symbol  double_slash_redirecting  Prefix_Suffix  \\\n",
      "0                     1                        -1             -1   \n",
      "1                     1                         1             -1   \n",
      "2                     1                         1             -1   \n",
      "3                     1                         1             -1   \n",
      "4                     1                         1             -1   \n",
      "...                 ...                       ...            ...   \n",
      "11050                -1                         1              1   \n",
      "11051                -1                        -1             -1   \n",
      "11052                 1                         1             -1   \n",
      "11053                 1                         1             -1   \n",
      "11054                 1                         1             -1   \n",
      "\n",
      "       having_Sub_Domain  SSLfinal_State  Domain_registeration_length  \\\n",
      "0                     -1              -1                           -1   \n",
      "1                      0               1                           -1   \n",
      "2                     -1              -1                           -1   \n",
      "3                     -1              -1                            1   \n",
      "4                      1               1                           -1   \n",
      "...                  ...             ...                          ...   \n",
      "11050                  1               1                           -1   \n",
      "11051                  1              -1                           -1   \n",
      "11052                  1              -1                           -1   \n",
      "11053                 -1              -1                            1   \n",
      "11054                 -1              -1                            1   \n",
      "\n",
      "       Favicon  port  HTTPS_token  Request_URL  URL_of_Anchor  Links_in_tags  \\\n",
      "0            1     1           -1            1             -1              1   \n",
      "1            1     1           -1            1              0             -1   \n",
      "2            1     1           -1            1              0             -1   \n",
      "3            1     1           -1           -1              0              0   \n",
      "4            1     1            1            1              0              0   \n",
      "...        ...   ...          ...          ...            ...            ...   \n",
      "11050       -1    -1            1            1              1              1   \n",
      "11051       -1    -1            1            1             -1             -1   \n",
      "11052        1     1            1            1              0             -1   \n",
      "11053       -1     1            1           -1             -1              1   \n",
      "11054        1     1            1           -1             -1              0   \n",
      "\n",
      "       SFH  Submitting_to_email  Abnormal_URL  Redirect  on_mouseover  \\\n",
      "0       -1                   -1            -1         0             1   \n",
      "1       -1                    1             1         0             1   \n",
      "2       -1                   -1            -1         0             1   \n",
      "3       -1                    1             1         0             1   \n",
      "4       -1                    1             1         0            -1   \n",
      "...    ...                  ...           ...       ...           ...   \n",
      "11050   -1                   -1             1         0            -1   \n",
      "11051    0                   -1            -1         1            -1   \n",
      "11052   -1                    1             1         0             1   \n",
      "11053   -1                    1             1         0            -1   \n",
      "11054   -1                    1             1         0             1   \n",
      "\n",
      "       RightClick  popUpWidnow  Iframe  age_of_domain  DNSRecord  web_traffic  \\\n",
      "0               1            1       1             -1         -1           -1   \n",
      "1               1            1       1             -1         -1            0   \n",
      "2               1            1       1              1         -1            1   \n",
      "3               1            1       1             -1         -1            1   \n",
      "4               1           -1       1             -1         -1            0   \n",
      "...           ...          ...     ...            ...        ...          ...   \n",
      "11050          -1           -1      -1              1          1           -1   \n",
      "11051           1           -1       1              1          1            1   \n",
      "11052           1            1       1              1          1            1   \n",
      "11053           1           -1       1              1          1            1   \n",
      "11054           1            1       1             -1          1           -1   \n",
      "\n",
      "       Page_Rank  Google_Index  Links_pointing_to_page  Statistical_report  \\\n",
      "0             -1             1                       1                  -1   \n",
      "1             -1             1                       1                   1   \n",
      "2             -1             1                       0                  -1   \n",
      "3             -1             1                      -1                   1   \n",
      "4             -1             1                       1                   1   \n",
      "...          ...           ...                     ...                 ...   \n",
      "11050         -1             1                       1                   1   \n",
      "11051          1             1                      -1                   1   \n",
      "11052         -1             1                       0                   1   \n",
      "11053         -1             1                       1                   1   \n",
      "11054         -1            -1                       1                  -1   \n",
      "\n",
      "       Result  \n",
      "0          -1  \n",
      "1          -1  \n",
      "2          -1  \n",
      "3          -1  \n",
      "4           1  \n",
      "...       ...  \n",
      "11050       1  \n",
      "11051      -1  \n",
      "11052      -1  \n",
      "11053      -1  \n",
      "11054      -1  \n",
      "\n",
      "[11055 rows x 32 columns]>\n",
      "Check out the sample:         id  having_IP_Address  URL_Length  Shortining_Service  \\\n",
      "5581  5582                 -1          -1                   1   \n",
      "\n",
      "      having_At_Symbol  double_slash_redirecting  Prefix_Suffix  \\\n",
      "5581                -1                         1             -1   \n",
      "\n",
      "      having_Sub_Domain  SSLfinal_State  Domain_registeration_length  Favicon  \\\n",
      "5581                  1              -1                           -1        1   \n",
      "\n",
      "      port  HTTPS_token  Request_URL  URL_of_Anchor  Links_in_tags  SFH  \\\n",
      "5581     1            1            1              1             -1   -1   \n",
      "\n",
      "      Submitting_to_email  Abnormal_URL  Redirect  on_mouseover  RightClick  \\\n",
      "5581                    1             1         0             1           1   \n",
      "\n",
      "      popUpWidnow  Iframe  age_of_domain  DNSRecord  web_traffic  Page_Rank  \\\n",
      "5581            1       1             -1          1           -1          1   \n",
      "\n",
      "      Google_Index  Links_pointing_to_page  Statistical_report  Result  \n",
      "5581             1                       0                   1      -1  \n"
     ]
    }
   ],
   "source": [
    "## Get info about wine\n",
    "print(f'Shape\\n\\n{df.shape}')\n",
    "print(f'Columns\\n\\n{df.columns}')\n",
    "print(f'dtypes\\n\\n{df.dtypes}')\n",
    "pd.set_option('display.max_columns', None)\n",
    "print(f'Description\\n\\n{df.describe()}')\n",
    "print(f'Info:\\n{df.info}')\n",
    "print(f'Check out the sample: {df.sample(n=1)}')\n",
    "pd.set_option('display.max_columns', 5)\n",
    "\n"
   ]
  },
  {
   "cell_type": "code",
   "execution_count": 11,
   "metadata": {
    "pycharm": {
     "name": "#%%\n"
    }
   },
   "outputs": [
    {
     "name": "stderr",
     "output_type": "stream",
     "text": [
      "/home/poblivsig/Dropbox/horses2/venv/lib/python3.8/site-packages/seaborn/_decorators.py:36: FutureWarning: Pass the following variable as a keyword arg: x. From version 0.12, the only valid positional argument will be `data`, and passing other arguments without an explicit keyword will result in an error or misinterpretation.\n",
      "  warnings.warn(\n"
     ]
    },
    {
     "data": {
      "image/png": "[encoded data removed]",
      "text/plain": [
       "<Figure size 432x288 with 1 Axes>"
      ]
     },
     "metadata": {
      "needs_background": "light"
     },
     "output_type": "display_data"
    }
   ],
   "source": [
    "# Count the different quality values\n",
    "sns.countplot(df['Result'],\n",
    "              palette='Blues',\n",
    "              label=\"Quality Count\", )\n",
    "plt.plot()\n",
    "plt.savefig('data/charts/bc_diag_countplot.png')"
   ]
  },
  {
   "cell_type": "code",
   "execution_count": 12,
   "metadata": {
    "pycharm": {
     "name": "#%%\n"
    }
   },
   "outputs": [
    {
     "data": {
      "image/png": "[encoded data removed]",
      "text/plain": [
       "<Figure size 720x576 with 36 Axes>"
      ]
     },
     "metadata": {
      "needs_background": "light"
     },
     "output_type": "display_data"
    }
   ],
   "source": [
    "# Create mini-histograms for each attribute\n",
    "df.hist(bins=10,\n",
    "        figsize=(10, 8))\n",
    "plt.show()\n"
   ]
  },
  {
   "cell_type": "code",
   "execution_count": 13,
   "metadata": {
    "pycharm": {
     "name": "#%%\n"
    }
   },
   "outputs": [
    {
     "name": "stdout",
     "output_type": "stream",
     "text": [
      "Amount of correlation (Pearsons r) for each column:\n",
      "Result                         1.000000\n",
      "SSLfinal_State                 0.714741\n",
      "URL_of_Anchor                  0.692935\n",
      "Prefix_Suffix                  0.348606\n",
      "web_traffic                    0.346103\n",
      "having_Sub_Domain              0.298323\n",
      "Request_URL                    0.253372\n",
      "Links_in_tags                  0.248229\n",
      "SFH                            0.221419\n",
      "Google_Index                   0.128950\n",
      "age_of_domain                  0.121496\n",
      "Page_Rank                      0.104645\n",
      "having_IP_Address              0.094160\n",
      "Statistical_report             0.079857\n",
      "DNSRecord                      0.075718\n",
      "URL_Length                     0.057430\n",
      "having_At_Symbol               0.052948\n",
      "on_mouseover                   0.041838\n",
      "port                           0.036419\n",
      "Links_pointing_to_page         0.032574\n",
      "Submitting_to_email            0.018249\n",
      "RightClick                     0.012653\n",
      "id                             0.000978\n",
      "popUpWidnow                    0.000086\n",
      "Favicon                       -0.000280\n",
      "Iframe                        -0.003394\n",
      "Redirect                      -0.020113\n",
      "double_slash_redirecting      -0.038608\n",
      "HTTPS_token                   -0.039854\n",
      "Abnormal_URL                  -0.060488\n",
      "Shortining_Service            -0.067966\n",
      "Domain_registeration_length   -0.225789\n",
      "Name: Result, dtype: float64\n"
     ]
    }
   ],
   "source": [
    "# Find the amount of correlation between each column and the quality\n",
    "corrs = df.corr()\n",
    "corr_quality = corrs['Result']\n",
    "print('Amount of correlation (Pearsons r) for each column:')\n",
    "print(corr_quality.sort_values(ascending=False))\n"
   ]
  },
  {
   "cell_type": "code",
   "execution_count": 14,
   "metadata": {
    "pycharm": {
     "name": "#%%\n"
    }
   },
   "outputs": [
    {
     "name": "stdout",
     "output_type": "stream",
     "text": [
      "(11055, 32)\n"
     ]
    }
   ],
   "source": [
    "y = df['Result']\n",
    "X = df.drop('Result', axis=1)\n",
    "X_train, X_test, y_train, y_test = train_test_split(X,\n",
    "                                                    y,\n",
    "                                                    test_size=0.30,\n",
    "                                                    stratify=y,\n",
    "                                                    random_state=15)\n",
    "print(df.shape)"
   ]
  },
  {
   "cell_type": "code",
   "execution_count": 15,
   "metadata": {
    "pycharm": {
     "name": "#%%\n"
    }
   },
   "outputs": [],
   "source": [
    "# Scale the features (attributes)\n",
    "scaler = RobustScaler()\n",
    "X_train = scaler.fit_transform(X_train)\n",
    "X_test = scaler.transform(X_test)"
   ]
  },
  {
   "cell_type": "code",
   "execution_count": 16,
   "metadata": {
    "pycharm": {
     "name": "#%%\n"
    }
   },
   "outputs": [],
   "source": [
    "# print(cross_val_score(decisiontreeclassifier(criterion = 'gini', random_state = 0), x_train, y_train, cv=5))\n",
    "def gridsearch(estimator, param_grid, cv):\n",
    "    # criterion = ['gini', 'entropy']\n",
    "    # hah = dict(criterion=criterion)\n",
    "    clf = gridsearchcv(estimator=estimator,\n",
    "                       param_grid=param_grid,\n",
    "                       n_jobs=-1,\n",
    "                       cv=cv,\n",
    "                       return_train_score=True,\n",
    "                       scoring=make_scorer(mean_squared_error))\n",
    "\n",
    "    clf.fit(X_train, y_train)\n",
    "\n",
    "    ### Output the results\n",
    "\n",
    "    print(f'Best parameters: {clf.best_params_}')\n",
    "    print(f'Best score: {clf.best_score_}')\n",
    "    best_estimate = clf.best_estimator_\n",
    "    print(best_estimate)\n",
    "\n",
    "    ## Now we have found the best parameters, use them...\n",
    "    best_estimate.fit(X_train,y_train)\n",
    "\n",
    "    predictor = best_estimate.predict(X_train)\n",
    "    mse = mean_squared_error(predictor, y_train)\n",
    "    r2 = r2_score(predictor, y_train)\n",
    "    print(f'Training Mean Square Error: {mse:.2f}')\n",
    "    print(f'Training R2: {r2:.2f}')\n",
    "\n",
    "    y_predictor = best_estimate.predict(X_test)\n",
    "    mse = mean_squared_error(y_test, y_predictor)\n",
    "    r2 = r2_score(y_test, y_predictor)\n",
    "    print(f'Testing Mean Square Error: {mse:.2f}')\n",
    "    print(f'Testing R2: {r2:.2f}')\n",
    "    print('blah')\n",
    "\n",
    "    return best_estimate, y_predictor\n"
   ]
  },
  {
   "cell_type": "code",
   "execution_count": 20,
   "metadata": {
    "pycharm": {
     "name": "#%%\n"
    }
   },
   "outputs": [],
   "source": [
    "def cm_and_class_rep(X_test, y_test, y_predictor, best_estimate):\n",
    "    confusion_matrix(y_test, y_predictor)\n",
    "    cm = plot_confusion_matrix(best_estimate,\n",
    "                               X_test,\n",
    "                               y_test,\n",
    "                               cmap=plt.cm.Blues,\n",
    "                               normalize='true' )\n",
    "    plt.show(cm)\n",
    "    plt.show()\n",
    "    plt.savefig('data/charts/dt_class_matrix.png')\n",
    "    print(classification_report(y_test, y_predictor))"
   ]
  },
  {
   "cell_type": "code",
   "execution_count": 18,
   "metadata": {
    "pycharm": {
     "name": "#%%\n"
    }
   },
   "outputs": [],
   "source": [
    "def draw_learning_curve(estimator, X_train, y_train, cv, train_max, title):\n",
    "\n",
    "    # Do the curbe\n",
    "    sizes, \\\n",
    "    training_scores, \\\n",
    "    testing_scores, \\\n",
    "    fit_times, \\\n",
    "    score_times = learning_curve(estimator,\n",
    "                                 X_train,\n",
    "                                 y_train,\n",
    "                                 cv=cv,\n",
    "                                 scoring='recall',\n",
    "                                 return_times=True,\n",
    "                                 train_sizes=np.arange(1, train_max, 10))\n",
    "\n",
    "    # Standard Deviation and Mean of training scores\n",
    "    Standard_Deviation_training = np.std(training_scores, axis=1)\n",
    "    mean_training = np.mean(training_scores, axis=1)\n",
    "    print(f'mean_training = {mean_training}')\n",
    "    print(f'\\nTraining SD = {Standard_Deviation_training}')\n",
    "\n",
    "    # Standard Deviation and Mean of testing scores\n",
    "    Standard_Deviation_testing = np.std(testing_scores, axis=1)\n",
    "    mean_testing = np.mean(testing_scores, axis=1)\n",
    "    print(f'mean_testing = {mean_testing}')\n",
    "    print(f'\\nTesting SD = {Standard_Deviation_testing}')\n",
    "\n",
    "    # Do the plot\n",
    "    plt.plot(sizes, mean_training, '--', label='Training Score', color='r')\n",
    "    plt.plot(sizes, mean_testing, color='b', label='Cross Validation Score')\n",
    "    plt.title(title)\n",
    "    plt.xlabel('Training Set Size'), plt.ylabel('Accuracy'), plt.legend(loc=\"best\")\n",
    "    plt.tight_layout()\n",
    "    plt.savefig('data/charts/dt_learning_curve.png')\n",
    "    plt.show()\n",
    "\n"
   ]
  },
  {
   "cell_type": "code",
   "execution_count": 21,
   "metadata": {
    "pycharm": {
     "name": "#%%\n"
    }
   },
   "outputs": [
    {
     "name": "stdout",
     "output_type": "stream",
     "text": [
      "Best parameters: {'class_weight': None, 'criterion': 'gini', 'max_depth': 1}\n",
      "Best score: 0.4564555966737033\n",
      "DecisionTreeClassifier(max_depth=1)\n",
      "Training Mean Square Error: 0.46\n",
      "Training R2: 0.53\n",
      "Testing Mean Square Error: 0.42\n",
      "Testing R2: 0.58\n",
      "blah\n",
      "              precision    recall  f1-score   support\n",
      "\n",
      "          -1       0.90      0.86      0.88      1470\n",
      "           1       0.89      0.92      0.91      1847\n",
      "\n",
      "    accuracy                           0.90      3317\n",
      "   macro avg       0.90      0.89      0.89      3317\n",
      "weighted avg       0.90      0.90      0.90      3317\n",
      "\n"
     ]
    },
    {
     "data": {
      "image/png": "[encoded data removed]",
      "text/plain": [
       "<Figure size 432x288 with 2 Axes>"
      ]
     },
     "metadata": {
      "needs_background": "light"
     },
     "output_type": "display_data"
    },
    {
     "data": {
      "text/plain": [
       "<Figure size 432x288 with 0 Axes>"
      ]
     },
     "metadata": {},
     "output_type": "display_data"
    }
   ],
   "source": [
    "# Do Decision Tree stuff...\n",
    "\n",
    "# Do a grid search for the Decision Tree\n",
    "criterion = ['gini', 'entropy']\n",
    "max_depth = [count for count in range(1, 60)]\n",
    "class_weight = [None, 'balanced']\n",
    "param_grid = dict(criterion=criterion,\n",
    "                  max_depth=max_depth,\n",
    "                  class_weight=class_weight)\n",
    "\n",
    "best_estimate, y_predictor = gridsearch(estimator=dtc(), param_grid=param_grid, cv=8)\n",
    "\n",
    "cm_and_class_rep(X_test, y_test, y_predictor, best_estimate)\n"
   ]
  },
  {
   "cell_type": "code",
   "execution_count": 28,
   "metadata": {
    "pycharm": {
     "name": "#%%\n"
    }
   },
   "outputs": [
    {
     "name": "stderr",
     "output_type": "stream",
     "text": [
      "/home/poblivsig/.local/lib/python3.8/site-packages/sklearn/metrics/_classification.py:1221: UndefinedMetricWarning: Recall is ill-defined and being set to 0.0 due to no true samples. Use `zero_division` parameter to control this behavior.\n",
      "  _warn_prf(average, modifier, msg_start, len(result))\n"
     ]
    },
    {
     "name": "stdout",
     "output_type": "stream",
     "text": [
      "mean_training = [0.875      0.825      0.96875    0.9375     0.90789474 0.92708333\n",
      " 0.9125     0.92279412 0.90789474 0.91860465 0.88843202 0.89880952\n",
      " 0.90500585 0.91058612 0.91893585 0.91432524 0.91916369 0.9222512\n",
      " 0.91703677 0.92103821 0.92480942 0.91934893 0.91484046 0.90987762\n",
      " 0.91327277 0.91733156 0.91271547 0.91786353 0.92031539 0.92168809\n",
      " 0.92533422 0.92806278 0.92872621 0.92668349 0.9241081  0.91645833\n",
      " 0.91038629 0.90763534 0.90994053 0.91135292 0.91413101 0.91219519\n",
      " 0.91128123 0.91316197 0.91394124 0.91652388 0.91509197 0.91586424\n",
      " 0.91726267 0.91930851 0.91708375 0.91502857 0.91623711 0.91737288\n",
      " 0.91809922 0.91703766 0.91844443 0.9200219  0.91864446 0.91761747\n",
      " 0.91394659 0.91283889 0.91452497 0.91316042 0.91131039 0.91223722\n",
      " 0.9112452  0.91198107 0.90866247 0.9093054  0.91064815 0.91052297\n",
      " 0.90978753 0.9106394  0.90807831 0.9091106  0.90731688 0.90408367\n",
      " 0.90499538 0.90402299 0.90475807 0.90384312 0.9028664  0.90217063\n",
      " 0.90304092 0.90376861 0.90528581 0.90424033 0.90335137 0.90214728]\n",
      "\n",
      "Training SD = [3.30718914e-01 6.61437828e-02 8.26797285e-02 2.36227796e-02\n",
      " 3.48125173e-02 2.75599095e-02 3.30718914e-02 2.91810806e-02\n",
      " 3.48125173e-02 3.07645501e-02 3.55377780e-02 2.62475328e-02\n",
      " 8.90694967e-03 3.95596787e-03 2.98343157e-03 1.97107910e-03\n",
      " 1.47906491e-03 2.38882041e-03 5.67024785e-03 4.88483244e-03\n",
      " 4.58376873e-03 5.07386199e-03 4.75437429e-03 2.08144771e-03\n",
      " 1.51959401e-03 1.75914316e-03 2.52298722e-03 4.23201832e-03\n",
      " 5.99330351e-03 4.97080238e-03 5.12879599e-03 4.66122656e-03\n",
      " 6.10711392e-03 3.95091005e-03 3.76705404e-03 5.51198190e-04\n",
      " 2.21860103e-03 2.04408536e-03 2.24787707e-03 2.58108243e-03\n",
      " 2.35206404e-03 1.82759998e-03 2.71140740e-03 7.90804070e-04\n",
      " 1.83325340e-03 2.11384304e-03 7.74258327e-04 2.95502478e-03\n",
      " 4.11816053e-03 4.11361445e-03 5.10717840e-03 3.56577860e-03\n",
      " 3.40947334e-03 3.36324319e-03 4.32109885e-03 3.34156151e-03\n",
      " 3.09478083e-03 2.94668613e-03 1.61442743e-03 8.35156441e-04\n",
      " 0.00000000e+00 8.00197093e-04 6.55494676e-04 6.54575344e-04\n",
      " 1.41637149e-03 2.13316070e-03 1.37447119e-03 3.11357942e-03\n",
      " 2.37656375e-03 3.12339767e-03 3.15015264e-03 4.65052711e-03\n",
      " 4.08112109e-03 4.11604443e-03 2.67909111e-03 3.35152184e-03\n",
      " 4.13165899e-03 3.24926122e-03 3.13021307e-03 1.95498865e-03\n",
      " 1.71267685e-03 1.02788441e-03 5.74924723e-04 5.70114920e-04\n",
      " 4.89160247e-04 2.05160617e-04 4.66648411e-04 3.32226935e-04\n",
      " 1.56598484e-04 2.81688399e-04]\n",
      "mean_testing = [0.875      0.6566261  0.9011805  0.91322737 0.91322737 0.91276355\n",
      " 0.91322737 0.91322737 0.91322737 0.91322737 0.91322737 0.91322737\n",
      " 0.91090826 0.91090826 0.91090826 0.91090826 0.91090826 0.90533981\n",
      " 0.90533981 0.90533981 0.90533981 0.90533981 0.90533981 0.90533981\n",
      " 0.90533981 0.90533981 0.90487599 0.90487599 0.90487599 0.90487599\n",
      " 0.90487599 0.90487599 0.90487599 0.90487599 0.90487599 0.90487599\n",
      " 0.90487599 0.90487599 0.90487599 0.90487599 0.90487599 0.90487599\n",
      " 0.90487599 0.90487599 0.90487599 0.90487599 0.90487599 0.90487599\n",
      " 0.90487599 0.90487599 0.90487599 0.90487599 0.90487599 0.90487599\n",
      " 0.90487599 0.90487599 0.90487599 0.90487599 0.90487599 0.90487599\n",
      " 0.90487599 0.90487599 0.90487599 0.90487599 0.90487599 0.90487599\n",
      " 0.90487599 0.90487599 0.90487599 0.90487599 0.90487599 0.90487599\n",
      " 0.90487599 0.90487599 0.90487599 0.90487599 0.90487599 0.90487599\n",
      " 0.90487599 0.90487599 0.90487599 0.90487599 0.90487599 0.90487599\n",
      " 0.90487599 0.90487599 0.90487599 0.90487599 0.90487599 0.90487599]\n",
      "\n",
      "Testing SD = [0.33071891 0.03321464 0.09886773 0.00559055 0.00559055 0.0049548\n",
      " 0.00559055 0.00559055 0.00559055 0.00559055 0.00559055 0.00559055\n",
      " 0.00527744 0.00527744 0.00527744 0.00527744 0.00527744 0.0046666\n",
      " 0.0046666  0.0046666  0.0046666  0.0046666  0.0046666  0.0046666\n",
      " 0.0046666  0.0046666  0.00499665 0.00499665 0.00499665 0.00499665\n",
      " 0.00499665 0.00499665 0.00499665 0.00499665 0.00499665 0.00499665\n",
      " 0.00499665 0.00499665 0.00499665 0.00499665 0.00499665 0.00499665\n",
      " 0.00499665 0.00499665 0.00499665 0.00499665 0.00499665 0.00499665\n",
      " 0.00499665 0.00499665 0.00499665 0.00499665 0.00499665 0.00499665\n",
      " 0.00499665 0.00499665 0.00499665 0.00499665 0.00499665 0.00499665\n",
      " 0.00499665 0.00499665 0.00499665 0.00499665 0.00499665 0.00499665\n",
      " 0.00499665 0.00499665 0.00499665 0.00499665 0.00499665 0.00499665\n",
      " 0.00499665 0.00499665 0.00499665 0.00499665 0.00499665 0.00499665\n",
      " 0.00499665 0.00499665 0.00499665 0.00499665 0.00499665 0.00499665\n",
      " 0.00499665 0.00499665 0.00499665 0.00499665 0.00499665 0.00499665]\n"
     ]
    },
    {
     "data": {
      "image/png": "[encoded data removed]",
      "text/plain": [
       "<Figure size 432x288 with 1 Axes>"
      ]
     },
     "metadata": {
      "needs_background": "light"
     },
     "output_type": "display_data"
    }
   ],
   "source": [
    "# Decision Tree learning curve\n",
    "\n",
    "# Best depth\n",
    "draw_learning_curve(dtc(criterion='entropy',\n",
    "                        max_depth=2),\n",
    "                        X_train,\n",
    "                        y_train,\n",
    "                        cv=8,\n",
    "                        train_max=900,\n",
    "                        title = 'DT Learning Curve vs Training Set Size using Max Depth = 2')"
   ]
  },
  {
   "cell_type": "code",
   "execution_count": 31,
   "metadata": {
    "pycharm": {
     "name": "#%%\n"
    }
   },
   "outputs": [
    {
     "name": "stderr",
     "output_type": "stream",
     "text": [
      "/home/poblivsig/.local/lib/python3.8/site-packages/sklearn/metrics/_classification.py:1221: UndefinedMetricWarning: Recall is ill-defined and being set to 0.0 due to no true samples. Use `zero_division` parameter to control this behavior.\n",
      "  _warn_prf(average, modifier, msg_start, len(result))\n"
     ]
    },
    {
     "name": "stdout",
     "output_type": "stream",
     "text": [
      "mean_training = [0.875      1.         1.         1.         1.         1.\n",
      " 1.         1.         0.99671053 0.99754902 0.99780702 0.99603175\n",
      " 0.99464286 0.99671053 0.97640327 0.9664751  0.9887714  0.99489796\n",
      " 0.99029126 0.96876787 0.96349835 0.96541323 0.96507714 0.97349809\n",
      " 0.96470343 0.96639265 0.95935735 0.96483221 0.96864085 0.96374961\n",
      " 0.95935829 0.96438252 0.96436311 0.98993014 0.96702396 0.96640625\n",
      " 0.96306347 0.96333298 0.96602088 0.96656304 0.96361175 0.9602422\n",
      " 0.96151783 0.95567111 0.96282252 0.96393533 0.96477083 0.96501482\n",
      " 0.96532298 0.99135801 0.98897133 0.98910541 0.98926117 0.98940678\n",
      " 0.9878874  0.98242393 0.98272735 0.98306394 0.98063755 0.97836183\n",
      " 0.95808605 0.95330361 0.95471888 0.92126297 0.93203521 0.93979187\n",
      " 0.95249106 0.95290775 0.95148221 0.97851646 0.97883305 0.96360654\n",
      " 0.96204502 0.96272083 0.95085331 0.95125356 0.94732012 0.94467218\n",
      " 0.94519625 0.94775588 0.94815415 0.9487175  0.94537099 0.96680482\n",
      " 0.9671057  0.95054625 0.951324   0.96614797 0.96645617 0.96497196]\n",
      "\n",
      "Training SD = [3.30718914e-01 0.00000000e+00 0.00000000e+00 0.00000000e+00\n",
      " 0.00000000e+00 0.00000000e+00 0.00000000e+00 0.00000000e+00\n",
      " 8.70312931e-03 6.48468459e-03 5.80208621e-03 1.04990131e-02\n",
      " 1.41736677e-02 8.70312931e-03 8.97287240e-03 7.40346117e-03\n",
      " 1.73779048e-02 1.34987312e-02 2.56869059e-02 2.45817375e-03\n",
      " 2.02545281e-02 1.86891499e-02 2.33776063e-02 4.52031573e-03\n",
      " 9.39385386e-03 8.74240843e-03 1.64841692e-02 1.75053320e-02\n",
      " 1.06843466e-02 1.16499167e-02 1.13187222e-02 1.40162757e-03\n",
      " 3.05355696e-03 1.20249248e-02 2.80752141e-03 6.20097964e-03\n",
      " 4.65824348e-03 6.22623701e-03 1.28661385e-03 1.10617819e-03\n",
      " 3.74192007e-04 1.72535662e-04 5.45920954e-05 1.84792304e-02\n",
      " 1.56659836e-03 1.67104300e-03 1.62393143e-03 2.70638192e-03\n",
      " 3.88048645e-03 1.33474587e-02 1.23104626e-03 1.16844722e-03\n",
      " 1.13649111e-03 1.12108106e-03 5.50092106e-03 3.27069064e-03\n",
      " 3.16294781e-03 3.07750460e-03 1.92851837e-03 9.56633742e-04\n",
      " 9.81361762e-04 7.84362805e-03 7.05749268e-03 6.00203360e-03\n",
      " 2.39634743e-03 1.12583481e-03 8.71299394e-03 7.69319399e-03\n",
      " 8.36532402e-03 2.70709149e-03 2.68758774e-03 3.17627838e-03\n",
      " 3.84662119e-03 4.61740937e-03 9.22014690e-03 8.30858585e-03\n",
      " 8.98202928e-03 2.63061349e-04 3.07336471e-04 2.37908672e-04\n",
      " 1.16543100e-04 1.52279173e-04 1.15638268e-03 7.47800736e-03\n",
      " 7.37312017e-03 8.16083341e-04 9.43666787e-04 7.05621121e-03\n",
      " 7.08964044e-03 6.28360358e-03]\n",
      "mean_testing = [0.875      0.69631218 0.80927911 0.82320023 0.83737353 0.8596262\n",
      " 0.9125394  0.90278836 0.87031307 0.877498   0.88445619 0.87332231\n",
      " 0.90070246 0.91416019 0.88956082 0.90789471 0.92274219 0.92715065\n",
      " 0.92158781 0.91670733 0.90557819 0.90719941 0.90766323 0.91949069\n",
      " 0.91183332 0.9095155  0.90464279 0.90812619 0.91206523 0.90441303\n",
      " 0.9037173  0.90835552 0.90069772 0.93712455 0.91299891 0.91647671\n",
      " 0.91647671 0.91647671 0.92065111 0.92065111 0.92065111 0.92065111\n",
      " 0.92065111 0.91346187 0.91461927 0.91183203 0.9271485  0.92552469\n",
      " 0.91322737 0.96427063 0.96380551 0.97006797 0.968911   0.9703029\n",
      " 0.9635736  0.95034907 0.95127672 0.9501163  0.95127672 0.94988439\n",
      " 0.93573437 0.93480759 0.93527141 0.87564401 0.87517544 0.88167153\n",
      " 0.91206609 0.91137036 0.91137036 0.96519827 0.96519827 0.94176492\n",
      " 0.94199683 0.94269256 0.93433903 0.93433903 0.92923526 0.93318249\n",
      " 0.9334144  0.9392139  0.9392139  0.9392139  0.93712584 0.9614864\n",
      " 0.95916686 0.9394471  0.9394471  0.95916686 0.95916686 0.95916686]\n",
      "\n",
      "Testing SD = [0.33071891 0.07017639 0.01867401 0.01775994 0.03306645 0.02853167\n",
      " 0.03330315 0.01985441 0.0291293  0.01302098 0.02861257 0.01411515\n",
      " 0.01766724 0.02907839 0.0178362  0.02319061 0.02734983 0.02737892\n",
      " 0.04351562 0.01266077 0.03079228 0.03151052 0.03002526 0.0115796\n",
      " 0.00759184 0.01046894 0.02188717 0.02274145 0.00859817 0.01413245\n",
      " 0.0155078  0.00983475 0.01161028 0.01591205 0.01249782 0.01211379\n",
      " 0.01211379 0.01211379 0.01138479 0.01138479 0.01138479 0.01138479\n",
      " 0.01138479 0.01763056 0.01134899 0.01106433 0.00821506 0.01054391\n",
      " 0.01280308 0.01427065 0.00635829 0.00916275 0.00888085 0.00945654\n",
      " 0.00693622 0.00522114 0.00488457 0.00485802 0.00554465 0.00434864\n",
      " 0.00827089 0.00985362 0.00869508 0.02071331 0.01904377 0.01732184\n",
      " 0.02013242 0.01873192 0.01873192 0.0078545  0.0078545  0.00812603\n",
      " 0.00703795 0.00766583 0.00849671 0.00849671 0.01144767 0.00703277\n",
      " 0.00724089 0.00503148 0.00503148 0.00503148 0.00517037 0.00892811\n",
      " 0.00908052 0.00678342 0.00678342 0.00908052 0.00908052 0.00908052]\n"
     ]
    },
    {
     "data": {
      "image/png": "[encoded data removed]",
      "text/plain": [
       "<Figure size 432x288 with 1 Axes>"
      ]
     },
     "metadata": {
      "needs_background": "light"
     },
     "output_type": "display_data"
    }
   ],
   "source": [
    "# Comparison depth\n",
    "draw_learning_curve(dtc(criterion='entropy',\n",
    "                        max_depth=5),\n",
    "                        X_train,\n",
    "                        y_train,\n",
    "                        cv=8,\n",
    "                        train_max=900,\n",
    "                        title = 'DT Learning Curve vs Training Set Size using Max Depth = 5')"
   ]
  },
  {
   "cell_type": "code",
   "execution_count": 33,
   "metadata": {
    "pycharm": {
     "name": "#%%\n"
    }
   },
   "outputs": [
    {
     "name": "stderr",
     "output_type": "stream",
     "text": [
      "/home/poblivsig/.local/lib/python3.8/site-packages/sklearn/metrics/_classification.py:1221: UndefinedMetricWarning: Recall is ill-defined and being set to 0.0 due to no true samples. Use `zero_division` parameter to control this behavior.\n",
      "  _warn_prf(average, modifier, msg_start, len(result))\n"
     ]
    },
    {
     "name": "stdout",
     "output_type": "stream",
     "text": [
      "mean_training = [0.875      0.825      0.96875    0.9375     0.90789474 0.92708333\n",
      " 0.97083333 0.97426471 0.95394737 0.95930233 0.94311952 0.94742063\n",
      " 0.95161007 0.95364833 0.95794353 0.91719881 0.95243419 0.95429661\n",
      " 0.956698   0.95875024 0.95846327 0.96053697 0.9615007  0.95422759\n",
      " 0.95587928 0.95799081 0.96181377 0.96397092 0.96540477 0.9660362\n",
      " 0.9676025  0.96879723 0.96870878 0.96993868 0.96639265 0.94424479\n",
      " 0.95928225 0.96025149 0.96125017 0.9618675  0.96305865 0.96356803\n",
      " 0.96098135 0.96149738 0.96127293 0.96241712 0.95992323 0.96075508\n",
      " 0.96115787 0.96211492 0.95941273 0.95990747 0.9604811  0.96101695\n",
      " 0.9611427  0.9591289  0.95982769 0.96060738 0.95855771 0.95672366\n",
      " 0.9365727  0.93509486 0.93664938 0.93491221 0.95236938 0.95271067\n",
      " 0.95109422 0.95186814 0.95011522 0.95031936 0.95105402 0.95101781\n",
      " 0.94963645 0.95011156 0.91333821 0.91428092 0.91243737 0.90913118\n",
      " 0.90998364 0.90890805 0.90957667 0.9086184  0.90763097 0.90686158\n",
      " 0.90768066 0.9083385  0.90981673 0.90870462 0.90779698 0.90679604]\n",
      "\n",
      "Training SD = [0.33071891 0.06614378 0.08267973 0.02362278 0.03481252 0.02755991\n",
      " 0.01102396 0.00972703 0.01740626 0.01538228 0.01486785 0.00787426\n",
      " 0.0020912  0.00237358 0.00254144 0.00957381 0.00278909 0.00200964\n",
      " 0.00198117 0.00223757 0.00813619 0.00731758 0.00983344 0.01177385\n",
      " 0.01174232 0.01092801 0.00586036 0.00654039 0.00618357 0.00560018\n",
      " 0.00554146 0.00519363 0.00676145 0.00644773 0.00447782 0.00406509\n",
      " 0.00136718 0.00140971 0.00124964 0.00104945 0.00108917 0.00273501\n",
      " 0.00147399 0.00306437 0.00566642 0.00568787 0.0042735  0.00399263\n",
      " 0.00513742 0.00506358 0.00490755 0.00466976 0.00454596 0.00448432\n",
      " 0.00547143 0.00437982 0.00419909 0.00406845 0.00282996 0.00191327\n",
      " 0.00490681 0.00568903 0.00526581 0.0051627  0.00211307 0.00289359\n",
      " 0.0020569  0.00201987 0.00208795 0.0028767  0.00287604 0.00360653\n",
      " 0.00291685 0.00293137 0.0112373  0.01032785 0.00941586 0.01010518\n",
      " 0.01006749 0.01096966 0.01103612 0.01160632 0.01203095 0.01184097\n",
      " 0.01178643 0.01188564 0.01152103 0.01147916 0.01191857 0.01258115]\n",
      "mean_testing = [0.875      0.58843006 0.90187279 0.9053424  0.91322737 0.91276355\n",
      " 0.93712282 0.93712282 0.93712282 0.93712282 0.93712282 0.93712282\n",
      " 0.93712282 0.93712282 0.93155437 0.90765892 0.93155437 0.93155437\n",
      " 0.93155437 0.93155437 0.93109055 0.93109055 0.93109055 0.93109055\n",
      " 0.93109055 0.93109055 0.93364157 0.93364157 0.93364157 0.93364157\n",
      " 0.93364157 0.93364157 0.93364157 0.93364157 0.93364157 0.92343533\n",
      " 0.93364157 0.93364157 0.93364157 0.93364157 0.93364157 0.93364157\n",
      " 0.93364157 0.93364157 0.93364157 0.93364157 0.93364157 0.93364157\n",
      " 0.93364157 0.93364157 0.93364157 0.93364157 0.93364157 0.93364157\n",
      " 0.93364157 0.93364157 0.93364157 0.93364157 0.93364157 0.93364157\n",
      " 0.92343533 0.92343533 0.92343533 0.92343533 0.93364157 0.93364157\n",
      " 0.93364157 0.93364157 0.93364157 0.93364157 0.93364157 0.93364157\n",
      " 0.93364157 0.93364157 0.90974612 0.90974612 0.90974612 0.90974612\n",
      " 0.90974612 0.90974612 0.90974612 0.90974612 0.90974612 0.90974612\n",
      " 0.90974612 0.90974612 0.90974612 0.90974612 0.90974612 0.90974612]\n",
      "\n",
      "Testing SD = [0.33071891 0.14948235 0.09916263 0.01808013 0.00559055 0.0049548\n",
      " 0.00645738 0.00645738 0.00645738 0.00645738 0.00645738 0.00645738\n",
      " 0.00645738 0.00645738 0.00477292 0.00714197 0.00477292 0.00477292\n",
      " 0.00477292 0.00477292 0.0057513  0.0057513  0.0057513  0.0057513\n",
      " 0.0057513  0.0057513  0.00370365 0.00370365 0.00370365 0.00370365\n",
      " 0.00370365 0.00370365 0.00370365 0.00370365 0.00370365 0.00832404\n",
      " 0.00370365 0.00370365 0.00370365 0.00370365 0.00370365 0.00370365\n",
      " 0.00370365 0.00370365 0.00370365 0.00370365 0.00370365 0.00370365\n",
      " 0.00370365 0.00370365 0.00370365 0.00370365 0.00370365 0.00370365\n",
      " 0.00370365 0.00370365 0.00370365 0.00370365 0.00370365 0.00370365\n",
      " 0.00832404 0.00832404 0.00832404 0.00832404 0.00370365 0.00370365\n",
      " 0.00370365 0.00370365 0.00370365 0.00370365 0.00370365 0.00370365\n",
      " 0.00370365 0.00370365 0.01190349 0.01190349 0.01190349 0.01190349\n",
      " 0.01190349 0.01190349 0.01190349 0.01190349 0.01190349 0.01190349\n",
      " 0.01190349 0.01190349 0.01190349 0.01190349 0.01190349 0.01190349]\n"
     ]
    },
    {
     "data": {
      "image/png": "[encoded data removed]",
      "text/plain": [
       "<Figure size 432x288 with 1 Axes>"
      ]
     },
     "metadata": {
      "needs_background": "light"
     },
     "output_type": "display_data"
    }
   ],
   "source": [
    "# Comparison criterion gini\n",
    "draw_learning_curve(dtc(criterion='gini',\n",
    "                        max_depth=2),\n",
    "                        X_train,\n",
    "                        y_train,\n",
    "                        cv=8,\n",
    "                        train_max=900,\n",
    "                        title = 'DT Learning Curve vs Training Set Size using Gini')\n"
   ]
  },
  {
   "cell_type": "code",
   "execution_count": null,
   "metadata": {
    "pycharm": {
     "name": "#%%\n"
    }
   },
   "outputs": [],
   "source": []
  }
 ],
 "metadata": {
  "kernelspec": {
   "display_name": "PyCharm (horses2)",
   "language": "python",
   "name": "pycharm-f2a26db1"
  },
  "language_info": {
   "codemirror_mode": {
    "name": "ipython",
    "version": 3
   },
   "file_extension": ".py",
   "mimetype": "text/x-python",
   "name": "python",
   "nbconvert_exporter": "python",
   "pygments_lexer": "ipython3",
   "version": "3.8.6"
  }
 },
 "nbformat": 4,
 "nbformat_minor": 1
}
